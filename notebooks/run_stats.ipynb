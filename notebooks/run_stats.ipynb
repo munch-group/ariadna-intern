{
 "cells": [
  {
   "cell_type": "code",
   "execution_count": 1,
   "id": "56e39721-4f3a-4357-ab96-48ca9de02787",
   "metadata": {},
   "outputs": [],
   "source": [
    "import os\n",
    "import sys\n",
    "from collections import defaultdict\n",
    "from functools import partial\n",
    "import itertools\n",
    "import matplotlib.pyplot as plt\n",
    "import seaborn as sns\n",
    "import pandas as pd\n",
    "from pandas.errors import SettingWithCopyWarning\n",
    "import numpy as np\n",
    "from matplotlib_inline.backend_inline import set_matplotlib_formats\n",
    "set_matplotlib_formats('retina', 'png')\n",
    "\n",
    "from tqdm.notebook import tqdm \n",
    "from math import factorial, log, log10, log1p, floor, ceil\n",
    "from scipy.stats import chi2\n",
    "\n",
    "import multiprocess\n",
    "\n",
    "sns.set()\n",
    "sns.set_style(\"ticks\")\n",
    "\n",
    "import tskit\n",
    "import msprime\n",
    "\n",
    "import geneinfo as gi\n",
    "gi.email('kaspermunch@birc.au.dk')\n",
    "\n",
    "# scale down size of default plots\n",
    "sns.set_context(\"paper\")\n",
    "import matplotlib as mpl\n",
    "scale = 0.8\n",
    "d = dict([(k, v*scale) for (k, v) in sns.plotting_context('paper').items()])\n",
    "d['figure.figsize'] = [5.4, 3.5]\n",
    "mpl.rcParams.update(d)\n",
    "\n",
    "def modpath(p, parent=None, base=None, suffix=None):\n",
    "    par, name = os.path.split(p)\n",
    "    name_no_suffix, suf = os.path.splitext(name)\n",
    "    if type(suffix) is str:\n",
    "        suf = suffix\n",
    "    if parent is not None:\n",
    "        par = parent\n",
    "    if base is not None:\n",
    "        name_no_suffix = base\n",
    "    new_path = os.path.join(par, name_no_suffix + suf)\n",
    "    if type(suffix) is tuple:\n",
    "        assert len(suffix) == 2\n",
    "        new_path, nsubs = re.subn(r'{}$'.format(suffix[0]), suffix[1], new_path)\n",
    "        assert nsubs == 1, nsubs\n",
    "    return new_path"
   ]
  },
  {
   "cell_type": "code",
   "execution_count": 2,
   "id": "70f88dd6-5659-478a-b7b3-9a0849f6678a",
   "metadata": {},
   "outputs": [],
   "source": [
    "import scipy\n",
    "\n",
    "class Comb():\n",
    "\n",
    "    cache = {}\n",
    "    \n",
    "    def __init__(self):\n",
    "        pass\n",
    "\n",
    "    def __call__(self, n, k, exact=True):\n",
    "        if (n, k) not in self.cache:\n",
    "            self.cache[(n, k)] = scipy.special.comb(n, k, exact=exact)\n",
    "        return self.cache[(n, k)]\n",
    "\n",
    "    @classmethod\n",
    "    def clear(cls):\n",
    "        cls.cache = {}\n",
    "\n",
    "    def __enter__(self):\n",
    "\n",
    "        def init_worker(data):\n",
    "            # declare scope of a new global variable\n",
    "            global comb\n",
    "            # store argument in the global variable for this process\n",
    "            comb = data\n",
    "            \n",
    "        self.pool = multiprocess.Pool(processes=8, initializer=init_worker, initargs=(self,))\n",
    "        return self.pool\n",
    "\n",
    "    def __exit__(self, type, value, tb):\n",
    "        self.pool.close()\n",
    "\n",
    "Comb().clear()\n",
    "comb = Comb()\n",
    "\n",
    "with Comb() as pool:\n",
    "    pass"
   ]
  },
  {
   "cell_type": "code",
   "execution_count": 3,
   "id": "8d4c9227-508d-4aa9-b9c7-9e908410d851",
   "metadata": {},
   "outputs": [],
   "source": [
    "def get_coalescence_runs(all_times, clade_times):\n",
    "    clade_times_set = set(clade_times)\n",
    "    k, fn = 1, 1\n",
    "    coalescence_runs = []\n",
    "    first_derived_coal_found = False\n",
    "    for t in all_times:\n",
    "        is_derived = int( t in clade_times_set)\n",
    "        if first_derived_coal_found:\n",
    "            coalescence_runs.append(is_derived)\n",
    "        if is_derived:\n",
    "            # get all the coalescences *after* the first derived one. So that the first can be both 0 and 1\n",
    "            first_derived_coal_found = True\n",
    "    return np.array(coalescence_runs)\n",
    "\n",
    "def get_runs_of_1s(bits):\n",
    "    for bit, group in itertools.groupby(bits):\n",
    "        if bit:\n",
    "            yield sum(group)\n",
    "\n",
    "def get_all_runs(bits):\n",
    "    for bit, group in itertools.groupby(bits):\n",
    "        if bit:\n",
    "            yield sum(group)\n",
    "    bits = np.absolute(bits - 1)\n",
    "    for bit, group in itertools.groupby(bits):\n",
    "        if bit:\n",
    "            yield sum(group)"
   ]
  },
  {
   "cell_type": "code",
   "execution_count": 4,
   "id": "96fe585b-bfe4-4495-8ac5-93da2613b5c3",
   "metadata": {},
   "outputs": [],
   "source": [
    "def prob_nr_of_runs(n, n1, n2):\n",
    "    \"\"\"\n",
    "    Probability of the number runs of either zeros or ones\n",
    "    n: number of runs\n",
    "    n0: nr zeros\n",
    "    n1: nr ones\n",
    "    \"\"\"\n",
    "    if n % 2:\n",
    "        # uneven\n",
    "        k = (n - 1) //  2\n",
    "        return (comb(n1-1, k)*comb(n2-1, k-1) + comb(n1-1, k-1)*comb(n2-1, k)) / comb(n1+n2, n1)\n",
    "    else:\n",
    "        # even\n",
    "        k = n // 2\n",
    "        return 2*comb(n1-1, k-1)*comb(n2-1, k-1) / comb(n1+n2, n1)    "
   ]
  },
  {
   "cell_type": "code",
   "execution_count": 5,
   "id": "16d10326-491c-42a6-827b-8f38059eecac",
   "metadata": {},
   "outputs": [
    {
     "data": {
      "application/vnd.jupyter.widget-view+json": {
       "model_id": "4973b2117bc445e8a017583331cc7fa1",
       "version_major": 2,
       "version_minor": 0
      },
      "text/plain": [
       "  0%|          | 0/200 [00:00<?, ?it/s]"
      ]
     },
     "metadata": {},
     "output_type": "display_data"
    },
    {
     "name": "stdout",
     "output_type": "stream",
     "text": [
      "CPU times: user 17.3 s, sys: 121 ms, total: 17.4 s\n",
      "Wall time: 17.9 s\n"
     ]
    }
   ],
   "source": [
    "%%time\n",
    "import multiprocess\n",
    "pool = multiprocess.Pool(processes=8)\n",
    "\n",
    "n = 200\n",
    "dim = 2*n+1\n",
    "cache = np.ndarray(shape=(n+1, n+1, 2*n+1), dtype=float)\n",
    "cache[:, :, :] = np.nan\n",
    "for n0 in tqdm(range(1, n+1)):\n",
    "    for n1 in range(1, n+1):\n",
    "        for r in range(1, n0+n1):\n",
    "            cache[n0, n1, r] = prob_nr_of_runs(r, n0, n1)\n",
    "\n",
    "pool.close()\n",
    "\n",
    "np.save('prob_nr_of_runs_cache.npy', cache)"
   ]
  },
  {
   "cell_type": "code",
   "execution_count": null,
   "id": "ff14f7c8-8116-4c11-b22a-dfe33d7d7ad0",
   "metadata": {},
   "outputs": [
    {
     "name": "stdout",
     "output_type": "stream",
     "text": [
      "1000g_ppl_phased_haplotypes.trees\n"
     ]
    },
    {
     "data": {
      "application/vnd.jupyter.widget-view+json": {
       "model_id": "27893cb4338e4bd9a12cdbaa3cedeece",
       "version_major": 2,
       "version_minor": 0
      },
      "text/plain": [
       "  0%|          | 0/13348 [00:00<?, ?it/s]"
      ]
     },
     "metadata": {},
     "output_type": "display_data"
    },
    {
     "name": "stdout",
     "output_type": "stream",
     "text": [
      "1000g_ppl_phased_haplotypes.trees\n"
     ]
    },
    {
     "data": {
      "application/vnd.jupyter.widget-view+json": {
       "model_id": "98bcc6a681834036aeafb9b84b97b630",
       "version_major": 2,
       "version_minor": 0
      },
      "text/plain": [
       "  0%|          | 0/13024 [00:00<?, ?it/s]"
      ]
     },
     "metadata": {},
     "output_type": "display_data"
    },
    {
     "name": "stdout",
     "output_type": "stream",
     "text": [
      "1000g_ppl_phased_haplotypes.trees\n"
     ]
    },
    {
     "data": {
      "application/vnd.jupyter.widget-view+json": {
       "model_id": "20054f6f1f084b1c82e9e169cc84e207",
       "version_major": 2,
       "version_minor": 0
      },
      "text/plain": [
       "  0%|          | 0/12803 [00:00<?, ?it/s]"
      ]
     },
     "metadata": {},
     "output_type": "display_data"
    },
    {
     "name": "stdout",
     "output_type": "stream",
     "text": [
      "1000g_ppl_phased_haplotypes.trees\n"
     ]
    },
    {
     "data": {
      "application/vnd.jupyter.widget-view+json": {
       "model_id": "e8964452ba824e989e88a7b78f26f19c",
       "version_major": 2,
       "version_minor": 0
      },
      "text/plain": [
       "  0%|          | 0/12515 [00:00<?, ?it/s]"
      ]
     },
     "metadata": {},
     "output_type": "display_data"
    },
    {
     "name": "stdout",
     "output_type": "stream",
     "text": [
      "1000g_ppl_phased_haplotypes.trees\n"
     ]
    },
    {
     "data": {
      "application/vnd.jupyter.widget-view+json": {
       "model_id": "dc143b06f4c24de09a1d7b3c18f7f587",
       "version_major": 2,
       "version_minor": 0
      },
      "text/plain": [
       "  0%|          | 0/13196 [00:00<?, ?it/s]"
      ]
     },
     "metadata": {},
     "output_type": "display_data"
    },
    {
     "name": "stdout",
     "output_type": "stream",
     "text": [
      "1000g_ppl_phased_haplotypes.trees\n"
     ]
    },
    {
     "data": {
      "application/vnd.jupyter.widget-view+json": {
       "model_id": "72e2f237005f47b09f93a62c5ce1f195",
       "version_major": 2,
       "version_minor": 0
      },
      "text/plain": [
       "  0%|          | 0/5050 [00:00<?, ?it/s]"
      ]
     },
     "metadata": {},
     "output_type": "display_data"
    },
    {
     "name": "stdout",
     "output_type": "stream",
     "text": [
      "1000g_ppl_phased_haplotypes.trees\n"
     ]
    },
    {
     "data": {
      "application/vnd.jupyter.widget-view+json": {
       "model_id": "e8a41b2b056d4c2e9bffa72f2e5bb634",
       "version_major": 2,
       "version_minor": 0
      },
      "text/plain": [
       "  0%|          | 0/5428 [00:00<?, ?it/s]"
      ]
     },
     "metadata": {},
     "output_type": "display_data"
    },
    {
     "name": "stdout",
     "output_type": "stream",
     "text": [
      "1000g_ppl_phased_haplotypes.trees\n"
     ]
    },
    {
     "data": {
      "application/vnd.jupyter.widget-view+json": {
       "model_id": "e0cc00cc310547d89e0b9315e3c6f536",
       "version_major": 2,
       "version_minor": 0
      },
      "text/plain": [
       "  0%|          | 0/6379 [00:00<?, ?it/s]"
      ]
     },
     "metadata": {},
     "output_type": "display_data"
    },
    {
     "name": "stdout",
     "output_type": "stream",
     "text": [
      "1000g_ppl_phased_haplotypes.trees\n"
     ]
    },
    {
     "data": {
      "application/vnd.jupyter.widget-view+json": {
       "model_id": "e913d1a0db844ba28877d9e593736915",
       "version_major": 2,
       "version_minor": 0
      },
      "text/plain": [
       "  0%|          | 0/5924 [00:00<?, ?it/s]"
      ]
     },
     "metadata": {},
     "output_type": "display_data"
    },
    {
     "name": "stdout",
     "output_type": "stream",
     "text": [
      "1000g_ppl_phased_haplotypes.trees\n"
     ]
    },
    {
     "data": {
      "application/vnd.jupyter.widget-view+json": {
       "model_id": "c4e739198bb14231b8144b61e38947e4",
       "version_major": 2,
       "version_minor": 0
      },
      "text/plain": [
       "  0%|          | 0/4680 [00:00<?, ?it/s]"
      ]
     },
     "metadata": {},
     "output_type": "display_data"
    },
    {
     "name": "stdout",
     "output_type": "stream",
     "text": [
      "1000g_ppl_phased_haplotypes.trees\n"
     ]
    },
    {
     "data": {
      "application/vnd.jupyter.widget-view+json": {
       "model_id": "28b2816507d74c34ac1aa302ba925f5e",
       "version_major": 2,
       "version_minor": 0
      },
      "text/plain": [
       "  0%|          | 0/4831 [00:00<?, ?it/s]"
      ]
     },
     "metadata": {},
     "output_type": "display_data"
    },
    {
     "name": "stdout",
     "output_type": "stream",
     "text": [
      "1000g_ppl_phased_haplotypes.trees\n"
     ]
    },
    {
     "data": {
      "application/vnd.jupyter.widget-view+json": {
       "model_id": "9313f21cb60b437581bd5d7c17d559e5",
       "version_major": 2,
       "version_minor": 0
      },
      "text/plain": [
       "  0%|          | 0/5070 [00:00<?, ?it/s]"
      ]
     },
     "metadata": {},
     "output_type": "display_data"
    },
    {
     "name": "stdout",
     "output_type": "stream",
     "text": [
      "1000g_ppl_phased_haplotypes.trees\n"
     ]
    },
    {
     "data": {
      "application/vnd.jupyter.widget-view+json": {
       "model_id": "17ff62ae4c394a75861ce6544be0a3d1",
       "version_major": 2,
       "version_minor": 0
      },
      "text/plain": [
       "  0%|          | 0/4524 [00:00<?, ?it/s]"
      ]
     },
     "metadata": {},
     "output_type": "display_data"
    },
    {
     "name": "stdout",
     "output_type": "stream",
     "text": [
      "1000g_ppl_phased_haplotypes.trees\n"
     ]
    },
    {
     "data": {
      "application/vnd.jupyter.widget-view+json": {
       "model_id": "1f20c04deb084c9ca33ce0d46bb1e799",
       "version_major": 2,
       "version_minor": 0
      },
      "text/plain": [
       "  0%|          | 0/5123 [00:00<?, ?it/s]"
      ]
     },
     "metadata": {},
     "output_type": "display_data"
    }
   ],
   "source": [
    "prob_nr_of_runs_cache = np.load('prob_nr_of_runs_cache.npy')\n",
    "\n",
    "for treeseq_file_name in [\n",
    "    # africans\n",
    "    '/home/ari/ari-intern/people/ari/ariadna-intern/steps/LWK/relate/run_relate/1000g_ppl_phased_haplotypes.trees',\n",
    "    '/home/ari/ari-intern/people/ari/ariadna-intern/steps/GWD/relate/run_relate/1000g_ppl_phased_haplotypes.trees',\n",
    "    '/home/ari/ari-intern/people/ari/ariadna-intern/steps/ESN/relate/run_relate/1000g_ppl_phased_haplotypes.trees',\n",
    "    '/home/ari/ari-intern/people/ari/ariadna-intern/steps/MSL/relate/run_relate/1000g_ppl_phased_haplotypes.trees',\n",
    "    '/home/ari/ari-intern/people/ari/ariadna-intern/steps/YRI/relate/run_relate/1000g_ppl_phased_haplotypes.trees',\n",
    "    # europeans\n",
    "    '/home/ari/ari-intern/people/ari/ariadna-intern/steps/GBR/relate/run_relate/1000g_ppl_phased_haplotypes.trees',\n",
    "    '/home/ari/ari-intern/people/ari/ariadna-intern/steps/FIN/relate/run_relate/1000g_ppl_phased_haplotypes.trees',\n",
    "    '/home/ari/ari-intern/people/ari/ariadna-intern/steps/IBS/relate/run_relate/1000g_ppl_phased_haplotypes.trees',\n",
    "    '/home/ari/ari-intern/people/ari/ariadna-intern/steps/TSI/relate/run_relate/1000g_ppl_phased_haplotypes.trees',\n",
    "    # asians\n",
    "    '/home/ari/ari-intern/people/ari/ariadna-intern/steps/CDX/relate/run_relate/1000g_ppl_phased_haplotypes.trees',\n",
    "    '/home/ari/ari-intern/people/ari/ariadna-intern/steps/CHB/relate/run_relate/1000g_ppl_phased_haplotypes.trees',\n",
    "    '/home/ari/ari-intern/people/ari/ariadna-intern/steps/CHS/relate/run_relate/1000g_ppl_phased_haplotypes.trees',\n",
    "    '/home/ari/ari-intern/people/ari/ariadna-intern/steps/JPT/relate/run_relate/1000g_ppl_phased_haplotypes.trees',\n",
    "    '/home/ari/ari-intern/people/ari/ariadna-intern/steps/KHV/relate/run_relate/1000g_ppl_phased_haplotypes.trees'\n",
    "                         ]:\n",
    "    print(os.path.basename(treeseq_file_name))\n",
    "    \n",
    "    output_file_name = modpath(treeseq_file_name, parent='../results', suffix='_runstats.h5')\n",
    "    \n",
    "    tree_seq = tskit.load(treeseq_file_name)\n",
    "    \n",
    "    \n",
    "    nr_samples = tree_seq.num_samples\n",
    "    \n",
    "    records = []\n",
    "    nodes_time = tree_seq.nodes_time\n",
    "\n",
    "    tree_idx = 0\n",
    "    for tree in tqdm(tree_seq.trees()):\n",
    "    \n",
    "        N = tree.num_samples()\n",
    "        all_times = [nodes_time[n] for n in tree.timedesc() if not tree.is_leaf(n)]\n",
    "        for mut in tree.mutations():\n",
    "            node = tree_seq.mutations_node[mut.id]\n",
    "            clade_times = [nodes_time[n] for n in tree.timedesc(node) if not tree.is_leaf(n)]\n",
    "\n",
    "            # nr-all-runs and max ones-run probabilities\n",
    "            runs = get_coalescence_runs(all_times, clade_times)\n",
    "\n",
    "            if len(runs) < nr_samples / 4:\n",
    "                continue\n",
    "            \n",
    "            n1 = sum(runs)\n",
    "            n0 = len(runs) - n1\n",
    "            run_lengths = np.fromiter(get_all_runs(runs), int)\n",
    "            runs_of_1s = list(get_runs_of_1s(runs))\n",
    "\n",
    "            if len(runs_of_1s) == 0:\n",
    "                # trippleton or smaller\n",
    "                continue\n",
    "\n",
    "\n",
    "            # # TODO: Filter on der and/or anc allele freq\n",
    "\n",
    "            # if n1/(n0+n1) < 10:\n",
    "            #     continue\n",
    "                        \n",
    "            max_ones_run_len = max(runs_of_1s)\n",
    "            nr_runs = run_lengths.size\n",
    "\n",
    "            \n",
    "            # if sum(runs) < 2 or sum(runs) == len(runs) or max_ones_run_len == 1:\n",
    "            #     pvalue_max_der_run = np.nan\n",
    "            # else:\n",
    "            #     try:\n",
    "            #         pvalue_max_der_run = prob_longest_der_run_cache[n0, n1, max_ones_run_len:(n0+n1)].sum()\n",
    "            #     except IndexError:\n",
    "            #         pvalue_max_der_run = sum(prob_longest_1s_run(n0+n1, x, n1/(n0+n1)) for x in range(max_ones_run_len, n0+n1))\n",
    "\n",
    "            \n",
    "            if nr_runs == 1 or len(runs) <= 2 or nr_runs == len(runs):\n",
    "                pvalue_nr_runs = np.nan\n",
    "            else:\n",
    "                try:\n",
    "                    pvalue_nr_runs = prob_nr_of_runs_cache[n0, n1, 1:(nr_runs+1)].sum()\n",
    "                except IndexError:\n",
    "                    pvalue_nr_runs = sum(prob_nr_of_runs(x, n0, n1) for x in range(1, nr_runs+1))\n",
    "            \n",
    "            interval = tree.interval\n",
    "            num_mutations = tree.num_mutations\n",
    "\n",
    "            clade_left, clade_right = interval.left, interval.right\n",
    "\n",
    "            assert clade_times\n",
    "            \n",
    "            records.append(['nr_runs',\n",
    "                            mut.site, \n",
    "                            pvalue_nr_runs,\n",
    "                            nr_runs,\n",
    "                            len(runs),                            \n",
    "                            clade_times[0], \n",
    "                            0,\n",
    "                            interval.left,\n",
    "                            interval.right,\n",
    "                            clade_left, \n",
    "                            clade_right,\n",
    "                            num_mutations])\n",
    "    \n",
    "    \n",
    "        tree_idx += 1\n",
    "    \n",
    "    \n",
    "    df = pd.DataFrame.from_records(records, columns=['stat_name', 'site', 'p', 'stat', 'nr_coal', 't1', 't2', \n",
    "                                                     'tree_left', 'tree_right', 'clade_left', 'clade_right', \n",
    "                                                     'nr_mut'])\n",
    "    df['pos'] = tree_seq.sites_position[df.site]\n",
    "    df.to_hdf(output_file_name, 'df', format='table')"
   ]
  },
  {
   "cell_type": "code",
   "execution_count": null,
   "id": "abfddd2e-c752-48d8-9d84-708c0210e5e3",
   "metadata": {},
   "outputs": [],
   "source": []
  }
 ],
 "metadata": {
  "kernelspec": {
   "display_name": "Python 3 (ipykernel)",
   "language": "python",
   "name": "python3"
  },
  "language_info": {
   "codemirror_mode": {
    "name": "ipython",
    "version": 3
   },
   "file_extension": ".py",
   "mimetype": "text/x-python",
   "name": "python",
   "nbconvert_exporter": "python",
   "pygments_lexer": "ipython3",
   "version": "3.8.18"
  }
 },
 "nbformat": 4,
 "nbformat_minor": 5
}
