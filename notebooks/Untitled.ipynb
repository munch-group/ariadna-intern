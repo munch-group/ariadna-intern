{
 "cells": [
  {
   "cell_type": "code",
   "execution_count": null,
   "id": "c9a82362-5252-4b1c-8629-4db6c7e96d37",
   "metadata": {},
   "outputs": [],
   "source": [
    "library(\"ggplot2\")\n",
    "library(\"gridExtra\")\n",
    "library(\"ggpubr\")\n",
    "library(\"RColorBrewer\")"
   ]
  },
  {
   "cell_type": "code",
   "execution_count": null,
   "id": "05b3faa4-989c-4b0f-a310-2bea05819b79",
   "metadata": {},
   "outputs": [],
   "source": []
  }
 ],
 "metadata": {
  "kernelspec": {
   "display_name": "R",
   "language": "R",
   "name": "ir"
  },
  "language_info": {
   "codemirror_mode": "r",
   "file_extension": ".r",
   "mimetype": "text/x-r-source",
   "name": "R",
   "pygments_lexer": "r",
   "version": "4.3.1"
  }
 },
 "nbformat": 4,
 "nbformat_minor": 5
}
