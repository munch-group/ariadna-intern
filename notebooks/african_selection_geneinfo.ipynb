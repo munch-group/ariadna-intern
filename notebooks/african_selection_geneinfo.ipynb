{
 "cells": [
  {
   "cell_type": "code",
   "execution_count": 24,
   "id": "cd8ba32d-5530-49ac-96da-6f1e9278512c",
   "metadata": {},
   "outputs": [
    {
     "name": "stdout",
     "output_type": "stream",
     "text": [
      "env: ftp_proxy=http://proxy-default:3128\n"
     ]
    }
   ],
   "source": [
    "import sys, os\n",
    "import re\n",
    "from collections import defaultdict\n",
    "import numpy as np\n",
    "import pandas as pd\n",
    "\n",
    "%matplotlib inline\n",
    "\n",
    "import matplotlib.pyplot as plt\n",
    "from matplotlib_inline.backend_inline import set_matplotlib_formats\n",
    "set_matplotlib_formats('retina', 'png')\n",
    "from matplotlib.patches import Rectangle, Polygon\n",
    "import seaborn as sns\n",
    "sns.set_style('white')\n",
    "\n",
    "import geneinfo as gi\n",
    "gi.email('ariadna.saez@alu.esci.upf.edu')\n",
    "\n",
    "\n",
    "# for use on the cluster\n",
    "%env ftp_proxy http://proxy-default:3128"
   ]
  },
  {
   "cell_type": "code",
   "execution_count": 23,
   "id": "c2291827-9769-4200-b43f-6b4e36e29909",
   "metadata": {},
   "outputs": [
    {
     "name": "stdout",
     "output_type": "stream",
     "text": [
      "Gene regions for combined_LWK:\n",
      "('CASK', 41514933, 41665852)\n",
      "('RTL4', 112083012, 112457514)\n",
      "\n",
      "Gene regions for combined_ESN:\n",
      "('CASK', 41514933, 41923034)\n",
      "('RTL4', 112083012, 112457514)\n",
      "\n",
      "Gene regions for combined_GWD:\n",
      "('PAK3', 110944396, 111217494)\n",
      "\n",
      "Gene regions for combined_MSL:\n",
      "('PTCHD1-AS', 22193004, 23293146)\n",
      "\n",
      "Gene regions for combined_YRI:\n",
      "('PRKX', 3604339, 3713649)\n",
      "('TMEM164', 110002368, 110177788)\n",
      "('TMEM164', 110002368, 110177788)\n",
      "('TMEM164', 110002368, 110177788)\n",
      "('RAB33A', 130110622, 130184870)\n",
      "('RAB33A', 130110622, 130184870)\n",
      "\n",
      "\n",
      "\n"
     ]
    },
    {
     "data": {
      "text/markdown": [
       "**Symbol:** **_PTCHD1-AS_**   \n",
       "*PTCHD1 antisense RNA (head to head)*  \n",
       "[Gene card](https://www.genecards.org/cgi-bin/carddisp.pl?gene=PTCHD1-AS)  \n",
       "\n",
       "\n",
       " ----"
      ],
      "text/plain": [
       "<IPython.core.display.Markdown object>"
      ]
     },
     "metadata": {},
     "output_type": "display_data"
    },
    {
     "data": {
      "text/markdown": [
       "**Symbol:** **_RTL4_** (protein-coding) &nbsp; &nbsp; &nbsp; &nbsp; **Aliases:** Mar4, Mart4, SIRH11, ZCCHC16  \n",
       "*retrotransposon Gag like 4*  \n",
       "**Summary:** Predicted to enable nucleic acid binding activity and zinc ion binding activity. Predicted to act upstream of or within cognition and norepinephrine metabolic process. [provided by Alliance of Genome Resources, Apr 2022]  \n",
       "**Genomic position:** X:112083016-112457514 (hg38), X:111697727-111700473 (hg19)  \n",
       "[Gene card](https://www.genecards.org/cgi-bin/carddisp.pl?gene=RTL4)  \n",
       "\n",
       "\n",
       " ----"
      ],
      "text/plain": [
       "<IPython.core.display.Markdown object>"
      ]
     },
     "metadata": {},
     "output_type": "display_data"
    },
    {
     "data": {
      "text/markdown": [
       "**Symbol:** **_TMEM164_** (protein-coding) &nbsp; &nbsp; &nbsp; &nbsp; **Aliases:** bB360B22.3  \n",
       "*transmembrane protein 164*  \n",
       "**Summary:** Predicted to be integral component of membrane. [provided by Alliance of Genome Resources, Apr 2022]  \n",
       "**Genomic position:** X:110002631-110182734 (hg38), X:109245859-109425962 (hg19)  \n",
       "[Gene card](https://www.genecards.org/cgi-bin/carddisp.pl?gene=TMEM164)  \n",
       "\n",
       "\n",
       " ----"
      ],
      "text/plain": [
       "<IPython.core.display.Markdown object>"
      ]
     },
     "metadata": {},
     "output_type": "display_data"
    },
    {
     "data": {
      "text/markdown": [
       "**Symbol:** **_RAB33A_** (protein-coding) &nbsp; &nbsp; &nbsp; &nbsp; **Aliases:** RabS10  \n",
       "*RAB33A, member RAS oncogene family*  \n",
       "**Summary:** The protein encoded by this gene belongs to the small GTPase superfamily, Rab family. It is GTP-binding protein and may be involved in vesicle transport. [provided by RefSeq, Jul 2008].  \n",
       "**Genomic position:** X:130171962-130184870 (hg38), X:129305623-129318844 (hg19)  \n",
       "[Gene card](https://www.genecards.org/cgi-bin/carddisp.pl?gene=RAB33A)  \n",
       "\n",
       "\n",
       " ----"
      ],
      "text/plain": [
       "<IPython.core.display.Markdown object>"
      ]
     },
     "metadata": {},
     "output_type": "display_data"
    },
    {
     "data": {
      "text/markdown": [
       "**Symbol:** **_PRKX_** (protein-coding) &nbsp; &nbsp; &nbsp; &nbsp; **Aliases:** PKX1  \n",
       "*protein kinase cAMP-dependent X-linked catalytic subunit*  \n",
       "**Summary:** This gene encodes a serine threonine protein kinase that has similarity to the catalytic subunit of cyclic AMP dependent protein kinases. The encoded protein is developmentally regulated and may be involved in renal epithelial morphogenesis. This protein may also be involved in macrophage and granulocyte maturation. Abnormal recombination between this gene and a related pseudogene on chromosome Y is a frequent cause of sex reversal disorder in XX males and XY females. Pseudogenes of this gene are found on chromosomes X, 15 and Y. [provided by RefSeq, Feb 2010].  \n",
       "**Genomic position:** X:3604340-3713649 (hg38), X:3522411-3631649 (hg19)  \n",
       "[Gene card](https://www.genecards.org/cgi-bin/carddisp.pl?gene=PRKX)  \n",
       "\n",
       "\n",
       " ----"
      ],
      "text/plain": [
       "<IPython.core.display.Markdown object>"
      ]
     },
     "metadata": {},
     "output_type": "display_data"
    },
    {
     "data": {
      "text/markdown": [
       "**Symbol:** **_PAK3_** (protein-coding) &nbsp; &nbsp; &nbsp; &nbsp; **Aliases:** ARA, MRX30, MRX47, OPHN3, PAK-3, PAK3beta, XLID30, bPAK, beta-PAK  \n",
       "*p21 (RAC1) activated kinase 3*  \n",
       "**Summary:** The protein encoded by this gene is a serine-threonine kinase and forms an activated complex with GTP-bound RAS-like (P21), CDC2 and RAC1. This protein may be necessary for dendritic development and for the rapid cytoskeletal reorganization in dendritic spines associated with synaptic plasticity. Defects in this gene are the cause of a non-syndromic form of X-linked intellectual disability. Alternatively spliced transcript variants encoding different isoforms have been identified. [provided by RefSeq, Jul 2017].  \n",
       "**Genomic position:** X:110944285-111227361 (hg38), X:110187513-110470589 (hg19)  \n",
       "[Gene card](https://www.genecards.org/cgi-bin/carddisp.pl?gene=PAK3)  \n",
       "\n",
       "\n",
       " ----"
      ],
      "text/plain": [
       "<IPython.core.display.Markdown object>"
      ]
     },
     "metadata": {},
     "output_type": "display_data"
    },
    {
     "data": {
      "text/markdown": [
       "**Symbol:** **_CASK_** (protein-coding) &nbsp; &nbsp; &nbsp; &nbsp; **Aliases:** CAGH39, CAMGUK, CMG, FGS4, LIN2, MICPCH, MRXSNA, TNRC8, hCASK  \n",
       "*calcium/calmodulin dependent serine protein kinase*  \n",
       "**Summary:** This gene encodes a calcium/calmodulin-dependent serine protein kinase. The encoded protein is a MAGUK (membrane-associated guanylate kinase) protein family member. These proteins are scaffold proteins and the encoded protein is located at synapses in the brain. Mutations in this gene are associated with FG syndrome 4, intellectual disability and microcephaly with pontine and cerebellar hypoplasia, and a form of X-linked intellectual disability. Multiple transcript variants encoding different isoforms have been found for this gene. [provided by RefSeq, Jul 2017].  \n",
       "**Genomic position:** X:41514934-41923554 (hg38), X:41374187-41782716 (hg19)  \n",
       "[Gene card](https://www.genecards.org/cgi-bin/carddisp.pl?gene=CASK)  \n",
       "\n",
       "\n",
       " ----"
      ],
      "text/plain": [
       "<IPython.core.display.Markdown object>"
      ]
     },
     "metadata": {},
     "output_type": "display_data"
    }
   ],
   "source": [
    "## AFRICANS ##\n",
    "\n",
    "# Define the threshold\n",
    "threshold = 6\n",
    "\n",
    "# Function to define window to search nearby genes\n",
    "def get_window_range(position, window_size):\n",
    "    x_min = position - window_size // 2\n",
    "    x_max = position + window_size // 2\n",
    "    return x_min, x_max\n",
    "\n",
    "# List of file paths\n",
    "file_paths = [\n",
    "    '/home/ari/ari-intern/people/ari/ariadna-intern/results/combined_LWK.csv',\n",
    "    '/home/ari/ari-intern/people/ari/ariadna-intern/results/combined_ESN.csv',\n",
    "    '/home/ari/ari-intern/people/ari/ariadna-intern/results/combined_GWD.csv',\n",
    "    '/home/ari/ari-intern/people/ari/ariadna-intern/results/combined_MSL.csv',\n",
    "    '/home/ari/ari-intern/people/ari/ariadna-intern/results/combined_YRI.csv'\n",
    "]\n",
    "\n",
    "# Dictionary to store gene regions for each population\n",
    "gene_regions = {}\n",
    "\n",
    "# Set to store unique gene symbols\n",
    "unique_genes = set()\n",
    "\n",
    "# Iterate over file paths\n",
    "for file_path in file_paths:\n",
    "    # Extract population name from the filename\n",
    "    population_name = os.path.splitext(os.path.basename(file_path))[0]\n",
    "    \n",
    "    # Read data\n",
    "    data = pd.read_csv(file_path)\n",
    "    \n",
    "    # Add 'population' column\n",
    "    data['population'] = population_name\n",
    "    \n",
    "    # Filter data based on threshold\n",
    "    filtered_data = data[data['combined_p_values'] > threshold]\n",
    "    \n",
    "    # Initialize a list to store gene regions for the current population\n",
    "    population_gene_regions = []\n",
    "    \n",
    "    # Iterate over rows and calculate gene regions\n",
    "    for index, row in filtered_data.iterrows():\n",
    "        genomic_position = row['pos']\n",
    "        window_size = 1000  # Set window size !!!!!!! 500 bp on each SNP side\n",
    "        x_min, x_max = get_window_range(genomic_position, window_size)\n",
    "        \n",
    "        # Call gi.get_genes_region() for the current region\n",
    "        gene_region = gi.get_genes_region('chrX', x_min, x_max, assembly='hg38')\n",
    "        \n",
    "        # Extract gene symbol, start position, and end position from the result\n",
    "        if gene_region:  # Check if gene_region is not empty\n",
    "            gene_symbol = gene_region[0][0]\n",
    "            start_position = gene_region[0][1]\n",
    "            end_position = gene_region[0][2]\n",
    "            \n",
    "            # Append the extracted information to the list of gene regions for the current population\n",
    "            population_gene_regions.append((gene_symbol, start_position, end_position))\n",
    "            \n",
    "# Add gene symbol to set of unique genes\n",
    "            unique_genes.add(gene_symbol)\n",
    "    \n",
    "    # Store the list of gene regions for the current population in the dictionary\n",
    "    gene_regions[population_name] = population_gene_regions\n",
    "\n",
    "# Print gene regions for all populations\n",
    "for population, regions in gene_regions.items():\n",
    "    print(f\"Gene regions for {population}:\")\n",
    "    for region in regions:\n",
    "        print(region)\n",
    "    print()\n",
    "\n",
    "\n",
    "print()\n",
    "print()\n",
    "\n",
    "# Set to store gene symbols for which information has already been retrieved\n",
    "retrieved_symbols = set()\n",
    "\n",
    "# Run gi.gene_info() for each unique gene symbol\n",
    "for gene_symbol in unique_genes:\n",
    "    # Check if gene information has already been retrieved for this symbol\n",
    "    if gene_symbol not in retrieved_symbols:\n",
    "        gene_info = gi.gene_info(gene_symbol)\n",
    "        if gene_info is not None:\n",
    "            print(f\"Gene info for {gene_symbol}: {gene_info}\")\n"
   ]
  },
  {
   "cell_type": "code",
   "execution_count": 27,
   "id": "560faaef-d5eb-4f78-acf0-ff798d7072ce",
   "metadata": {},
   "outputs": [
    {
     "name": "stdout",
     "output_type": "stream",
     "text": [
      "Gene regions for combined_PUR:\n",
      "('WWC3', 10015253, 10144474)\n",
      "('WWC3', 10015253, 10144474)\n",
      "('MID1', 10445309, 10576917)\n",
      "('MID1', 10445309, 10576917)\n",
      "('MID1', 10445309, 10576917)\n",
      "('MID1', 10445309, 10576917)\n",
      "('MID1', 10445309, 10620585)\n",
      "('MID1', 10445309, 10620585)\n",
      "('MID1', 10445309, 10677739)\n",
      "('MID1', 10445309, 10677739)\n",
      "('MID1', 10445309, 10833683)\n",
      "('MID1', 10445309, 10833683)\n",
      "('MID1', 10445309, 10833683)\n",
      "('MID1', 10445309, 10833683)\n",
      "('MID1', 10445309, 10833683)\n",
      "('MID1', 10445309, 10833683)\n",
      "('MID1', 10445309, 10833683)\n",
      "('MID1', 10445309, 10833683)\n",
      "('MID1', 10445309, 10833683)\n",
      "('MID1', 10445309, 10833683)\n",
      "('PHKA2', 18892297, 18938716)\n",
      "('PHKA2', 18892297, 18938716)\n",
      "('MAP3K15', 19360058, 19515508)\n",
      "('PTCHD1-AS', 22193004, 23293146)\n",
      "('TSPAN7', 38561541, 38688918)\n",
      "('CLCN5', 49922595, 50042541)\n",
      "('SHROOM4', 50575533, 50814194)\n",
      "('SHROOM4', 50575533, 50814194)\n",
      "('SHROOM4', 50575533, 50814194)\n",
      "('APEX2', 55000362, 55009057)\n",
      "('HMGN5', 81113698, 81201913)\n",
      "('LOC107985713', 88494129, 88613490)\n",
      "('LOC107985713', 88494129, 88613490)\n",
      "('IL1RAPL2', 104566198, 105767829)\n",
      "('MID2', 107825734, 107931637)\n",
      "('AMMECR1', 110194185, 110440233)\n",
      "('TRPC5', 111768010, 112082776)\n",
      "('TRPC5', 111768010, 112082776)\n",
      "('TRPC5', 111768010, 112082776)\n",
      "('RTL4', 112083012, 112457514)\n",
      "('TENM1', 124375902, 124963817)\n",
      "('TENM1', 124375902, 125204312)\n",
      "('XPNPEP2', 129738978, 129769536)\n",
      "('LOC101928808', 146394681, 146401858)\n",
      "('AFF2', 148500616, 149000663)\n",
      "('AFF2', 148500616, 149000663)\n",
      "('AFF2', 148500616, 149000663)\n",
      "('AFF2', 148500616, 149000663)\n",
      "('LINC00850', 149825707, 149879799)\n",
      "('LINC00850', 149825707, 149879799)\n",
      "('MAGEA3-DT', 152554376, 152698727)\n",
      "\n",
      "\n",
      "\n"
     ]
    },
    {
     "data": {
      "text/markdown": [
       "**Symbol:** **_MID2_** (protein-coding) &nbsp; &nbsp; &nbsp; &nbsp; **Aliases:** FXY2, MRX101, RNF60, TRIM1, XLID101  \n",
       "*midline 2*  \n",
       "**Summary:** The protein encoded by this gene is a member of the tripartite motif (TRIM) family. The TRIM motif includes three zinc-binding domains, a RING, a B-box type 1 and a B-box type 2, and a coiled-coil region. The protein localizes to microtubular structures in the cytoplasm. Alternate splicing of this gene results in two transcript variants encoding different isoforms. [provided by RefSeq, Feb 2009].  \n",
       "**Genomic position:** X:107825755-107931637 (hg38), X:107068985-107170423 (hg19)  \n",
       "[Gene card](https://www.genecards.org/cgi-bin/carddisp.pl?gene=MID2)  \n",
       "\n",
       "\n",
       " ----"
      ],
      "text/plain": [
       "<IPython.core.display.Markdown object>"
      ]
     },
     "metadata": {},
     "output_type": "display_data"
    },
    {
     "data": {
      "text/markdown": [
       "**Symbol:** **_AMMECR1_** (protein-coding) &nbsp; &nbsp; &nbsp; &nbsp; **Aliases:** AMMERC1, MFHIEN  \n",
       "*AMMECR nuclear protein 1*  \n",
       "**Summary:** The exact function of this gene is not known, however, submicroscopic deletion of the X chromosome including this gene, COL4A5, and FACL4 genes, result in a contiguous gene deletion syndrome, the AMME complex (Alport syndrome, mental retardation, midface hypoplasia, and elliptocytosis). Alternatively spliced transcript variants encoding different isoforms have been found for this gene. [provided by RefSeq, Jan 2010].  \n",
       "**Genomic position:** X:110194186-110440318 (hg38), X:109437414-109683461 (hg19)  \n",
       "[Gene card](https://www.genecards.org/cgi-bin/carddisp.pl?gene=AMMECR1)  \n",
       "\n",
       "\n",
       " ----"
      ],
      "text/plain": [
       "<IPython.core.display.Markdown object>"
      ]
     },
     "metadata": {},
     "output_type": "display_data"
    },
    {
     "data": {
      "text/markdown": [
       "**Symbol:** **_TENM1_** (protein-coding) &nbsp; &nbsp; &nbsp; &nbsp; **Aliases:** ODZ1, ODZ3, TEN-M1, TEN1, TNM, TNM1, ten-1  \n",
       "*teneurin transmembrane protein 1*  \n",
       "**Summary:** The protein encoded by this gene belongs to the tenascin family and teneurin subfamily. It is expressed in the neurons and may function as a cellular signal transducer. Several alternatively spliced transcript variants encoding different isoforms have been found for this gene. [provided by RefSeq, Sep 2009].  \n",
       "**Genomic position:** X:124375903-125204312 (hg38), X:123509753-124097666 (hg19)  \n",
       "[Gene card](https://www.genecards.org/cgi-bin/carddisp.pl?gene=TENM1)  \n",
       "\n",
       "\n",
       " ----"
      ],
      "text/plain": [
       "<IPython.core.display.Markdown object>"
      ]
     },
     "metadata": {},
     "output_type": "display_data"
    },
    {
     "data": {
      "text/markdown": [
       "**Symbol:** **_IL1RAPL2_** (protein-coding) &nbsp; &nbsp; &nbsp; &nbsp; **Aliases:** IL-1R9, IL1R9, IL1RAPL-2, TIGIRR-1  \n",
       "*interleukin 1 receptor accessory protein like 2*  \n",
       "**Summary:** The protein encoded by this gene is a member of the interleukin 1 receptor family. This protein is similar to the interleukin 1 accessory proteins, and is most closely related to interleukin 1 receptor accessory protein-like 1 (IL1RAPL1). This gene and IL1RAPL1 are located at a region on chromosome X that is associated with X-linked non-syndromic cognitive disability. [provided by RefSeq, Jul 2008].  \n",
       "**Genomic position:** X:104566199-105767829 (hg38), HG375_PATCH:103810996-105011820, X:103810996-105011822 (hg19)  \n",
       "[Gene card](https://www.genecards.org/cgi-bin/carddisp.pl?gene=IL1RAPL2)  \n",
       "\n",
       "\n",
       " ----"
      ],
      "text/plain": [
       "<IPython.core.display.Markdown object>"
      ]
     },
     "metadata": {},
     "output_type": "display_data"
    },
    {
     "data": {
      "text/markdown": [
       "**Symbol:** **_MID1_** (protein-coding) &nbsp; &nbsp; &nbsp; &nbsp; **Aliases:** BBBG1, FXY, GBBB, GBBB1, MIDIN, OGS1, OS, OSX, RNF59, TRIM18, XPRF, ZNFXY  \n",
       "*midline 1*  \n",
       "**Summary:** The protein encoded by this gene is a member of the tripartite motif (TRIM) family, also known as the 'RING-B box-coiled coil' (RBCC) subgroup of RING finger proteins. The TRIM motif includes three zinc-binding domains, a RING, a B-box type 1 and a B-box type 2, and a coiled-coil region. This protein forms homodimers which associate with microtubules in the cytoplasm. The protein is likely involved in the formation of multiprotein structures acting as anchor points to microtubules. Mutations in this gene have been associated with the X-linked form of Opitz syndrome, which is characterized by midline abnormalities such as cleft lip, laryngeal cleft, heart defects, hypospadias, and agenesis of the corpus callosum. This gene was also the first example of a gene subject to X inactivation in human while escaping it in mouse. Alternative promoter use, alternative splicing and alternative polyadenylation result in multiple transcript variants that have different tissue specificities. [provided by RefSeq, Dec 2016].  \n",
       "**Genomic position:** X:10445310-10833654 (hg38), X:10413350-10851773 (hg19)  \n",
       "[Gene card](https://www.genecards.org/cgi-bin/carddisp.pl?gene=MID1)  \n",
       "\n",
       "\n",
       " ----"
      ],
      "text/plain": [
       "<IPython.core.display.Markdown object>"
      ]
     },
     "metadata": {},
     "output_type": "display_data"
    },
    {
     "data": {
      "text/markdown": [
       "**Symbol:** **_SHROOM4_** (protein-coding) &nbsp; &nbsp; &nbsp; &nbsp; **Aliases:** MRXSSDS, SHAP, shrm4  \n",
       "*shroom family member 4*  \n",
       "**Summary:** This gene encodes a member of the APX/Shroom family, which contain an N-terminal PDZ domain and a C-terminal ASD2 motif. The encoded protein may play a role in cytoskeletal architecture. Mutations in this gene have been linked to the X-linked Stocco dos Santos syndrome characterized by cognitive disabilities. Alternatively spliced transcript variants have been described. [provided by RefSeq, Jul 2017].  \n",
       "**Genomic position:** X:50586796-50814302 (hg38), HG1433_PATCH:50334647-50557302, X:50334647-50557302 (hg19)  \n",
       "[Gene card](https://www.genecards.org/cgi-bin/carddisp.pl?gene=SHROOM4)  \n",
       "\n",
       "\n",
       " ----"
      ],
      "text/plain": [
       "<IPython.core.display.Markdown object>"
      ]
     },
     "metadata": {},
     "output_type": "display_data"
    },
    {
     "data": {
      "text/markdown": [
       "**Symbol:** **_PTCHD1-AS_**   \n",
       "*PTCHD1 antisense RNA (head to head)*  \n",
       "[Gene card](https://www.genecards.org/cgi-bin/carddisp.pl?gene=PTCHD1-AS)  \n",
       "\n",
       "\n",
       " ----"
      ],
      "text/plain": [
       "<IPython.core.display.Markdown object>"
      ]
     },
     "metadata": {},
     "output_type": "display_data"
    },
    {
     "data": {
      "text/markdown": [
       "**Symbol:** **_PHKA2_** (protein-coding) &nbsp; &nbsp; &nbsp; &nbsp; **Aliases:** GSD9A, PHK, PYK, PYKL, XLG, XLG2  \n",
       "*phosphorylase kinase regulatory subunit alpha 2*  \n",
       "**Summary:** Phosphorylase kinase is a polymer of 16 subunits, four each of alpha, beta, gamma and delta. The alpha subunit includes the skeletal muscle and hepatic isoforms, and the hepatic isoform is encoded by this gene. The beta subunit is the same in both the muscle and hepatic isoforms, and encoded by one gene. The gamma subunit also includes the skeletal muscle and hepatic isoforms, which are encoded by two different genes. The delta subunit is a calmodulin and can be encoded by three different genes. The gamma subunits contain the active site of the enzyme, whereas the alpha and beta subunits have regulatory functions controlled by phosphorylation. The delta subunit mediates the dependence of the enzyme on calcium concentration. Mutations in this gene cause glycogen storage disease type 9A, also known as X-linked liver glycogenosis. Alternatively spliced transcript variants have been reported, but the full-length nature of these variants has not been determined.[provided by RefSeq, Feb 2010].  \n",
       "**Genomic position:** X:18892298-18984114 (hg38), X:18910418-19002716 (hg19)  \n",
       "[Gene card](https://www.genecards.org/cgi-bin/carddisp.pl?gene=PHKA2)  \n",
       "\n",
       "\n",
       " ----"
      ],
      "text/plain": [
       "<IPython.core.display.Markdown object>"
      ]
     },
     "metadata": {},
     "output_type": "display_data"
    },
    {
     "data": {
      "text/markdown": [
       "**Symbol:** **_RTL4_** (protein-coding) &nbsp; &nbsp; &nbsp; &nbsp; **Aliases:** Mar4, Mart4, SIRH11, ZCCHC16  \n",
       "*retrotransposon Gag like 4*  \n",
       "**Summary:** Predicted to enable nucleic acid binding activity and zinc ion binding activity. Predicted to act upstream of or within cognition and norepinephrine metabolic process. [provided by Alliance of Genome Resources, Apr 2022]  \n",
       "**Genomic position:** X:112083016-112457514 (hg38), X:111697727-111700473 (hg19)  \n",
       "[Gene card](https://www.genecards.org/cgi-bin/carddisp.pl?gene=RTL4)  \n",
       "\n",
       "\n",
       " ----"
      ],
      "text/plain": [
       "<IPython.core.display.Markdown object>"
      ]
     },
     "metadata": {},
     "output_type": "display_data"
    },
    {
     "data": {
      "text/markdown": [
       "**Symbol:** **_CLCN5_** (protein-coding) &nbsp; &nbsp; &nbsp; &nbsp; **Aliases:** CLC5, CLCK2, ClC-5, DENT1, DENTS, NPHL1, NPHL2, XLRH, XRN, hCIC-K2  \n",
       "*chloride voltage-gated channel 5*  \n",
       "**Summary:** This gene encodes a member of the ClC family of chloride ion channels and ion transporters. The encoded protein is primarily localized to endosomal membranes and may function to facilitate albumin uptake by the renal proximal tubule. Mutations in this gene have been found in Dent disease and renal tubular disorders complicated by nephrolithiasis. Alternatively spliced transcript variants have been found for this gene. [provided by RefSeq, Jan 2013].  \n",
       "**Genomic position:** X:49922596-50099235 (hg38), HG1436_HG1432_PATCH:49732014-49908634, X:49687225-49863892 (hg19)  \n",
       "[Gene card](https://www.genecards.org/cgi-bin/carddisp.pl?gene=CLCN5)  \n",
       "\n",
       "\n",
       " ----"
      ],
      "text/plain": [
       "<IPython.core.display.Markdown object>"
      ]
     },
     "metadata": {},
     "output_type": "display_data"
    },
    {
     "data": {
      "text/markdown": [
       "**Symbol:** **_AFF2_** (protein-coding) &nbsp; &nbsp; &nbsp; &nbsp; **Aliases:** FMR2, FMR2P, FRAXE, MRX2, OX19, XLID109  \n",
       "*ALF transcription elongation factor 2*  \n",
       "**Summary:** This gene encodes a putative transcriptional activator that is a member of the AF4\\FMR2 gene family. This gene is associated with the folate-sensitive fragile X E locus on chromosome X. A repeat polymorphism in the fragile X E locus results in silencing of this gene causing Fragile X E syndrome. Fragile X E syndrome is a form of nonsyndromic X-linked cognitive disability. In addition, this gene contains 6-25 GCC repeats that are expanded to >200 repeats in the disease state. Alternate splicing results in multiple transcript variants.[provided by RefSeq, Jul 2016].  \n",
       "**Genomic position:** X:148500617-149000663 (hg38), HG1459_PATCH:147582336-148082384, X:147582139-148082193 (hg19)  \n",
       "[Gene card](https://www.genecards.org/cgi-bin/carddisp.pl?gene=AFF2)  \n",
       "\n",
       "\n",
       " ----"
      ],
      "text/plain": [
       "<IPython.core.display.Markdown object>"
      ]
     },
     "metadata": {},
     "output_type": "display_data"
    },
    {
     "data": {
      "text/markdown": [
       "**Symbol:** **_LINC00850_** (ncRNA) &nbsp; &nbsp; &nbsp; &nbsp; **Aliases:** KUCG1  \n",
       "*long intergenic non-protein coding RNA 850*  \n",
       "[Gene card](https://www.genecards.org/cgi-bin/carddisp.pl?gene=LINC00850)  \n",
       "\n",
       "\n",
       " ----"
      ],
      "text/plain": [
       "<IPython.core.display.Markdown object>"
      ]
     },
     "metadata": {},
     "output_type": "display_data"
    },
    {
     "data": {
      "text/markdown": [
       "**Symbol:** **_TSPAN7_** (protein-coding) &nbsp; &nbsp; &nbsp; &nbsp; **Aliases:** A15, CCG-B7, CD231, DXS1692E, MRX58, MXS1, TALLA-1, TM4SF2, TM4SF2b, XLID58  \n",
       "*tetraspanin 7*  \n",
       "**Summary:** The protein encoded by this gene is a member of the transmembrane 4 superfamily, also known as the tetraspanin family. Most of these members are cell-surface proteins that are characterized by the presence of four hydrophobic domains. The proteins mediate signal transduction events that play a role in the regulation of cell development, activation, growth and motility. This encoded protein is a cell surface glycoprotein and may have a role in the control of neurite outgrowth. It is known to complex with integrins. This gene is associated with X-linked cognitive disability and neuropsychiatric diseases such as Huntington's chorea, fragile X syndrome and myotonic dystrophy. [provided by RefSeq, Jul 2008].  \n",
       "**Genomic position:** X:38561542-38688920 (hg38), X:38420623-38548169 (hg19)  \n",
       "[Gene card](https://www.genecards.org/cgi-bin/carddisp.pl?gene=TSPAN7)  \n",
       "\n",
       "\n",
       " ----"
      ],
      "text/plain": [
       "<IPython.core.display.Markdown object>"
      ]
     },
     "metadata": {},
     "output_type": "display_data"
    },
    {
     "data": {
      "text/markdown": [
       "**Symbol:** **_MAP3K15_** (protein-coding) &nbsp; &nbsp; &nbsp; &nbsp; **Aliases:** ASK3, bA723P2.3  \n",
       "*mitogen-activated protein kinase kinase kinase 15*  \n",
       "**Summary:** The protein encoded by this gene is a member of the mitogen-activated protein kinase (MAPK) family. These family members function in a protein kinase signal transduction cascade, where an activated MAPK kinase kinase (MAP3K) phosphorylates and activates a specific MAPK kinase (MAP2K), which then activates a specific MAPK. This MAP3K protein plays an essential role in apoptotic cell death triggered by cellular stresses. [provided by RefSeq, Jul 2010].  \n",
       "**Genomic position:** X:19360056-19515508 (hg38), X:19378174-19533379 (hg19)  \n",
       "[Gene card](https://www.genecards.org/cgi-bin/carddisp.pl?gene=MAP3K15)  \n",
       "\n",
       "\n",
       " ----"
      ],
      "text/plain": [
       "<IPython.core.display.Markdown object>"
      ]
     },
     "metadata": {},
     "output_type": "display_data"
    },
    {
     "data": {
      "text/markdown": [
       "**Symbol:** **_TRPC5_** (protein-coding) &nbsp; &nbsp; &nbsp; &nbsp; **Aliases:** PPP1R159, TRP5  \n",
       "*transient receptor potential cation channel subfamily C member 5*  \n",
       "**Summary:** This gene belongs to the transient receptor family. It encodes one of the seven mammalian TRPC (transient receptor potential channel) proteins. The encoded protein is a multi-pass membrane protein and is thought to form a receptor-activated non-selective calcium permeant cation channel. The protein is active alone or as a heteromultimeric assembly with TRPC1, TRPC3, and TRPC4. It also interacts with multiple proteins including calmodulin, CABP1, enkurin, Na(+)-H+ exchange regulatory factor (NHERF ), interferon-induced GTP-binding protein (MX1), ring finger protein 24 (RNF24), and SEC14 domain and spectrin repeat-containing protein 1 (SESTD1). [provided by RefSeq, May 2010].  \n",
       "**Genomic position:** X:111768011-112082776 (hg38), X:111017543-111326004 (hg19)  \n",
       "[Gene card](https://www.genecards.org/cgi-bin/carddisp.pl?gene=TRPC5)  \n",
       "\n",
       "\n",
       " ----"
      ],
      "text/plain": [
       "<IPython.core.display.Markdown object>"
      ]
     },
     "metadata": {},
     "output_type": "display_data"
    },
    {
     "data": {
      "text/markdown": [
       "**Symbol:** **_LOC101928808_** (ncRNA)  \n",
       "*uncharacterized LOC101928808*  \n",
       "[Gene card](https://www.genecards.org/cgi-bin/carddisp.pl?gene=LOC101928808)  \n",
       "\n",
       "\n",
       " ----"
      ],
      "text/plain": [
       "<IPython.core.display.Markdown object>"
      ]
     },
     "metadata": {},
     "output_type": "display_data"
    },
    {
     "data": {
      "text/markdown": [
       "**Symbol:** **_XPNPEP2_** (protein-coding) &nbsp; &nbsp; &nbsp; &nbsp; **Aliases:** AEACEI, APP2  \n",
       "*X-prolyl aminopeptidase 2*  \n",
       "**Summary:** Aminopeptidase P is a hydrolase specific for N-terminal imido bonds, which are common to several collagen degradation products, neuropeptides, vasoactive peptides, and cytokines. Structurally, the enzyme is a member of the 'pita bread fold' family and occurs in mammalian tissues in both soluble and GPI-anchored membrane-bound forms.  A membrane-bound and soluble form of this enzyme have been identified as products of two separate genes. [provided by RefSeq, Jul 2008].  \n",
       "**Genomic position:** X:129738949-129769536 (hg38), X:128872950-128903514 (hg19)  \n",
       "[Gene card](https://www.genecards.org/cgi-bin/carddisp.pl?gene=XPNPEP2)  \n",
       "\n",
       "\n",
       " ----"
      ],
      "text/plain": [
       "<IPython.core.display.Markdown object>"
      ]
     },
     "metadata": {},
     "output_type": "display_data"
    },
    {
     "data": {
      "text/markdown": [
       "**Symbol:** **_LOC107985713_** (ncRNA)  \n",
       "*uncharacterized LOC107985713*  \n",
       "[Gene card](https://www.genecards.org/cgi-bin/carddisp.pl?gene=LOC107985713)  \n",
       "\n",
       "\n",
       " ----"
      ],
      "text/plain": [
       "<IPython.core.display.Markdown object>"
      ]
     },
     "metadata": {},
     "output_type": "display_data"
    },
    {
     "data": {
      "text/markdown": [
       "**Symbol:** **_APEX2_** (protein-coding) &nbsp; &nbsp; &nbsp; &nbsp; **Aliases:** APE2, APEXL2, XTH2, ZGRF2  \n",
       "*apurinic/apyrimidinic endodeoxyribonuclease 2*  \n",
       "**Summary:** Apurinic/apyrimidinic (AP) sites occur frequently in DNA molecules by spontaneous hydrolysis, by DNA damaging agents or by DNA glycosylases that remove specific abnormal bases. AP sites are pre-mutagenic lesions that can prevent normal DNA replication so the cell contains systems to identify and repair such sites. Class II AP endonucleases cleave the phosphodiester backbone 5' to the AP site. This gene encodes a protein shown to have a weak class II AP endonuclease activity. Most of the encoded protein is located in the nucleus but some is also present in mitochondria. This protein may play an important role in both nuclear and mitochondrial base excision repair. Alternatively spliced transcript variants encoding multiple isoforms have been observed for this gene. [provided by RefSeq, Nov 2012].  \n",
       "**Genomic position:** X:55000363-55009057 (hg38), X:55026790-55035490 (hg19)  \n",
       "[Gene card](https://www.genecards.org/cgi-bin/carddisp.pl?gene=APEX2)  \n",
       "\n",
       "\n",
       " ----"
      ],
      "text/plain": [
       "<IPython.core.display.Markdown object>"
      ]
     },
     "metadata": {},
     "output_type": "display_data"
    },
    {
     "data": {
      "text/markdown": [
       "**Symbol:** **_WWC3_** (protein-coding) &nbsp; &nbsp; &nbsp; &nbsp; **Aliases:** BM042  \n",
       "*WWC family member 3*  \n",
       "**Summary:** This gene encodes a member of the WWC family of proteins, which also includes the WWC1 (KIBRA) gene product and the WWC2 gene product. The protein encoded by this gene includes a C2 domain, which is known to mediate homodimerization in the related WWC1 gene product. [provided by RefSeq, Sep 2011].  \n",
       "**Genomic position:** X:10015254-10144474 (hg38), X:9983602-10112518 (hg19)  \n",
       "[Gene card](https://www.genecards.org/cgi-bin/carddisp.pl?gene=WWC3)  \n",
       "\n",
       "\n",
       " ----"
      ],
      "text/plain": [
       "<IPython.core.display.Markdown object>"
      ]
     },
     "metadata": {},
     "output_type": "display_data"
    },
    {
     "data": {
      "text/markdown": [
       "**Symbol:** **_MAGEA3-DT_**   \n",
       "*MAGEA3 divergent transcript*  \n",
       "[Gene card](https://www.genecards.org/cgi-bin/carddisp.pl?gene=MAGEA3-DT)  \n",
       "\n",
       "\n",
       " ----"
      ],
      "text/plain": [
       "<IPython.core.display.Markdown object>"
      ]
     },
     "metadata": {},
     "output_type": "display_data"
    },
    {
     "data": {
      "text/markdown": [
       "**Symbol:** **_HMGN5_** (protein-coding) &nbsp; &nbsp; &nbsp; &nbsp; **Aliases:** NBP-45, NSBP1  \n",
       "*high mobility group nucleosome binding domain 5*  \n",
       "**Summary:** This gene encodes a nuclear protein with similarities to the high mobility group proteins, HMG14 and HMG17, which suggests that this protein may function as a nucleosomal binding and transcriptional activating protein. [provided by RefSeq, Sep 2009].  \n",
       "**Genomic position:** X:81113699-81201913 (hg38), X:80369200-80457441 (hg19)  \n",
       "[Gene card](https://www.genecards.org/cgi-bin/carddisp.pl?gene=HMGN5)  \n",
       "\n",
       "\n",
       " ----"
      ],
      "text/plain": [
       "<IPython.core.display.Markdown object>"
      ]
     },
     "metadata": {},
     "output_type": "display_data"
    }
   ],
   "source": [
    "## PUR ##\n",
    "\n",
    "threshold = 6\n",
    "\n",
    "# Function to define window to search nearby genes\n",
    "def get_window_range(position, window_size):\n",
    "    x_min = position - window_size // 2\n",
    "    x_max = position + window_size // 2\n",
    "    return x_min, x_max\n",
    "\n",
    "# List of file paths\n",
    "file_paths = [\n",
    "    '/home/ari/ari-intern/people/ari/ariadna-intern/results/combined_PUR.csv'\n",
    "]\n",
    "\n",
    "# Dictionary to store gene regions for each population\n",
    "gene_regions = {}\n",
    "\n",
    "# Set to store unique gene symbols\n",
    "unique_genes = set()\n",
    "\n",
    "# Iterate over file paths\n",
    "for file_path in file_paths:\n",
    "    # Extract population name from the filename\n",
    "    population_name = os.path.splitext(os.path.basename(file_path))[0]\n",
    "    \n",
    "    # Read data\n",
    "    data = pd.read_csv(file_path)\n",
    "    \n",
    "    # Add 'population' column\n",
    "    data['population'] = population_name\n",
    "    \n",
    "    # Filter data based on threshold\n",
    "    filtered_data = data[data['combined_p_values'] > threshold]\n",
    "    \n",
    "    # Initialize a list to store gene regions for the current population\n",
    "    population_gene_regions = []\n",
    "    \n",
    "    # Iterate over rows and calculate gene regions\n",
    "    for index, row in filtered_data.iterrows():\n",
    "        genomic_position = row['pos']\n",
    "        window_size = 1000  # Set window size !!!!!!! 500 bp on each SNP side\n",
    "        x_min, x_max = get_window_range(genomic_position, window_size)\n",
    "        \n",
    "        # Call gi.get_genes_region() for the current region\n",
    "        gene_region = gi.get_genes_region('chrX', x_min, x_max, assembly='hg38')\n",
    "        \n",
    "        # Extract gene symbol, start position, and end position from the result\n",
    "        if gene_region:  # Check if gene_region is not empty\n",
    "            gene_symbol = gene_region[0][0]\n",
    "            start_position = gene_region[0][1]\n",
    "            end_position = gene_region[0][2]\n",
    "            \n",
    "            # Append the extracted information to the list of gene regions for the current population\n",
    "            population_gene_regions.append((gene_symbol, start_position, end_position))\n",
    "            \n",
    "# Add gene symbol to set of unique genes\n",
    "            unique_genes.add(gene_symbol)\n",
    "    \n",
    "    # Store the list of gene regions for the current population in the dictionary\n",
    "    gene_regions[population_name] = population_gene_regions\n",
    "\n",
    "# Print gene regions for all populations\n",
    "for population, regions in gene_regions.items():\n",
    "    print(f\"Gene regions for {population}:\")\n",
    "    for region in regions:\n",
    "        print(region)\n",
    "    print()\n",
    "\n",
    "\n",
    "print()\n",
    "print()\n",
    "\n",
    "# Set to store gene symbols for which information has already been retrieved\n",
    "retrieved_symbols = set()\n",
    "\n",
    "# Run gi.gene_info() for each unique gene symbol\n",
    "for gene_symbol in unique_genes:\n",
    "    # Check if gene information has already been retrieved for this symbol\n",
    "    if gene_symbol not in retrieved_symbols:\n",
    "        gene_info = gi.gene_info(gene_symbol)\n",
    "        if gene_info is not None:\n",
    "            print(f\"Gene info for {gene_symbol}: {gene_info}\")\n"
   ]
  },
  {
   "cell_type": "code",
   "execution_count": null,
   "id": "6a4b470c-8fd3-47bd-97ba-f96547e5e355",
   "metadata": {},
   "outputs": [
    {
     "name": "stdout",
     "output_type": "stream",
     "text": [
      "Gene regions for combined_GBR:\n",
      "\n",
      "Gene regions for combined_FIN:\n",
      "\n",
      "Gene regions for combined_IBS:\n",
      "('PRKX', 3604339, 3713649)\n",
      "('TENM1', 124375902, 124963817)\n",
      "\n",
      "Gene regions for combined_TSI:\n",
      "('LOC112268307', 64205945, 64312562)\n",
      "\n",
      "\n",
      "\n"
     ]
    },
    {
     "data": {
      "text/markdown": [
       "**Symbol:** **_LOC112268307_** (protein-coding)  \n",
       "*uncharacterized LOC112268307*  \n",
       "[Gene card](https://www.genecards.org/cgi-bin/carddisp.pl?gene=LOC112268307)  \n",
       "\n",
       "\n",
       " ----"
      ],
      "text/plain": [
       "<IPython.core.display.Markdown object>"
      ]
     },
     "metadata": {},
     "output_type": "display_data"
    },
    {
     "data": {
      "text/markdown": [
       "**Symbol:** **_PRKX_** (protein-coding) &nbsp; &nbsp; &nbsp; &nbsp; **Aliases:** PKX1  \n",
       "*protein kinase cAMP-dependent X-linked catalytic subunit*  \n",
       "**Summary:** This gene encodes a serine threonine protein kinase that has similarity to the catalytic subunit of cyclic AMP dependent protein kinases. The encoded protein is developmentally regulated and may be involved in renal epithelial morphogenesis. This protein may also be involved in macrophage and granulocyte maturation. Abnormal recombination between this gene and a related pseudogene on chromosome Y is a frequent cause of sex reversal disorder in XX males and XY females. Pseudogenes of this gene are found on chromosomes X, 15 and Y. [provided by RefSeq, Feb 2010].  \n",
       "**Genomic position:** X:3604340-3713649 (hg38), X:3522411-3631649 (hg19)  \n",
       "[Gene card](https://www.genecards.org/cgi-bin/carddisp.pl?gene=PRKX)  \n",
       "\n",
       "\n",
       " ----"
      ],
      "text/plain": [
       "<IPython.core.display.Markdown object>"
      ]
     },
     "metadata": {},
     "output_type": "display_data"
    },
    {
     "data": {
      "text/markdown": [
       "**Symbol:** **_TENM1_** (protein-coding) &nbsp; &nbsp; &nbsp; &nbsp; **Aliases:** ODZ1, ODZ3, TEN-M1, TEN1, TNM, TNM1, ten-1  \n",
       "*teneurin transmembrane protein 1*  \n",
       "**Summary:** The protein encoded by this gene belongs to the tenascin family and teneurin subfamily. It is expressed in the neurons and may function as a cellular signal transducer. Several alternatively spliced transcript variants encoding different isoforms have been found for this gene. [provided by RefSeq, Sep 2009].  \n",
       "**Genomic position:** X:124375903-125204312 (hg38), X:123509753-124097666 (hg19)  \n",
       "[Gene card](https://www.genecards.org/cgi-bin/carddisp.pl?gene=TENM1)  \n",
       "\n",
       "\n",
       " ----"
      ],
      "text/plain": [
       "<IPython.core.display.Markdown object>"
      ]
     },
     "metadata": {},
     "output_type": "display_data"
    }
   ],
   "source": [
    "threshold = 6\n",
    "\n",
    "# Function to define window to search nearby genes\n",
    "def get_window_range(position, window_size):\n",
    "    x_min = position - window_size // 2\n",
    "    x_max = position + window_size // 2\n",
    "    return x_min, x_max\n",
    "\n",
    "# List of file paths\n",
    "file_paths = [\n",
    "    '/home/ari/ari-intern/people/ari/ariadna-intern/results/combined_GBR.csv',\n",
    "    '/home/ari/ari-intern/people/ari/ariadna-intern/results/combined_FIN.csv',\n",
    "    '/home/ari/ari-intern/people/ari/ariadna-intern/results/combined_IBS.csv',\n",
    "    '/home/ari/ari-intern/people/ari/ariadna-intern/results/combined_TSI.csv'\n",
    "]\n",
    "\n",
    "# Dictionary to store gene regions for each population\n",
    "gene_regions = {}\n",
    "\n",
    "# Set to store unique gene symbols\n",
    "unique_genes = set()\n",
    "\n",
    "# Iterate over file paths\n",
    "for file_path in file_paths:\n",
    "    # Extract population name from the filename\n",
    "    population_name = os.path.splitext(os.path.basename(file_path))[0]\n",
    "    \n",
    "    # Read data\n",
    "    data = pd.read_csv(file_path)\n",
    "    \n",
    "    # Add 'population' column\n",
    "    data['population'] = population_name\n",
    "    \n",
    "    # Filter data based on threshold\n",
    "    filtered_data = data[data['combined_p_values'] > threshold]\n",
    "    \n",
    "    # Initialize a list to store gene regions for the current population\n",
    "    population_gene_regions = []\n",
    "    \n",
    "    # Iterate over rows and calculate gene regions\n",
    "    for index, row in filtered_data.iterrows():\n",
    "        genomic_position = row['pos']\n",
    "        window_size = 1000  # Set window size !!!!!!! 500 bp on each SNP side\n",
    "        x_min, x_max = get_window_range(genomic_position, window_size)\n",
    "        \n",
    "        # Call gi.get_genes_region() for the current region\n",
    "        gene_region = gi.get_genes_region('chrX', x_min, x_max, assembly='hg38')\n",
    "        \n",
    "        # Extract gene symbol, start position, and end position from the result\n",
    "        if gene_region:  # Check if gene_region is not empty\n",
    "            gene_symbol = gene_region[0][0]\n",
    "            start_position = gene_region[0][1]\n",
    "            end_position = gene_region[0][2]\n",
    "            \n",
    "            # Append the extracted information to the list of gene regions for the current population\n",
    "            population_gene_regions.append((gene_symbol, start_position, end_position))\n",
    "            \n",
    "# Add gene symbol to set of unique genes\n",
    "            unique_genes.add(gene_symbol)\n",
    "    \n",
    "    # Store the list of gene regions for the current population in the dictionary\n",
    "    gene_regions[population_name] = population_gene_regions\n",
    "\n",
    "# Print gene regions for all populations\n",
    "for population, regions in gene_regions.items():\n",
    "    print(f\"Gene regions for {population}:\")\n",
    "    for region in regions:\n",
    "        print(region)\n",
    "    print()\n",
    "\n",
    "\n",
    "print()\n",
    "print()\n",
    "\n",
    "# Set to store gene symbols for which information has already been retrieved\n",
    "retrieved_symbols = set()\n",
    "\n",
    "# Run gi.gene_info() for each unique gene symbol\n",
    "for gene_symbol in unique_genes:\n",
    "    # Check if gene information has already been retrieved for this symbol\n",
    "    if gene_symbol not in retrieved_symbols:\n",
    "        gene_info = gi.gene_info(gene_symbol)\n",
    "        if gene_info is not None:\n",
    "            print(f\"Gene info for {gene_symbol}: {gene_info}\")"
   ]
  },
  {
   "cell_type": "code",
   "execution_count": 36,
   "id": "8ab64907-5e32-40fa-8511-5bdda7374070",
   "metadata": {},
   "outputs": [
    {
     "name": "stdout",
     "output_type": "stream",
     "text": [
      "Gene regions for combined_CDX:\n",
      "\n",
      "Gene regions for combined_CHS:\n",
      "('CLCN4', 10156974, 10237660)\n",
      "\n",
      "Gene regions for combined_CHB:\n",
      "('PASD1', 151563674, 151676739)\n",
      "\n",
      "Gene regions for combined_KHV:\n",
      "('PASD1', 151563674, 151676739)\n",
      "\n",
      "Gene regions for combined_JPT:\n",
      "\n",
      "\n",
      "\n"
     ]
    },
    {
     "data": {
      "text/markdown": [
       "**Symbol:** **_PASD1_** (protein-coding) &nbsp; &nbsp; &nbsp; &nbsp; **Aliases:** CT63, CT64, OXTES1  \n",
       "*PAS domain containing repressor 1*  \n",
       "**Summary:** This gene encodes a protein that is thought to function as a transcription factor. The protein is a cancer-associated antigen that can stimulate autologous T-cell responses, and it is therefore considered to be a potential immunotherapeutic target for the treatment of various hematopoietic malignancies, including diffuse large B-cell lymphoma. [provided by RefSeq, May 2010].  \n",
       "**Genomic position:** X:151563675-151676739 (hg38), X:150732094-150845211 (hg19)  \n",
       "[Gene card](https://www.genecards.org/cgi-bin/carddisp.pl?gene=PASD1)  \n",
       "\n",
       "\n",
       " ----"
      ],
      "text/plain": [
       "<IPython.core.display.Markdown object>"
      ]
     },
     "metadata": {},
     "output_type": "display_data"
    },
    {
     "data": {
      "text/markdown": [
       "**Symbol:** **_CLCN4_** (protein-coding) &nbsp; &nbsp; &nbsp; &nbsp; **Aliases:** CLC4, ClC-4, ClC-4A, MRX15, MRX49, MRXSRC  \n",
       "*chloride voltage-gated channel 4*  \n",
       "**Summary:** The CLCN family of voltage-dependent chloride channel genes comprises nine members (CLCN1-7, Ka and Kb) which demonstrate quite diverse functional characteristics while sharing significant sequence homology. Chloride channel 4 has an evolutionary conserved CpG island and is conserved in both mouse and hamster. This gene is mapped in close proximity to APXL (Apical protein Xenopus laevis-like) and OA1 (Ocular albinism type I), which are both located on the human X chromosome at band p22.3. The physiological role of chloride channel 4 remains unknown but may contribute to the pathogenesis of neuronal disorders. Alternate splicing results in two transcript variants that encode different proteins. [provided by RefSeq, Mar 2012].  \n",
       "**Genomic position:** X:10156975-10237660 (hg38), X:10125024-10205700 (hg19)  \n",
       "[Gene card](https://www.genecards.org/cgi-bin/carddisp.pl?gene=CLCN4)  \n",
       "\n",
       "\n",
       " ----"
      ],
      "text/plain": [
       "<IPython.core.display.Markdown object>"
      ]
     },
     "metadata": {},
     "output_type": "display_data"
    }
   ],
   "source": [
    "## ASIANS ##\n",
    "threshold = 6\n",
    "\n",
    "# Function to define window to search nearby genes\n",
    "def get_window_range(position, window_size):\n",
    "    x_min = position - window_size // 2\n",
    "    x_max = position + window_size // 2\n",
    "    return x_min, x_max\n",
    "\n",
    "# List of file paths\n",
    "file_paths = [\n",
    "    '/home/ari/ari-intern/people/ari/ariadna-intern/results/combined_CDX.csv',\n",
    "    '/home/ari/ari-intern/people/ari/ariadna-intern/results/combined_CHS.csv',\n",
    "    '/home/ari/ari-intern/people/ari/ariadna-intern/results/combined_CHB.csv',\n",
    "    '/home/ari/ari-intern/people/ari/ariadna-intern/results/combined_KHV.csv',\n",
    "    '/home/ari/ari-intern/people/ari/ariadna-intern/results/combined_JPT.csv'\n",
    "]\n",
    "\n",
    "# Dictionary to store gene regions for each population\n",
    "gene_regions = {}\n",
    "\n",
    "# Set to store unique gene symbols\n",
    "unique_genes = set()\n",
    "\n",
    "# Iterate over file paths\n",
    "for file_path in file_paths:\n",
    "    # Extract population name from the filename\n",
    "    population_name = os.path.splitext(os.path.basename(file_path))[0]\n",
    "    \n",
    "    # Read data\n",
    "    data = pd.read_csv(file_path)\n",
    "    \n",
    "    # Add 'population' column\n",
    "    data['population'] = population_name\n",
    "    \n",
    "    # Filter data based on threshold\n",
    "    filtered_data = data[data['combined_p_values'] > threshold]\n",
    "    \n",
    "    # Initialize a list to store gene regions for the current population\n",
    "    population_gene_regions = []\n",
    "    \n",
    "    # Iterate over rows and calculate gene regions\n",
    "    for index, row in filtered_data.iterrows():\n",
    "        genomic_position = row['pos']\n",
    "        window_size = 1000  # Set window size !!!!!!! 500 bp on each SNP side\n",
    "        x_min, x_max = get_window_range(genomic_position, window_size)\n",
    "        \n",
    "        # Call gi.get_genes_region() for the current region\n",
    "        gene_region = gi.get_genes_region('chrX', x_min, x_max, assembly='hg38')\n",
    "        \n",
    "        # Extract gene symbol, start position, and end position from the result\n",
    "        if gene_region:  # Check if gene_region is not empty\n",
    "            gene_symbol = gene_region[0][0]\n",
    "            start_position = gene_region[0][1]\n",
    "            end_position = gene_region[0][2]\n",
    "            \n",
    "            # Append the extracted information to the list of gene regions for the current population\n",
    "            population_gene_regions.append((gene_symbol, start_position, end_position))\n",
    "            \n",
    "# Add gene symbol to set of unique genes\n",
    "            unique_genes.add(gene_symbol)\n",
    "    \n",
    "    # Store the list of gene regions for the current population in the dictionary\n",
    "    gene_regions[population_name] = population_gene_regions\n",
    "\n",
    "# Print gene regions for all populations\n",
    "for population, regions in gene_regions.items():\n",
    "    print(f\"Gene regions for {population}:\")\n",
    "    for region in regions:\n",
    "        print(region)\n",
    "    print()\n",
    "\n",
    "\n",
    "print()\n",
    "print()\n",
    "\n",
    "# Set to store gene symbols for which information has already been retrieved\n",
    "retrieved_symbols = set()\n",
    "\n",
    "# Run gi.gene_info() for each unique gene symbol\n",
    "for gene_symbol in unique_genes:\n",
    "    # Check if gene information has already been retrieved for this symbol\n",
    "    if gene_symbol not in retrieved_symbols:\n",
    "        gene_info = gi.gene_info(gene_symbol)\n",
    "        if gene_info is not None:\n",
    "            print(f\"Gene info for {gene_symbol}: {gene_info}\")"
   ]
  },
  {
   "cell_type": "code",
   "execution_count": null,
   "id": "6c818932-f2b8-4236-9044-0d5a883514a6",
   "metadata": {},
   "outputs": [],
   "source": []
  }
 ],
 "metadata": {
  "kernelspec": {
   "display_name": "Python 3 (ipykernel)",
   "language": "python",
   "name": "python3"
  },
  "language_info": {
   "codemirror_mode": {
    "name": "ipython",
    "version": 3
   },
   "file_extension": ".py",
   "mimetype": "text/x-python",
   "name": "python",
   "nbconvert_exporter": "python",
   "pygments_lexer": "ipython3",
   "version": "3.8.18"
  }
 },
 "nbformat": 4,
 "nbformat_minor": 5
}
