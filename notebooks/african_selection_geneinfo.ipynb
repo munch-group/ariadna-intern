{
 "cells": [
  {
   "cell_type": "code",
   "execution_count": 3,
   "id": "bd8f51ea-061e-4092-ad92-0510897fe21d",
   "metadata": {
    "jupyter": {
     "source_hidden": true
    },
    "tags": []
   },
   "outputs": [],
   "source": [
    " ### PLOT DATA OVER GENE ANNOTATION ###"
   ]
  },
  {
   "cell_type": "code",
   "execution_count": 4,
   "id": "713c8784-1dfa-4a7a-8e9c-c6f525a2143c",
   "metadata": {
    "collapsed": true,
    "jupyter": {
     "outputs_hidden": true,
     "source_hidden": true
    },
    "tags": []
   },
   "outputs": [
    {
     "ename": "NameError",
     "evalue": "name 'LWK' is not defined",
     "output_type": "error",
     "traceback": [
      "\u001b[0;31m---------------------------------------------------------------------------\u001b[0m",
      "\u001b[0;31mNameError\u001b[0m                                 Traceback (most recent call last)",
      "Cell \u001b[0;32mIn[4], line 1\u001b[0m\n\u001b[0;32m----> 1\u001b[0m LWK_x \u001b[38;5;241m=\u001b[39m \u001b[43mLWK\u001b[49m[\u001b[38;5;124m'\u001b[39m\u001b[38;5;124mpos\u001b[39m\u001b[38;5;124m'\u001b[39m]\n\u001b[1;32m      2\u001b[0m LWK_y \u001b[38;5;241m=\u001b[39m \u001b[38;5;241m-\u001b[39m(LWK[\u001b[38;5;124m'\u001b[39m\u001b[38;5;124mwhen_mutation_has_freq2\u001b[39m\u001b[38;5;124m'\u001b[39m])\n\u001b[1;32m      3\u001b[0m LWK_ax \u001b[38;5;241m=\u001b[39m gi\u001b[38;5;241m.\u001b[39mgene_plot(\u001b[38;5;124m'\u001b[39m\u001b[38;5;124mchrX\u001b[39m\u001b[38;5;124m'\u001b[39m, \u001b[38;5;241m23334395\u001b[39m, \u001b[38;5;241m23404374\u001b[39m,\u001b[38;5;124m'\u001b[39m\u001b[38;5;124mhg38\u001b[39m\u001b[38;5;124m'\u001b[39m)\n",
      "\u001b[0;31mNameError\u001b[0m: name 'LWK' is not defined"
     ]
    }
   ],
   "source": [
    "LWK_x = LWK['pos']\n",
    "LWK_y = -(LWK['when_mutation_has_freq2'])\n",
    "LWK_ax = gi.gene_plot('chrX', 23334395, 23404374,'hg38')\n",
    "LWK_ax.plot(LWK_x, LWK_y)\n",
    "plt.tight_layout()"
   ]
  },
  {
   "cell_type": "code",
   "execution_count": null,
   "id": "3187061e-6841-416d-bf61-d075049a2955",
   "metadata": {
    "jupyter": {
     "source_hidden": true
    },
    "tags": []
   },
   "outputs": [],
   "source": [
    "GWD = pd.read_csv(\"/home/ari/ari-intern/people/ari/ariadna-intern/notebooks/GWD_pos_pvalue.csv\")\n",
    "GWD"
   ]
  },
  {
   "cell_type": "code",
   "execution_count": null,
   "id": "08c86876-b050-4e86-9abf-e3681a718583",
   "metadata": {
    "jupyter": {
     "source_hidden": true
    },
    "tags": []
   },
   "outputs": [],
   "source": [
    "GWD_x = GWD['pos']\n",
    "GWD_y = -(GWD['when_mutation_has_freq2'])\n",
    "GWD_ax = gi.gene_plot('chrX', 23334395, 23404374,'hg38')\n",
    "GWD_ax.plot(GWD_x, GWD_y)\n",
    "plt.tight_layout()"
   ]
  },
  {
   "cell_type": "code",
   "execution_count": null,
   "id": "86ddf5bc-3fc4-4b41-b816-80da707b7f97",
   "metadata": {
    "jupyter": {
     "source_hidden": true
    },
    "tags": []
   },
   "outputs": [],
   "source": [
    "YRI = pd.read_csv(\"/home/ari/ari-intern/people/ari/ariadna-intern/notebooks/YRI_pos_pvalue.csv\")\n",
    "YRI"
   ]
  },
  {
   "cell_type": "code",
   "execution_count": null,
   "id": "5b869c98-96cf-40fe-88d4-35d70b281f08",
   "metadata": {
    "jupyter": {
     "source_hidden": true
    },
    "tags": []
   },
   "outputs": [],
   "source": [
    "YRI_x = YRI['pos']\n",
    "YRI_y = -(YRI['when_mutation_has_freq2'])\n",
    "YRI_ax = gi.gene_plot('chrX', 23334395, 23404374,'hg38')\n",
    "YRI_ax.plot(YRI_x, YRI_y)\n",
    "plt.tight_layout()"
   ]
  },
  {
   "cell_type": "code",
   "execution_count": null,
   "id": "15d28b12-2388-40c7-8456-ff19c70e8e02",
   "metadata": {
    "jupyter": {
     "source_hidden": true
    },
    "tags": []
   },
   "outputs": [],
   "source": [
    "ESN = pd.read_csv(\"/home/ari/ari-intern/people/ari/ariadna-intern/notebooks/ESN_pos_pvalue.csv\")\n",
    "ESN"
   ]
  },
  {
   "cell_type": "code",
   "execution_count": null,
   "id": "75e1c10e-b8f3-459c-8da9-2f750ed10e22",
   "metadata": {
    "jupyter": {
     "source_hidden": true
    },
    "tags": []
   },
   "outputs": [],
   "source": [
    "ESN_x = ESN['pos']\n",
    "ESN_y = -(ESN['when_mutation_has_freq2'])\n",
    "ESN_ax = gi.gene_plot('chrX', 23334395, 23404374,'hg38')\n",
    "ESN_ax.plot(ESN_x, ESN_y)\n",
    "plt.tight_layout()"
   ]
  },
  {
   "cell_type": "code",
   "execution_count": null,
   "id": "34edc250-b93e-4ff7-b828-217cbd070009",
   "metadata": {
    "jupyter": {
     "source_hidden": true
    },
    "tags": []
   },
   "outputs": [],
   "source": [
    "MSL = pd.read_csv(\"/home/ari/ari-intern/people/ari/ariadna-intern/notebooks/MSL_pos_pvalue.csv\")\n",
    "MSL"
   ]
  },
  {
   "cell_type": "code",
   "execution_count": null,
   "id": "abf938c3-7793-499f-a766-8b77f645ca73",
   "metadata": {
    "jupyter": {
     "source_hidden": true
    },
    "tags": []
   },
   "outputs": [],
   "source": [
    "MSL_x = MSL['pos']\n",
    "MSL_y = -(MSL['when_mutation_has_freq2'])\n",
    "MSL_ax = gi.gene_plot('chrX', 23334395, 23404374,'hg38')\n",
    "MSL_ax.plot(MSL_x, MSL_y)\n",
    "plt.tight_layout()"
   ]
  },
  {
   "cell_type": "code",
   "execution_count": null,
   "id": "728c4957-3d3c-41e3-ae32-7f97cf6c1c01",
   "metadata": {
    "jupyter": {
     "source_hidden": true
    },
    "tags": []
   },
   "outputs": [],
   "source": [
    "# PTCHD1 threshold\n",
    "LWK_ax, GWD_ax, YRI_ax = gi.gene_plot('chrX', 23334395, 23404374, assembly='hg38', return_axes=3, aspect=0.1)\n",
    "LWK_ax.plot(LWK_x, LWK_y)\n",
    "GWD_ax.plot(GWD_x, GWD_y)\n",
    "YRI_ax.plot(YRI_x, YRI_y)\n",
    "plt.tight_layout()"
   ]
  },
  {
   "cell_type": "code",
   "execution_count": null,
   "id": "7fc85eb3-1414-45f8-90f4-cf5fdd99d6fd",
   "metadata": {
    "jupyter": {
     "source_hidden": true
    },
    "tags": []
   },
   "outputs": [],
   "source": [
    "# PTCHD1 all\n",
    "LWK_ax, GWD_ax, YRI_ax, ESN_ax, MSL_ax = gi.gene_plot('chrX', 23334395, 23404374, assembly='hg38', return_axes=5, aspect=0.1)\n",
    "LWK_ax.plot(LWK_x, LWK_y)\n",
    "GWD_ax.plot(GWD_x, GWD_y)\n",
    "YRI_ax.plot(YRI_x, YRI_y)\n",
    "ESN_ax.plot(ESN_x, ESN_y) # p-values not below threshold\n",
    "MSL_ax.plot(MSL_x, MSL_y) # p-values not below threshold\n",
    "plt.tight_layout()"
   ]
  },
  {
   "cell_type": "code",
   "execution_count": null,
   "id": "57a460a0-e7c2-4cc6-bad1-1cae43813fe5",
   "metadata": {
    "jupyter": {
     "source_hidden": true
    },
    "tags": []
   },
   "outputs": [],
   "source": [
    "# CDKL5 threshold\n",
    "YRI_ax, ESN_ax = gi.gene_plot('chrX', 18425607, 18640196, assembly='hg38', return_axes=2, aspect=0.1)\n",
    "YRI_ax.plot(YRI_x, YRI_y)\n",
    "ESN_ax.plot(ESN_x, ESN_y)\n",
    "plt.tight_layout()"
   ]
  },
  {
   "cell_type": "code",
   "execution_count": 5,
   "id": "8c332da2-a7dd-4f0b-8ad5-6a2a050636ef",
   "metadata": {
    "collapsed": true,
    "jupyter": {
     "outputs_hidden": true,
     "source_hidden": true
    },
    "tags": []
   },
   "outputs": [
    {
     "name": "stdout",
     "output_type": "stream",
     "text": [
      "Gene regions for GBR:\n",
      "Gene regions for FIN:\n",
      "('IL1RAPL1', 28587445, 29956718)\n",
      "Gene regions for IBS:\n",
      "('WWC3', 10015253, 10144474)\n",
      "Gene regions for TSI:\n",
      "('PRKX', 3604339, 3713649)\n",
      "\n",
      "\n"
     ]
    },
    {
     "data": {
      "text/markdown": [
       "**Symbol:** **_PRKX_** (protein-coding) &nbsp; &nbsp; &nbsp; &nbsp; **Aliases:** PKX1  \n",
       "*protein kinase cAMP-dependent X-linked catalytic subunit*  \n",
       "**Summary:** This gene encodes a serine threonine protein kinase that has similarity to the catalytic subunit of cyclic AMP dependent protein kinases. The encoded protein is developmentally regulated and may be involved in renal epithelial morphogenesis. This protein may also be involved in macrophage and granulocyte maturation. Abnormal recombination between this gene and a related pseudogene on chromosome Y is a frequent cause of sex reversal disorder in XX males and XY females. Pseudogenes of this gene are found on chromosomes X, 15 and Y. [provided by RefSeq, Feb 2010].  \n",
       "**Genomic position:** X:3604340-3713649 (hg38), X:3522411-3631649 (hg19)  \n",
       "[Gene card](https://www.genecards.org/cgi-bin/carddisp.pl?gene=PRKX)  \n",
       "\n",
       "\n",
       " ----"
      ],
      "text/plain": [
       "<IPython.core.display.Markdown object>"
      ]
     },
     "metadata": {},
     "output_type": "display_data"
    },
    {
     "data": {
      "text/markdown": [
       "**Symbol:** **_WWC3_** (protein-coding) &nbsp; &nbsp; &nbsp; &nbsp; **Aliases:** BM042  \n",
       "*WWC family member 3*  \n",
       "**Summary:** This gene encodes a member of the WWC family of proteins, which also includes the WWC1 (KIBRA) gene product and the WWC2 gene product. The protein encoded by this gene includes a C2 domain, which is known to mediate homodimerization in the related WWC1 gene product. [provided by RefSeq, Sep 2011].  \n",
       "**Genomic position:** X:10015254-10144474 (hg38), X:9983602-10112518 (hg19)  \n",
       "[Gene card](https://www.genecards.org/cgi-bin/carddisp.pl?gene=WWC3)  \n",
       "\n",
       "\n",
       " ----"
      ],
      "text/plain": [
       "<IPython.core.display.Markdown object>"
      ]
     },
     "metadata": {},
     "output_type": "display_data"
    },
    {
     "data": {
      "text/markdown": [
       "**Symbol:** **_IL1RAPL1_** (protein-coding) &nbsp; &nbsp; &nbsp; &nbsp; **Aliases:** IL-1-RAPL-1, IL-1RAPL-1, IL1R8, IL1RAPL, IL1RAPL-1, MRX10, MRX21, MRX34, OPHN4, TIGIRR-2  \n",
       "*interleukin 1 receptor accessory protein like 1*  \n",
       "**Summary:** The protein encoded by this gene is a member of the interleukin 1 receptor family and is similar to the interleukin 1 accessory proteins. This protein has an N-terminal signal peptide, three extracellular immunoglobulin Ig-like domains, a transmembrane domain, an intracellular Toll/IL-1R domain, and a long C-terminal tail which interacts with multiple signalling molecules. This gene is located at a region on chromosome X that is associated with a non-syndromic form of X-linked intellectual disability. Deletions and mutations in this gene were found in patients with intellectual disability. This gene is expressed at a high level in post-natal brain structures involved in the hippocampal memory system, which suggests a specialized role in the physiological processes underlying memory and learning abilities, and plays a role in synapse formation and stabilization. [provided by RefSeq, Jul 2017].  \n",
       "**Genomic position:** X:28587446-29956718 (hg38), X:28605516-29974840 (hg19)  \n",
       "[Gene card](https://www.genecards.org/cgi-bin/carddisp.pl?gene=IL1RAPL1)  \n",
       "\n",
       "\n",
       " ----"
      ],
      "text/plain": [
       "<IPython.core.display.Markdown object>"
      ]
     },
     "metadata": {},
     "output_type": "display_data"
    }
   ],
   "source": [
    "## EUROPEANS RELATE ##\n",
    "# just take SNPs above the threshold\n",
    "all_data = pd.read_csv(\"/home/ari/ari-intern/people/ari/ariadna-intern/notebooks/europeans_data/europeans_low_pvalue.csv\")\n",
    "data = all_data.iloc[:, [0, -2, -1]]\n",
    "\n",
    "# Function to define window to search nearby genes\n",
    "def get_window_range(position, window_size):\n",
    "    x_min = position - window_size // 2\n",
    "    x_max = position + window_size // 2\n",
    "    return x_min, x_max\n",
    "\n",
    "# Define populations\n",
    "populations = data['population'].unique()\n",
    "\n",
    "# Dictionary to store gene regions for each population\n",
    "gene_regions = {}\n",
    "\n",
    "# Set to store unique gene symbols\n",
    "unique_genes = set()\n",
    "\n",
    "# Iterate over populations\n",
    "for population in populations:\n",
    "    # Filter data for the current population\n",
    "    population_data = data[data['population'] == population]\n",
    "    \n",
    "    # Initialize a list to store gene regions for the current population\n",
    "    population_gene_regions = []\n",
    "    \n",
    "    # Iterate over rows and calculate gene regions\n",
    "    for index, row in population_data.iterrows():\n",
    "        genomic_position = row['pos']\n",
    "        window_size = 1000  # Set window size !!!!!!!!!!!!!!!!!!!! 5000bp on each side\n",
    "        x_min, x_max = get_window_range(genomic_position, window_size)\n",
    "        \n",
    "        # Call gi.get_genes_region() for the current region\n",
    "        gene_region = gi.get_genes_region('chrX', x_min, x_max, assembly='hg38')\n",
    "        \n",
    "        # Extract gene symbol, start position, and end position from the result\n",
    "        if gene_region:  # Check if gene_region is not empty\n",
    "            gene_symbol = gene_region[0][0]\n",
    "            start_position = gene_region[0][1]\n",
    "            end_position = gene_region[0][2]\n",
    "            \n",
    "            # Append the extracted information to the list of gene regions for the current population\n",
    "            population_gene_regions.append((gene_symbol, start_position, end_position))\n",
    "            \n",
    "            # Add gene symbol to set of unique genes\n",
    "            unique_genes.add(gene_symbol)\n",
    "    \n",
    "    # Store the list of gene regions for the current population in the dictionary\n",
    "    gene_regions[population] = population_gene_regions\n",
    "\n",
    "# Print gene regions for all populations\n",
    "for population, regions in gene_regions.items():\n",
    "    print(f\"Gene regions for {population}:\")\n",
    "    for region in regions:\n",
    "        print(region)\n",
    "\n",
    "print()\n",
    "print()\n",
    "\n",
    "# Set to store gene symbols for which information has already been retrieved\n",
    "retrieved_symbols = set()\n",
    "\n",
    "# Run gi.gene_info() for each unique gene symbol\n",
    "for gene_symbol in unique_genes:\n",
    "    # Check if gene information has already been retrieved for this symbol\n",
    "    if gene_symbol not in retrieved_symbols:\n",
    "        gene_info = gi.gene_info(gene_symbol)\n",
    "        if gene_info is not None:\n",
    "            print(f\"Gene info for {gene_symbol}: {gene_info}\")"
   ]
  },
  {
   "cell_type": "code",
   "execution_count": null,
   "id": "b16ec1af-3ccb-4ff7-b1e9-8911718465dd",
   "metadata": {
    "jupyter": {
     "source_hidden": true
    },
    "tags": []
   },
   "outputs": [],
   "source": [
    "## ASIANS RELATE ##\n",
    "\n",
    "# just take SNPs above the threshold\n",
    "all_data = pd.read_csv(\"/home/ari/ari-intern/people/ari/ariadna-intern/notebooks/asians_data/asians_low_pvalue.csv\")\n",
    "data = all_data.iloc[:, [0, -2, -1]]\n",
    "\n",
    "# Function to define window to search nearby genes\n",
    "def get_window_range(position, window_size):\n",
    "    x_min = position - window_size // 2\n",
    "    x_max = position + window_size // 2\n",
    "    return x_min, x_max\n",
    "\n",
    "# Define populations\n",
    "populations = data['population'].unique()\n",
    "\n",
    "# Dictionary to store gene regions for each population\n",
    "gene_regions = {}\n",
    "\n",
    "# Set to store unique gene symbols\n",
    "unique_genes = set()\n",
    "\n",
    "# Iterate over populations\n",
    "for population in populations:\n",
    "    # Filter data for the current population\n",
    "    population_data = data[data['population'] == population]\n",
    "    \n",
    "    # Initialize a list to store gene regions for the current population\n",
    "    population_gene_regions = []\n",
    "    \n",
    "    # Iterate over rows and calculate gene regions\n",
    "    for index, row in population_data.iterrows():\n",
    "        genomic_position = row['pos']\n",
    "        window_size = 1000  # Set window size !!!!!!!!!!!!!!!!!!!! 5000bp on each side\n",
    "        x_min, x_max = get_window_range(genomic_position, window_size)\n",
    "        \n",
    "        # Call gi.get_genes_region() for the current region\n",
    "        gene_region = gi.get_genes_region('chrX', x_min, x_max, assembly='hg38')\n",
    "        \n",
    "        # Extract gene symbol, start position, and end position from the result\n",
    "        if gene_region:  # Check if gene_region is not empty\n",
    "            gene_symbol = gene_region[0][0]\n",
    "            start_position = gene_region[0][1]\n",
    "            end_position = gene_region[0][2]\n",
    "            \n",
    "            # Append the extracted information to the list of gene regions for the current population\n",
    "            population_gene_regions.append((gene_symbol, start_position, end_position))\n",
    "            \n",
    "            # Add gene symbol to set of unique genes\n",
    "            unique_genes.add(gene_symbol)\n",
    "    \n",
    "    # Store the list of gene regions for the current population in the dictionary\n",
    "    gene_regions[population] = population_gene_regions\n",
    "\n",
    "# Print gene regions for all populations\n",
    "for population, regions in gene_regions.items():\n",
    "    print(f\"Gene regions for {population}:\")\n",
    "    for region in regions:\n",
    "        print(region)\n",
    "\n",
    "print()\n",
    "print()\n",
    "\n",
    "# Set to store gene symbols for which information has already been retrieved\n",
    "retrieved_symbols = set()\n",
    "\n",
    "# Run gi.gene_info() for each unique gene symbol\n",
    "for gene_symbol in unique_genes:\n",
    "    # Check if gene information has already been retrieved for this symbol\n",
    "    if gene_symbol not in retrieved_symbols:\n",
    "        gene_info = gi.gene_info(gene_symbol)\n",
    "        if gene_info is not None:\n",
    "            print(f\"Gene info for {gene_symbol}: {gene_info}\")"
   ]
  },
  {
   "cell_type": "code",
   "execution_count": 1,
   "id": "d1fcea24-4a34-4445-910d-6dd0845ce959",
   "metadata": {},
   "outputs": [
    {
     "ename": "NameError",
     "evalue": "name 'pd' is not defined",
     "output_type": "error",
     "traceback": [
      "\u001b[0;31m---------------------------------------------------------------------------\u001b[0m",
      "\u001b[0;31mNameError\u001b[0m                                 Traceback (most recent call last)",
      "Cell \u001b[0;32mIn[1], line 3\u001b[0m\n\u001b[1;32m      1\u001b[0m \u001b[38;5;66;03m## COMBINED P-VALUES ##\u001b[39;00m\n\u001b[1;32m      2\u001b[0m \u001b[38;5;66;03m# file containing values for africans populations with p-values>threshold (6)\u001b[39;00m\n\u001b[0;32m----> 3\u001b[0m data \u001b[38;5;241m=\u001b[39m \u001b[43mpd\u001b[49m\u001b[38;5;241m.\u001b[39mread_csv(\u001b[38;5;124m\"\u001b[39m\u001b[38;5;124m/home/ari/ari-intern/people/ari/ariadna-intern/results/combined_LWK.csv\u001b[39m\u001b[38;5;124m\"\u001b[39m, sep \u001b[38;5;241m=\u001b[39m\u001b[38;5;124m\"\u001b[39m\u001b[38;5;124m,\u001b[39m\u001b[38;5;124m\"\u001b[39m)\n\u001b[1;32m      4\u001b[0m \u001b[38;5;28mprint\u001b[39m(data)\n",
      "\u001b[0;31mNameError\u001b[0m: name 'pd' is not defined"
     ]
    }
   ],
   "source": [
    "## COMBINED P-VALUES ##\n",
    "# file containing values for africans populations with p-values>threshold (6)\n",
    "data = pd.read_csv(\"/home/ari/ari-intern/people/ari/ariadna-intern/results/combined_LWK.csv\", sep =\",\")\n",
    "print(data)"
   ]
  },
  {
   "cell_type": "code",
   "execution_count": 23,
   "id": "c2291827-9769-4200-b43f-6b4e36e29909",
   "metadata": {},
   "outputs": [
    {
     "name": "stdout",
     "output_type": "stream",
     "text": [
      "Gene regions for combined_LWK:\n",
      "('CASK', 41514933, 41665852)\n",
      "('RTL4', 112083012, 112457514)\n",
      "\n",
      "Gene regions for combined_ESN:\n",
      "('CASK', 41514933, 41923034)\n",
      "('RTL4', 112083012, 112457514)\n",
      "\n",
      "Gene regions for combined_GWD:\n",
      "('PAK3', 110944396, 111217494)\n",
      "\n",
      "Gene regions for combined_MSL:\n",
      "('PTCHD1-AS', 22193004, 23293146)\n",
      "\n",
      "Gene regions for combined_YRI:\n",
      "('PRKX', 3604339, 3713649)\n",
      "('TMEM164', 110002368, 110177788)\n",
      "('TMEM164', 110002368, 110177788)\n",
      "('TMEM164', 110002368, 110177788)\n",
      "('RAB33A', 130110622, 130184870)\n",
      "('RAB33A', 130110622, 130184870)\n",
      "\n",
      "\n",
      "\n"
     ]
    },
    {
     "data": {
      "text/markdown": [
       "**Symbol:** **_PTCHD1-AS_**   \n",
       "*PTCHD1 antisense RNA (head to head)*  \n",
       "[Gene card](https://www.genecards.org/cgi-bin/carddisp.pl?gene=PTCHD1-AS)  \n",
       "\n",
       "\n",
       " ----"
      ],
      "text/plain": [
       "<IPython.core.display.Markdown object>"
      ]
     },
     "metadata": {},
     "output_type": "display_data"
    },
    {
     "data": {
      "text/markdown": [
       "**Symbol:** **_RTL4_** (protein-coding) &nbsp; &nbsp; &nbsp; &nbsp; **Aliases:** Mar4, Mart4, SIRH11, ZCCHC16  \n",
       "*retrotransposon Gag like 4*  \n",
       "**Summary:** Predicted to enable nucleic acid binding activity and zinc ion binding activity. Predicted to act upstream of or within cognition and norepinephrine metabolic process. [provided by Alliance of Genome Resources, Apr 2022]  \n",
       "**Genomic position:** X:112083016-112457514 (hg38), X:111697727-111700473 (hg19)  \n",
       "[Gene card](https://www.genecards.org/cgi-bin/carddisp.pl?gene=RTL4)  \n",
       "\n",
       "\n",
       " ----"
      ],
      "text/plain": [
       "<IPython.core.display.Markdown object>"
      ]
     },
     "metadata": {},
     "output_type": "display_data"
    },
    {
     "data": {
      "text/markdown": [
       "**Symbol:** **_TMEM164_** (protein-coding) &nbsp; &nbsp; &nbsp; &nbsp; **Aliases:** bB360B22.3  \n",
       "*transmembrane protein 164*  \n",
       "**Summary:** Predicted to be integral component of membrane. [provided by Alliance of Genome Resources, Apr 2022]  \n",
       "**Genomic position:** X:110002631-110182734 (hg38), X:109245859-109425962 (hg19)  \n",
       "[Gene card](https://www.genecards.org/cgi-bin/carddisp.pl?gene=TMEM164)  \n",
       "\n",
       "\n",
       " ----"
      ],
      "text/plain": [
       "<IPython.core.display.Markdown object>"
      ]
     },
     "metadata": {},
     "output_type": "display_data"
    },
    {
     "data": {
      "text/markdown": [
       "**Symbol:** **_RAB33A_** (protein-coding) &nbsp; &nbsp; &nbsp; &nbsp; **Aliases:** RabS10  \n",
       "*RAB33A, member RAS oncogene family*  \n",
       "**Summary:** The protein encoded by this gene belongs to the small GTPase superfamily, Rab family. It is GTP-binding protein and may be involved in vesicle transport. [provided by RefSeq, Jul 2008].  \n",
       "**Genomic position:** X:130171962-130184870 (hg38), X:129305623-129318844 (hg19)  \n",
       "[Gene card](https://www.genecards.org/cgi-bin/carddisp.pl?gene=RAB33A)  \n",
       "\n",
       "\n",
       " ----"
      ],
      "text/plain": [
       "<IPython.core.display.Markdown object>"
      ]
     },
     "metadata": {},
     "output_type": "display_data"
    },
    {
     "data": {
      "text/markdown": [
       "**Symbol:** **_PRKX_** (protein-coding) &nbsp; &nbsp; &nbsp; &nbsp; **Aliases:** PKX1  \n",
       "*protein kinase cAMP-dependent X-linked catalytic subunit*  \n",
       "**Summary:** This gene encodes a serine threonine protein kinase that has similarity to the catalytic subunit of cyclic AMP dependent protein kinases. The encoded protein is developmentally regulated and may be involved in renal epithelial morphogenesis. This protein may also be involved in macrophage and granulocyte maturation. Abnormal recombination between this gene and a related pseudogene on chromosome Y is a frequent cause of sex reversal disorder in XX males and XY females. Pseudogenes of this gene are found on chromosomes X, 15 and Y. [provided by RefSeq, Feb 2010].  \n",
       "**Genomic position:** X:3604340-3713649 (hg38), X:3522411-3631649 (hg19)  \n",
       "[Gene card](https://www.genecards.org/cgi-bin/carddisp.pl?gene=PRKX)  \n",
       "\n",
       "\n",
       " ----"
      ],
      "text/plain": [
       "<IPython.core.display.Markdown object>"
      ]
     },
     "metadata": {},
     "output_type": "display_data"
    },
    {
     "data": {
      "text/markdown": [
       "**Symbol:** **_PAK3_** (protein-coding) &nbsp; &nbsp; &nbsp; &nbsp; **Aliases:** ARA, MRX30, MRX47, OPHN3, PAK-3, PAK3beta, XLID30, bPAK, beta-PAK  \n",
       "*p21 (RAC1) activated kinase 3*  \n",
       "**Summary:** The protein encoded by this gene is a serine-threonine kinase and forms an activated complex with GTP-bound RAS-like (P21), CDC2 and RAC1. This protein may be necessary for dendritic development and for the rapid cytoskeletal reorganization in dendritic spines associated with synaptic plasticity. Defects in this gene are the cause of a non-syndromic form of X-linked intellectual disability. Alternatively spliced transcript variants encoding different isoforms have been identified. [provided by RefSeq, Jul 2017].  \n",
       "**Genomic position:** X:110944285-111227361 (hg38), X:110187513-110470589 (hg19)  \n",
       "[Gene card](https://www.genecards.org/cgi-bin/carddisp.pl?gene=PAK3)  \n",
       "\n",
       "\n",
       " ----"
      ],
      "text/plain": [
       "<IPython.core.display.Markdown object>"
      ]
     },
     "metadata": {},
     "output_type": "display_data"
    },
    {
     "data": {
      "text/markdown": [
       "**Symbol:** **_CASK_** (protein-coding) &nbsp; &nbsp; &nbsp; &nbsp; **Aliases:** CAGH39, CAMGUK, CMG, FGS4, LIN2, MICPCH, MRXSNA, TNRC8, hCASK  \n",
       "*calcium/calmodulin dependent serine protein kinase*  \n",
       "**Summary:** This gene encodes a calcium/calmodulin-dependent serine protein kinase. The encoded protein is a MAGUK (membrane-associated guanylate kinase) protein family member. These proteins are scaffold proteins and the encoded protein is located at synapses in the brain. Mutations in this gene are associated with FG syndrome 4, intellectual disability and microcephaly with pontine and cerebellar hypoplasia, and a form of X-linked intellectual disability. Multiple transcript variants encoding different isoforms have been found for this gene. [provided by RefSeq, Jul 2017].  \n",
       "**Genomic position:** X:41514934-41923554 (hg38), X:41374187-41782716 (hg19)  \n",
       "[Gene card](https://www.genecards.org/cgi-bin/carddisp.pl?gene=CASK)  \n",
       "\n",
       "\n",
       " ----"
      ],
      "text/plain": [
       "<IPython.core.display.Markdown object>"
      ]
     },
     "metadata": {},
     "output_type": "display_data"
    }
   ],
   "source": [
    "## AFRICANS ##\n",
    "\n",
    "# Define the threshold\n",
    "threshold = 6\n",
    "\n",
    "# Function to define window to search nearby genes\n",
    "def get_window_range(position, window_size):\n",
    "    x_min = position - window_size // 2\n",
    "    x_max = position + window_size // 2\n",
    "    return x_min, x_max\n",
    "\n",
    "# List of file paths\n",
    "file_paths = [\n",
    "    '/home/ari/ari-intern/people/ari/ariadna-intern/results/combined_LWK.csv',\n",
    "    '/home/ari/ari-intern/people/ari/ariadna-intern/results/combined_ESN.csv',\n",
    "    '/home/ari/ari-intern/people/ari/ariadna-intern/results/combined_GWD.csv',\n",
    "    '/home/ari/ari-intern/people/ari/ariadna-intern/results/combined_MSL.csv',\n",
    "    '/home/ari/ari-intern/people/ari/ariadna-intern/results/combined_YRI.csv'\n",
    "]\n",
    "\n",
    "# Dictionary to store gene regions for each population\n",
    "gene_regions = {}\n",
    "\n",
    "# Set to store unique gene symbols\n",
    "unique_genes = set()\n",
    "\n",
    "# Iterate over file paths\n",
    "for file_path in file_paths:\n",
    "    # Extract population name from the filename\n",
    "    population_name = os.path.splitext(os.path.basename(file_path))[0]\n",
    "    \n",
    "    # Read data\n",
    "    data = pd.read_csv(file_path)\n",
    "    \n",
    "    # Add 'population' column\n",
    "    data['population'] = population_name\n",
    "    \n",
    "    # Filter data based on threshold\n",
    "    filtered_data = data[data['combined_p_values'] > threshold]\n",
    "    \n",
    "    # Initialize a list to store gene regions for the current population\n",
    "    population_gene_regions = []\n",
    "    \n",
    "    # Iterate over rows and calculate gene regions\n",
    "    for index, row in filtered_data.iterrows():\n",
    "        genomic_position = row['pos']\n",
    "        window_size = 1000  # Set window size !!!!!!! 500 bp on each SNP side\n",
    "        x_min, x_max = get_window_range(genomic_position, window_size)\n",
    "        \n",
    "        # Call gi.get_genes_region() for the current region\n",
    "        gene_region = gi.get_genes_region('chrX', x_min, x_max, assembly='hg38')\n",
    "        \n",
    "        # Extract gene symbol, start position, and end position from the result\n",
    "        if gene_region:  # Check if gene_region is not empty\n",
    "            gene_symbol = gene_region[0][0]\n",
    "            start_position = gene_region[0][1]\n",
    "            end_position = gene_region[0][2]\n",
    "            \n",
    "            # Append the extracted information to the list of gene regions for the current population\n",
    "            population_gene_regions.append((gene_symbol, start_position, end_position))\n",
    "            \n",
    "# Add gene symbol to set of unique genes\n",
    "            unique_genes.add(gene_symbol)\n",
    "    \n",
    "    # Store the list of gene regions for the current population in the dictionary\n",
    "    gene_regions[population_name] = population_gene_regions\n",
    "\n",
    "# Print gene regions for all populations\n",
    "for population, regions in gene_regions.items():\n",
    "    print(f\"Gene regions for {population}:\")\n",
    "    for region in regions:\n",
    "        print(region)\n",
    "    print()\n",
    "\n",
    "\n",
    "print()\n",
    "print()\n",
    "\n",
    "# Set to store gene symbols for which information has already been retrieved\n",
    "retrieved_symbols = set()\n",
    "\n",
    "# Run gi.gene_info() for each unique gene symbol\n",
    "for gene_symbol in unique_genes:\n",
    "    # Check if gene information has already been retrieved for this symbol\n",
    "    if gene_symbol not in retrieved_symbols:\n",
    "        gene_info = gi.gene_info(gene_symbol)\n",
    "        if gene_info is not None:\n",
    "            print(f\"Gene info for {gene_symbol}: {gene_info}\")\n"
   ]
  },
  {
   "cell_type": "code",
   "execution_count": null,
   "id": "560faaef-d5eb-4f78-acf0-ff798d7072ce",
   "metadata": {},
   "outputs": [],
   "source": []
  }
 ],
 "metadata": {
  "kernelspec": {
   "display_name": "Python 3 (ipykernel)",
   "language": "python",
   "name": "python3"
  },
  "language_info": {
   "codemirror_mode": {
    "name": "ipython",
    "version": 3
   },
   "file_extension": ".py",
   "mimetype": "text/x-python",
   "name": "python",
   "nbconvert_exporter": "python",
   "pygments_lexer": "ipython3",
   "version": "3.8.18"
  }
 },
 "nbformat": 4,
 "nbformat_minor": 5
}
