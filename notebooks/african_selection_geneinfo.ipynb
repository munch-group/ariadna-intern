{
 "cells": [
  {
   "cell_type": "code",
   "execution_count": 2,
   "id": "5c2848d8-cf97-4e43-b89c-30c46aa2949a",
   "metadata": {},
   "outputs": [
    {
     "name": "stdout",
     "output_type": "stream",
     "text": [
      "Gene regions for LWK:\n",
      "('PTCHD1', 23334395, 23404374)\n",
      "Gene regions for ESN:\n",
      "('CDKL5', 18425607, 18640196)\n",
      "('CDKL5', 18425607, 18640196)\n",
      "('CDKL5', 18425607, 18640196)\n",
      "('CDKL5', 18425607, 18640196)\n",
      "Gene regions for GWD:\n",
      "('BCLAF3', 19912859, 19988498)\n",
      "('EIF1AX', 20124524, 20141838)\n",
      "('PTCHD1-AS', 22193004, 23293146)\n",
      "('PTCHD1', 23334395, 23404374)\n",
      "('IL1RAPL1', 28587445, 29956718)\n",
      "('DMD', 31119221, 32412228)\n",
      "Gene regions for MSL:\n",
      "('LOC105373153', 33726365, 34077114)\n",
      "Gene regions for YRI:\n",
      "('PRKX', 3604339, 3713649)\n",
      "('CDKL5', 18425607, 18640196)\n",
      "('PTCHD1', 23334395, 23404374)\n",
      "\n",
      "\n"
     ]
    },
    {
     "data": {
      "text/markdown": [
       "**Symbol:** **_IL1RAPL1_** (protein-coding) &nbsp; &nbsp; &nbsp; &nbsp; **Aliases:** IL-1-RAPL-1, IL-1RAPL-1, IL1R8, IL1RAPL, IL1RAPL-1, MRX10, MRX21, MRX34, OPHN4, TIGIRR-2  \n",
       "*interleukin 1 receptor accessory protein like 1*  \n",
       "**Summary:** The protein encoded by this gene is a member of the interleukin 1 receptor family and is similar to the interleukin 1 accessory proteins. This protein has an N-terminal signal peptide, three extracellular immunoglobulin Ig-like domains, a transmembrane domain, an intracellular Toll/IL-1R domain, and a long C-terminal tail which interacts with multiple signalling molecules. This gene is located at a region on chromosome X that is associated with a non-syndromic form of X-linked intellectual disability. Deletions and mutations in this gene were found in patients with intellectual disability. This gene is expressed at a high level in post-natal brain structures involved in the hippocampal memory system, which suggests a specialized role in the physiological processes underlying memory and learning abilities, and plays a role in synapse formation and stabilization. [provided by RefSeq, Jul 2017].  \n",
       "**Genomic position:** X:28587446-29956718 (hg38), X:28605516-29974840 (hg19)  \n",
       "[Gene card](https://www.genecards.org/cgi-bin/carddisp.pl?gene=IL1RAPL1)  \n",
       "\n",
       "\n",
       " ----"
      ],
      "text/plain": [
       "<IPython.core.display.Markdown object>"
      ]
     },
     "metadata": {},
     "output_type": "display_data"
    },
    {
     "data": {
      "text/markdown": [
       "**Symbol:** **_PTCHD1_** (protein-coding) &nbsp; &nbsp; &nbsp; &nbsp; **Aliases:** AUTSX4, CXDELp22.11, DELXP22.11  \n",
       "*patched domain containing 1*  \n",
       "**Summary:** This gene encodes a membrane protein with a patched domain. The encoded protein is similar to Drosophila proteins which act as receptors for the morphogen sonic hedgehog. Deletions in this gene, which is located on the X chromosome, are associated with intellectual disability and autism (PMID: 21091464, PMID: 20844286). [provided by RefSeq, Aug 2011].  \n",
       "**Genomic position:** X:23334849-23404374 (hg38), X:23352133-23422489 (hg19)  \n",
       "[Gene card](https://www.genecards.org/cgi-bin/carddisp.pl?gene=PTCHD1)  \n",
       "\n",
       "\n",
       " ----"
      ],
      "text/plain": [
       "<IPython.core.display.Markdown object>"
      ]
     },
     "metadata": {},
     "output_type": "display_data"
    },
    {
     "data": {
      "text/markdown": [
       "**Symbol:** **_CDKL5_** (protein-coding) &nbsp; &nbsp; &nbsp; &nbsp; **Aliases:** CFAP247, DEE2, EIEE2, ISSX, STK9  \n",
       "*cyclin dependent kinase like 5*  \n",
       "**Summary:** This gene is a member of Ser/Thr protein kinase family and encodes a phosphorylated protein with protein kinase activity. Mutations in this gene have been associated with X-linked infantile spasm syndrome (ISSX), also known as X-linked West syndrome, and Rett syndrome (RTT). Alternate transcriptional splice variants have been characterized. [provided by RefSeq, Jul 2008].  \n",
       "**Genomic position:** X:18425583-18653629 (hg38), X:18443703-18671749 (hg19)  \n",
       "[Gene card](https://www.genecards.org/cgi-bin/carddisp.pl?gene=CDKL5)  \n",
       "\n",
       "\n",
       " ----"
      ],
      "text/plain": [
       "<IPython.core.display.Markdown object>"
      ]
     },
     "metadata": {},
     "output_type": "display_data"
    },
    {
     "data": {
      "text/markdown": [
       "**Symbol:** **_DMD_** (protein-coding) &nbsp; &nbsp; &nbsp; &nbsp; **Aliases:** BMD, CMD3B, DXS142, DXS164, DXS206, DXS230, DXS239, DXS268, DXS269, DXS270, DXS272, MRX85  \n",
       "*dystrophin*  \n",
       "**Summary:** This gene spans a genomic range of greater than 2 Mb and encodes a large protein containing an N-terminal actin-binding domain and multiple spectrin repeats. The encoded protein forms a component of the dystrophin-glycoprotein complex (DGC), which bridges the inner cytoskeleton and the extracellular matrix. Deletions, duplications, and point mutations at this gene locus may cause Duchenne muscular dystrophy (DMD), Becker muscular dystrophy (BMD), or cardiomyopathy. Alternative promoter usage and alternative splicing result in numerous distinct transcript variants and protein isoforms for this gene. [provided by RefSeq, Dec 2016].  \n",
       "**Genomic position:** X:31097677-33339609 (hg38), X:31115794-33357558 (hg19)  \n",
       "[Gene card](https://www.genecards.org/cgi-bin/carddisp.pl?gene=DMD)  \n",
       "\n",
       "\n",
       " ----"
      ],
      "text/plain": [
       "<IPython.core.display.Markdown object>"
      ]
     },
     "metadata": {},
     "output_type": "display_data"
    },
    {
     "data": {
      "text/markdown": [
       "**Symbol:** **_PRKX_** (protein-coding) &nbsp; &nbsp; &nbsp; &nbsp; **Aliases:** PKX1  \n",
       "*protein kinase cAMP-dependent X-linked catalytic subunit*  \n",
       "**Summary:** This gene encodes a serine threonine protein kinase that has similarity to the catalytic subunit of cyclic AMP dependent protein kinases. The encoded protein is developmentally regulated and may be involved in renal epithelial morphogenesis. This protein may also be involved in macrophage and granulocyte maturation. Abnormal recombination between this gene and a related pseudogene on chromosome Y is a frequent cause of sex reversal disorder in XX males and XY females. Pseudogenes of this gene are found on chromosomes X, 15 and Y. [provided by RefSeq, Feb 2010].  \n",
       "**Genomic position:** X:3604340-3713649 (hg38), X:3522411-3631649 (hg19)  \n",
       "[Gene card](https://www.genecards.org/cgi-bin/carddisp.pl?gene=PRKX)  \n",
       "\n",
       "\n",
       " ----"
      ],
      "text/plain": [
       "<IPython.core.display.Markdown object>"
      ]
     },
     "metadata": {},
     "output_type": "display_data"
    },
    {
     "data": {
      "text/markdown": [
       "**Symbol:** **_EIF1AX_** (protein-coding) &nbsp; &nbsp; &nbsp; &nbsp; **Aliases:** EIF1A, EIF1AP1, EIF4C, eIF-1A, eIF-4C  \n",
       "*eukaryotic translation initiation factor 1A X-linked*  \n",
       "**Summary:** This gene encodes an essential eukaryotic translation initiation factor. The protein is required for the binding of the 43S complex (a 40S subunit, eIF2/GTP/Met-tRNAi and eIF3) to the 5' end of capped RNA. [provided by RefSeq, Jul 2008].  \n",
       "**Genomic position:** X:20124525-20141838 (hg38), X:20142636-20159962 (hg19)  \n",
       "[Gene card](https://www.genecards.org/cgi-bin/carddisp.pl?gene=EIF1AX)  \n",
       "\n",
       "\n",
       " ----"
      ],
      "text/plain": [
       "<IPython.core.display.Markdown object>"
      ]
     },
     "metadata": {},
     "output_type": "display_data"
    },
    {
     "data": {
      "text/markdown": [
       "**Symbol:** **_BCLAF3_** (protein-coding) &nbsp; &nbsp; &nbsp; &nbsp; **Aliases:** CXorf23  \n",
       "*BCLAF1 and THRAP3 family member 3*  \n",
       "**Summary:** Predicted to enable DNA binding activity and transcription coregulator activity. Predicted to be involved in positive regulation of transcription by RNA polymerase II. Predicted to be located in mitochondrion. Predicted to be part of mediator complex. [provided by Alliance of Genome Resources, Apr 2022]  \n",
       "**Genomic position:** X:19912860-19991061 (hg38), X:19930978-19988416 (hg19)  \n",
       "[Gene card](https://www.genecards.org/cgi-bin/carddisp.pl?gene=BCLAF3)  \n",
       "\n",
       "\n",
       " ----"
      ],
      "text/plain": [
       "<IPython.core.display.Markdown object>"
      ]
     },
     "metadata": {},
     "output_type": "display_data"
    },
    {
     "data": {
      "text/markdown": [
       "**Symbol:** **_PTCHD1-AS_**   \n",
       "*PTCHD1 antisense RNA (head to head)*  \n",
       "[Gene card](https://www.genecards.org/cgi-bin/carddisp.pl?gene=PTCHD1-AS)  \n",
       "\n",
       "\n",
       " ----"
      ],
      "text/plain": [
       "<IPython.core.display.Markdown object>"
      ]
     },
     "metadata": {},
     "output_type": "display_data"
    },
    {
     "data": {
      "text/markdown": [
       "**Symbol:** **_LOC105373153_** (ncRNA)  \n",
       "*uncharacterized LOC105373153*  \n",
       "[Gene card](https://www.genecards.org/cgi-bin/carddisp.pl?gene=LOC105373153)  \n",
       "\n",
       "\n",
       " ----"
      ],
      "text/plain": [
       "<IPython.core.display.Markdown object>"
      ]
     },
     "metadata": {},
     "output_type": "display_data"
    },
    {
     "name": "stdout",
     "output_type": "stream",
     "text": [
      "         pos  when_mutation_has_freq2 population\n",
      "0   17951099                 -6.61750        LWK\n",
      "1   20315815                 -9.37493        LWK\n",
      "2   20317564                 -7.23160        LWK\n",
      "3   23370843                 -7.05065        LWK\n",
      "4   10433671                 -6.72735        ESN\n",
      "5   18440969                 -6.37140        ESN\n",
      "6   18447244                 -6.16464        ESN\n",
      "7   18481819                 -6.16464        ESN\n",
      "8   18483252                 -6.16464        ESN\n",
      "9   35325695                 -6.15811        ESN\n",
      "10  35509359                 -6.66346        ESN\n",
      "11   5444732                 -6.25964        GWD\n",
      "12  19973392                 -6.06747        GWD\n",
      "13  20142128                 -6.37256        GWD\n",
      "14  22782732                 -6.77959        GWD\n",
      "15  23375979                 -6.52224        GWD\n",
      "16  28922431                 -6.60946        GWD\n",
      "17  32189472                 -6.73376        GWD\n",
      "18  33908763                 -6.24183        MSL\n",
      "19   3614834                 -6.57925        YRI\n",
      "20  18421288                 -6.03014        YRI\n",
      "21  18465090                 -6.32806        YRI\n",
      "22  23370843                 -6.45187        YRI\n",
      "23  35507958                 -6.83135        YRI\n"
     ]
    }
   ],
   "source": [
    "## AFRICANS RELATE ##\n",
    "# just take SNPs above the threshold\n",
    "all_data = pd.read_csv(\"/home/ari/ari-intern/people/ari/ariadna-intern/notebooks/africans_low_pvalue.csv\")\n",
    "data = all_data.iloc[:, [0, -2, -1]]\n",
    "\n",
    "# Function to define window to search nearby genes\n",
    "def get_window_range(position, window_size):\n",
    "    x_min = position - window_size // 2\n",
    "    x_max = position + window_size // 2\n",
    "    return x_min, x_max\n",
    "\n",
    "# Define populations\n",
    "populations = data['population'].unique()\n",
    "\n",
    "# Dictionary to store gene regions for each population\n",
    "gene_regions = {}\n",
    "\n",
    "# Set to store unique gene symbols\n",
    "unique_genes = set()\n",
    "\n",
    "# Iterate over populations\n",
    "for population in populations:\n",
    "    # Filter data for the current population\n",
    "    population_data = data[data['population'] == population]\n",
    "    \n",
    "    # Initialize a list to store gene regions for the current population\n",
    "    population_gene_regions = []\n",
    "    \n",
    "    # Iterate over rows and calculate gene regions\n",
    "    for index, row in population_data.iterrows():\n",
    "        genomic_position = row['pos']\n",
    "        window_size = 1000  # Set window size \n",
    "        x_min, x_max = get_window_range(genomic_position, window_size)\n",
    "        \n",
    "        # Call gi.get_genes_region() for the current region\n",
    "        gene_region = gi.get_genes_region('chrX', x_min, x_max, assembly='hg38')\n",
    "        \n",
    "        # Extract gene symbol, start position, and end position from the result\n",
    "        if gene_region:  # Check if gene_region is not empty\n",
    "            gene_symbol = gene_region[0][0]\n",
    "            start_position = gene_region[0][1]\n",
    "            end_position = gene_region[0][2]\n",
    "            \n",
    "            # Append the extracted information to the list of gene regions for the current population\n",
    "            population_gene_regions.append((gene_symbol, start_position, end_position))\n",
    "            \n",
    "            # Add gene symbol to set of unique genes\n",
    "            unique_genes.add(gene_symbol)\n",
    "    \n",
    "    # Store the list of gene regions for the current population in the dictionary\n",
    "    gene_regions[population] = population_gene_regions\n",
    "\n",
    "# Print gene regions for all populations\n",
    "for population, regions in gene_regions.items():\n",
    "    print(f\"Gene regions for {population}:\")\n",
    "    for region in regions:\n",
    "        print(region)\n",
    "\n",
    "print()\n",
    "print()\n",
    "\n",
    "# Set to store gene symbols for which information has already been retrieved\n",
    "retrieved_symbols = set()\n",
    "\n",
    "# Run gi.gene_info() for each unique gene symbol\n",
    "for gene_symbol in unique_genes:\n",
    "    # Check if gene information has already been retrieved for this symbol\n",
    "    if gene_symbol not in retrieved_symbols:\n",
    "        gene_info = gi.gene_info(gene_symbol)\n",
    "        if gene_info is not None:\n",
    "            print(f\"Gene info for {gene_symbol}: {gene_info}\")\n",
    "            \n",
    "print(data)"
   ]
  },
  {
   "cell_type": "code",
   "execution_count": 3,
   "id": "bd8f51ea-061e-4092-ad92-0510897fe21d",
   "metadata": {
    "jupyter": {
     "source_hidden": true
    },
    "tags": []
   },
   "outputs": [],
   "source": [
    " ### PLOT DATA OVER GENE ANNOTATION ###"
   ]
  },
  {
   "cell_type": "code",
   "execution_count": 4,
   "id": "713c8784-1dfa-4a7a-8e9c-c6f525a2143c",
   "metadata": {
    "collapsed": true,
    "jupyter": {
     "outputs_hidden": true,
     "source_hidden": true
    },
    "tags": []
   },
   "outputs": [
    {
     "ename": "NameError",
     "evalue": "name 'LWK' is not defined",
     "output_type": "error",
     "traceback": [
      "\u001b[0;31m---------------------------------------------------------------------------\u001b[0m",
      "\u001b[0;31mNameError\u001b[0m                                 Traceback (most recent call last)",
      "Cell \u001b[0;32mIn[4], line 1\u001b[0m\n\u001b[0;32m----> 1\u001b[0m LWK_x \u001b[38;5;241m=\u001b[39m \u001b[43mLWK\u001b[49m[\u001b[38;5;124m'\u001b[39m\u001b[38;5;124mpos\u001b[39m\u001b[38;5;124m'\u001b[39m]\n\u001b[1;32m      2\u001b[0m LWK_y \u001b[38;5;241m=\u001b[39m \u001b[38;5;241m-\u001b[39m(LWK[\u001b[38;5;124m'\u001b[39m\u001b[38;5;124mwhen_mutation_has_freq2\u001b[39m\u001b[38;5;124m'\u001b[39m])\n\u001b[1;32m      3\u001b[0m LWK_ax \u001b[38;5;241m=\u001b[39m gi\u001b[38;5;241m.\u001b[39mgene_plot(\u001b[38;5;124m'\u001b[39m\u001b[38;5;124mchrX\u001b[39m\u001b[38;5;124m'\u001b[39m, \u001b[38;5;241m23334395\u001b[39m, \u001b[38;5;241m23404374\u001b[39m,\u001b[38;5;124m'\u001b[39m\u001b[38;5;124mhg38\u001b[39m\u001b[38;5;124m'\u001b[39m)\n",
      "\u001b[0;31mNameError\u001b[0m: name 'LWK' is not defined"
     ]
    }
   ],
   "source": [
    "LWK_x = LWK['pos']\n",
    "LWK_y = -(LWK['when_mutation_has_freq2'])\n",
    "LWK_ax = gi.gene_plot('chrX', 23334395, 23404374,'hg38')\n",
    "LWK_ax.plot(LWK_x, LWK_y)\n",
    "plt.tight_layout()"
   ]
  },
  {
   "cell_type": "code",
   "execution_count": null,
   "id": "3187061e-6841-416d-bf61-d075049a2955",
   "metadata": {
    "jupyter": {
     "source_hidden": true
    },
    "tags": []
   },
   "outputs": [],
   "source": [
    "GWD = pd.read_csv(\"/home/ari/ari-intern/people/ari/ariadna-intern/notebooks/GWD_pos_pvalue.csv\")\n",
    "GWD"
   ]
  },
  {
   "cell_type": "code",
   "execution_count": null,
   "id": "08c86876-b050-4e86-9abf-e3681a718583",
   "metadata": {
    "jupyter": {
     "source_hidden": true
    },
    "tags": []
   },
   "outputs": [],
   "source": [
    "GWD_x = GWD['pos']\n",
    "GWD_y = -(GWD['when_mutation_has_freq2'])\n",
    "GWD_ax = gi.gene_plot('chrX', 23334395, 23404374,'hg38')\n",
    "GWD_ax.plot(GWD_x, GWD_y)\n",
    "plt.tight_layout()"
   ]
  },
  {
   "cell_type": "code",
   "execution_count": null,
   "id": "86ddf5bc-3fc4-4b41-b816-80da707b7f97",
   "metadata": {
    "jupyter": {
     "source_hidden": true
    },
    "tags": []
   },
   "outputs": [],
   "source": [
    "YRI = pd.read_csv(\"/home/ari/ari-intern/people/ari/ariadna-intern/notebooks/YRI_pos_pvalue.csv\")\n",
    "YRI"
   ]
  },
  {
   "cell_type": "code",
   "execution_count": null,
   "id": "5b869c98-96cf-40fe-88d4-35d70b281f08",
   "metadata": {
    "jupyter": {
     "source_hidden": true
    },
    "tags": []
   },
   "outputs": [],
   "source": [
    "YRI_x = YRI['pos']\n",
    "YRI_y = -(YRI['when_mutation_has_freq2'])\n",
    "YRI_ax = gi.gene_plot('chrX', 23334395, 23404374,'hg38')\n",
    "YRI_ax.plot(YRI_x, YRI_y)\n",
    "plt.tight_layout()"
   ]
  },
  {
   "cell_type": "code",
   "execution_count": null,
   "id": "15d28b12-2388-40c7-8456-ff19c70e8e02",
   "metadata": {
    "jupyter": {
     "source_hidden": true
    },
    "tags": []
   },
   "outputs": [],
   "source": [
    "ESN = pd.read_csv(\"/home/ari/ari-intern/people/ari/ariadna-intern/notebooks/ESN_pos_pvalue.csv\")\n",
    "ESN"
   ]
  },
  {
   "cell_type": "code",
   "execution_count": null,
   "id": "75e1c10e-b8f3-459c-8da9-2f750ed10e22",
   "metadata": {
    "jupyter": {
     "source_hidden": true
    },
    "tags": []
   },
   "outputs": [],
   "source": [
    "ESN_x = ESN['pos']\n",
    "ESN_y = -(ESN['when_mutation_has_freq2'])\n",
    "ESN_ax = gi.gene_plot('chrX', 23334395, 23404374,'hg38')\n",
    "ESN_ax.plot(ESN_x, ESN_y)\n",
    "plt.tight_layout()"
   ]
  },
  {
   "cell_type": "code",
   "execution_count": null,
   "id": "34edc250-b93e-4ff7-b828-217cbd070009",
   "metadata": {
    "jupyter": {
     "source_hidden": true
    },
    "tags": []
   },
   "outputs": [],
   "source": [
    "MSL = pd.read_csv(\"/home/ari/ari-intern/people/ari/ariadna-intern/notebooks/MSL_pos_pvalue.csv\")\n",
    "MSL"
   ]
  },
  {
   "cell_type": "code",
   "execution_count": null,
   "id": "abf938c3-7793-499f-a766-8b77f645ca73",
   "metadata": {
    "jupyter": {
     "source_hidden": true
    },
    "tags": []
   },
   "outputs": [],
   "source": [
    "MSL_x = MSL['pos']\n",
    "MSL_y = -(MSL['when_mutation_has_freq2'])\n",
    "MSL_ax = gi.gene_plot('chrX', 23334395, 23404374,'hg38')\n",
    "MSL_ax.plot(MSL_x, MSL_y)\n",
    "plt.tight_layout()"
   ]
  },
  {
   "cell_type": "code",
   "execution_count": null,
   "id": "728c4957-3d3c-41e3-ae32-7f97cf6c1c01",
   "metadata": {
    "jupyter": {
     "source_hidden": true
    },
    "tags": []
   },
   "outputs": [],
   "source": [
    "# PTCHD1 threshold\n",
    "LWK_ax, GWD_ax, YRI_ax = gi.gene_plot('chrX', 23334395, 23404374, assembly='hg38', return_axes=3, aspect=0.1)\n",
    "LWK_ax.plot(LWK_x, LWK_y)\n",
    "GWD_ax.plot(GWD_x, GWD_y)\n",
    "YRI_ax.plot(YRI_x, YRI_y)\n",
    "plt.tight_layout()"
   ]
  },
  {
   "cell_type": "code",
   "execution_count": null,
   "id": "7fc85eb3-1414-45f8-90f4-cf5fdd99d6fd",
   "metadata": {
    "jupyter": {
     "source_hidden": true
    },
    "tags": []
   },
   "outputs": [],
   "source": [
    "# PTCHD1 all\n",
    "LWK_ax, GWD_ax, YRI_ax, ESN_ax, MSL_ax = gi.gene_plot('chrX', 23334395, 23404374, assembly='hg38', return_axes=5, aspect=0.1)\n",
    "LWK_ax.plot(LWK_x, LWK_y)\n",
    "GWD_ax.plot(GWD_x, GWD_y)\n",
    "YRI_ax.plot(YRI_x, YRI_y)\n",
    "ESN_ax.plot(ESN_x, ESN_y) # p-values not below threshold\n",
    "MSL_ax.plot(MSL_x, MSL_y) # p-values not below threshold\n",
    "plt.tight_layout()"
   ]
  },
  {
   "cell_type": "code",
   "execution_count": null,
   "id": "57a460a0-e7c2-4cc6-bad1-1cae43813fe5",
   "metadata": {
    "jupyter": {
     "source_hidden": true
    },
    "tags": []
   },
   "outputs": [],
   "source": [
    "# CDKL5 threshold\n",
    "YRI_ax, ESN_ax = gi.gene_plot('chrX', 18425607, 18640196, assembly='hg38', return_axes=2, aspect=0.1)\n",
    "YRI_ax.plot(YRI_x, YRI_y)\n",
    "ESN_ax.plot(ESN_x, ESN_y)\n",
    "plt.tight_layout()"
   ]
  },
  {
   "cell_type": "code",
   "execution_count": 5,
   "id": "8c332da2-a7dd-4f0b-8ad5-6a2a050636ef",
   "metadata": {
    "collapsed": true,
    "jupyter": {
     "outputs_hidden": true,
     "source_hidden": true
    },
    "tags": []
   },
   "outputs": [
    {
     "name": "stdout",
     "output_type": "stream",
     "text": [
      "Gene regions for GBR:\n",
      "Gene regions for FIN:\n",
      "('IL1RAPL1', 28587445, 29956718)\n",
      "Gene regions for IBS:\n",
      "('WWC3', 10015253, 10144474)\n",
      "Gene regions for TSI:\n",
      "('PRKX', 3604339, 3713649)\n",
      "\n",
      "\n"
     ]
    },
    {
     "data": {
      "text/markdown": [
       "**Symbol:** **_PRKX_** (protein-coding) &nbsp; &nbsp; &nbsp; &nbsp; **Aliases:** PKX1  \n",
       "*protein kinase cAMP-dependent X-linked catalytic subunit*  \n",
       "**Summary:** This gene encodes a serine threonine protein kinase that has similarity to the catalytic subunit of cyclic AMP dependent protein kinases. The encoded protein is developmentally regulated and may be involved in renal epithelial morphogenesis. This protein may also be involved in macrophage and granulocyte maturation. Abnormal recombination between this gene and a related pseudogene on chromosome Y is a frequent cause of sex reversal disorder in XX males and XY females. Pseudogenes of this gene are found on chromosomes X, 15 and Y. [provided by RefSeq, Feb 2010].  \n",
       "**Genomic position:** X:3604340-3713649 (hg38), X:3522411-3631649 (hg19)  \n",
       "[Gene card](https://www.genecards.org/cgi-bin/carddisp.pl?gene=PRKX)  \n",
       "\n",
       "\n",
       " ----"
      ],
      "text/plain": [
       "<IPython.core.display.Markdown object>"
      ]
     },
     "metadata": {},
     "output_type": "display_data"
    },
    {
     "data": {
      "text/markdown": [
       "**Symbol:** **_WWC3_** (protein-coding) &nbsp; &nbsp; &nbsp; &nbsp; **Aliases:** BM042  \n",
       "*WWC family member 3*  \n",
       "**Summary:** This gene encodes a member of the WWC family of proteins, which also includes the WWC1 (KIBRA) gene product and the WWC2 gene product. The protein encoded by this gene includes a C2 domain, which is known to mediate homodimerization in the related WWC1 gene product. [provided by RefSeq, Sep 2011].  \n",
       "**Genomic position:** X:10015254-10144474 (hg38), X:9983602-10112518 (hg19)  \n",
       "[Gene card](https://www.genecards.org/cgi-bin/carddisp.pl?gene=WWC3)  \n",
       "\n",
       "\n",
       " ----"
      ],
      "text/plain": [
       "<IPython.core.display.Markdown object>"
      ]
     },
     "metadata": {},
     "output_type": "display_data"
    },
    {
     "data": {
      "text/markdown": [
       "**Symbol:** **_IL1RAPL1_** (protein-coding) &nbsp; &nbsp; &nbsp; &nbsp; **Aliases:** IL-1-RAPL-1, IL-1RAPL-1, IL1R8, IL1RAPL, IL1RAPL-1, MRX10, MRX21, MRX34, OPHN4, TIGIRR-2  \n",
       "*interleukin 1 receptor accessory protein like 1*  \n",
       "**Summary:** The protein encoded by this gene is a member of the interleukin 1 receptor family and is similar to the interleukin 1 accessory proteins. This protein has an N-terminal signal peptide, three extracellular immunoglobulin Ig-like domains, a transmembrane domain, an intracellular Toll/IL-1R domain, and a long C-terminal tail which interacts with multiple signalling molecules. This gene is located at a region on chromosome X that is associated with a non-syndromic form of X-linked intellectual disability. Deletions and mutations in this gene were found in patients with intellectual disability. This gene is expressed at a high level in post-natal brain structures involved in the hippocampal memory system, which suggests a specialized role in the physiological processes underlying memory and learning abilities, and plays a role in synapse formation and stabilization. [provided by RefSeq, Jul 2017].  \n",
       "**Genomic position:** X:28587446-29956718 (hg38), X:28605516-29974840 (hg19)  \n",
       "[Gene card](https://www.genecards.org/cgi-bin/carddisp.pl?gene=IL1RAPL1)  \n",
       "\n",
       "\n",
       " ----"
      ],
      "text/plain": [
       "<IPython.core.display.Markdown object>"
      ]
     },
     "metadata": {},
     "output_type": "display_data"
    }
   ],
   "source": [
    "## EUROPEANS RELATE ##\n",
    "# just take SNPs above the threshold\n",
    "all_data = pd.read_csv(\"/home/ari/ari-intern/people/ari/ariadna-intern/notebooks/europeans_data/europeans_low_pvalue.csv\")\n",
    "data = all_data.iloc[:, [0, -2, -1]]\n",
    "\n",
    "# Function to define window to search nearby genes\n",
    "def get_window_range(position, window_size):\n",
    "    x_min = position - window_size // 2\n",
    "    x_max = position + window_size // 2\n",
    "    return x_min, x_max\n",
    "\n",
    "# Define populations\n",
    "populations = data['population'].unique()\n",
    "\n",
    "# Dictionary to store gene regions for each population\n",
    "gene_regions = {}\n",
    "\n",
    "# Set to store unique gene symbols\n",
    "unique_genes = set()\n",
    "\n",
    "# Iterate over populations\n",
    "for population in populations:\n",
    "    # Filter data for the current population\n",
    "    population_data = data[data['population'] == population]\n",
    "    \n",
    "    # Initialize a list to store gene regions for the current population\n",
    "    population_gene_regions = []\n",
    "    \n",
    "    # Iterate over rows and calculate gene regions\n",
    "    for index, row in population_data.iterrows():\n",
    "        genomic_position = row['pos']\n",
    "        window_size = 1000  # Set window size !!!!!!!!!!!!!!!!!!!! 5000bp on each side\n",
    "        x_min, x_max = get_window_range(genomic_position, window_size)\n",
    "        \n",
    "        # Call gi.get_genes_region() for the current region\n",
    "        gene_region = gi.get_genes_region('chrX', x_min, x_max, assembly='hg38')\n",
    "        \n",
    "        # Extract gene symbol, start position, and end position from the result\n",
    "        if gene_region:  # Check if gene_region is not empty\n",
    "            gene_symbol = gene_region[0][0]\n",
    "            start_position = gene_region[0][1]\n",
    "            end_position = gene_region[0][2]\n",
    "            \n",
    "            # Append the extracted information to the list of gene regions for the current population\n",
    "            population_gene_regions.append((gene_symbol, start_position, end_position))\n",
    "            \n",
    "            # Add gene symbol to set of unique genes\n",
    "            unique_genes.add(gene_symbol)\n",
    "    \n",
    "    # Store the list of gene regions for the current population in the dictionary\n",
    "    gene_regions[population] = population_gene_regions\n",
    "\n",
    "# Print gene regions for all populations\n",
    "for population, regions in gene_regions.items():\n",
    "    print(f\"Gene regions for {population}:\")\n",
    "    for region in regions:\n",
    "        print(region)\n",
    "\n",
    "print()\n",
    "print()\n",
    "\n",
    "# Set to store gene symbols for which information has already been retrieved\n",
    "retrieved_symbols = set()\n",
    "\n",
    "# Run gi.gene_info() for each unique gene symbol\n",
    "for gene_symbol in unique_genes:\n",
    "    # Check if gene information has already been retrieved for this symbol\n",
    "    if gene_symbol not in retrieved_symbols:\n",
    "        gene_info = gi.gene_info(gene_symbol)\n",
    "        if gene_info is not None:\n",
    "            print(f\"Gene info for {gene_symbol}: {gene_info}\")"
   ]
  },
  {
   "cell_type": "code",
   "execution_count": null,
   "id": "b16ec1af-3ccb-4ff7-b1e9-8911718465dd",
   "metadata": {
    "jupyter": {
     "source_hidden": true
    },
    "tags": []
   },
   "outputs": [],
   "source": [
    "## ASIANS RELATE ##\n",
    "\n",
    "# just take SNPs above the threshold\n",
    "all_data = pd.read_csv(\"/home/ari/ari-intern/people/ari/ariadna-intern/notebooks/asians_data/asians_low_pvalue.csv\")\n",
    "data = all_data.iloc[:, [0, -2, -1]]\n",
    "\n",
    "# Function to define window to search nearby genes\n",
    "def get_window_range(position, window_size):\n",
    "    x_min = position - window_size // 2\n",
    "    x_max = position + window_size // 2\n",
    "    return x_min, x_max\n",
    "\n",
    "# Define populations\n",
    "populations = data['population'].unique()\n",
    "\n",
    "# Dictionary to store gene regions for each population\n",
    "gene_regions = {}\n",
    "\n",
    "# Set to store unique gene symbols\n",
    "unique_genes = set()\n",
    "\n",
    "# Iterate over populations\n",
    "for population in populations:\n",
    "    # Filter data for the current population\n",
    "    population_data = data[data['population'] == population]\n",
    "    \n",
    "    # Initialize a list to store gene regions for the current population\n",
    "    population_gene_regions = []\n",
    "    \n",
    "    # Iterate over rows and calculate gene regions\n",
    "    for index, row in population_data.iterrows():\n",
    "        genomic_position = row['pos']\n",
    "        window_size = 1000  # Set window size !!!!!!!!!!!!!!!!!!!! 5000bp on each side\n",
    "        x_min, x_max = get_window_range(genomic_position, window_size)\n",
    "        \n",
    "        # Call gi.get_genes_region() for the current region\n",
    "        gene_region = gi.get_genes_region('chrX', x_min, x_max, assembly='hg38')\n",
    "        \n",
    "        # Extract gene symbol, start position, and end position from the result\n",
    "        if gene_region:  # Check if gene_region is not empty\n",
    "            gene_symbol = gene_region[0][0]\n",
    "            start_position = gene_region[0][1]\n",
    "            end_position = gene_region[0][2]\n",
    "            \n",
    "            # Append the extracted information to the list of gene regions for the current population\n",
    "            population_gene_regions.append((gene_symbol, start_position, end_position))\n",
    "            \n",
    "            # Add gene symbol to set of unique genes\n",
    "            unique_genes.add(gene_symbol)\n",
    "    \n",
    "    # Store the list of gene regions for the current population in the dictionary\n",
    "    gene_regions[population] = population_gene_regions\n",
    "\n",
    "# Print gene regions for all populations\n",
    "for population, regions in gene_regions.items():\n",
    "    print(f\"Gene regions for {population}:\")\n",
    "    for region in regions:\n",
    "        print(region)\n",
    "\n",
    "print()\n",
    "print()\n",
    "\n",
    "# Set to store gene symbols for which information has already been retrieved\n",
    "retrieved_symbols = set()\n",
    "\n",
    "# Run gi.gene_info() for each unique gene symbol\n",
    "for gene_symbol in unique_genes:\n",
    "    # Check if gene information has already been retrieved for this symbol\n",
    "    if gene_symbol not in retrieved_symbols:\n",
    "        gene_info = gi.gene_info(gene_symbol)\n",
    "        if gene_info is not None:\n",
    "            print(f\"Gene info for {gene_symbol}: {gene_info}\")"
   ]
  },
  {
   "cell_type": "code",
   "execution_count": 1,
   "id": "d1fcea24-4a34-4445-910d-6dd0845ce959",
   "metadata": {},
   "outputs": [
    {
     "ename": "NameError",
     "evalue": "name 'pd' is not defined",
     "output_type": "error",
     "traceback": [
      "\u001b[0;31m---------------------------------------------------------------------------\u001b[0m",
      "\u001b[0;31mNameError\u001b[0m                                 Traceback (most recent call last)",
      "Cell \u001b[0;32mIn[1], line 3\u001b[0m\n\u001b[1;32m      1\u001b[0m \u001b[38;5;66;03m## COMBINED P-VALUES ##\u001b[39;00m\n\u001b[1;32m      2\u001b[0m \u001b[38;5;66;03m# file containing values for africans populations with p-values>threshold (6)\u001b[39;00m\n\u001b[0;32m----> 3\u001b[0m data \u001b[38;5;241m=\u001b[39m \u001b[43mpd\u001b[49m\u001b[38;5;241m.\u001b[39mread_csv(\u001b[38;5;124m\"\u001b[39m\u001b[38;5;124m/home/ari/ari-intern/people/ari/ariadna-intern/results/combined_LWK.csv\u001b[39m\u001b[38;5;124m\"\u001b[39m, sep \u001b[38;5;241m=\u001b[39m\u001b[38;5;124m\"\u001b[39m\u001b[38;5;124m,\u001b[39m\u001b[38;5;124m\"\u001b[39m)\n\u001b[1;32m      4\u001b[0m \u001b[38;5;28mprint\u001b[39m(data)\n",
      "\u001b[0;31mNameError\u001b[0m: name 'pd' is not defined"
     ]
    }
   ],
   "source": [
    "## COMBINED P-VALUES ##\n",
    "# file containing values for africans populations with p-values>threshold (6)\n",
    "data = pd.read_csv(\"/home/ari/ari-intern/people/ari/ariadna-intern/results/combined_LWK.csv\", sep =\",\")\n",
    "print(data)"
   ]
  },
  {
   "cell_type": "code",
   "execution_count": 7,
   "id": "2fb3232c-545c-4003-b2ca-aad7e1d8152d",
   "metadata": {},
   "outputs": [
    {
     "ename": "JSONDecodeError",
     "evalue": "Expecting value: line 1 column 1 (char 0)",
     "output_type": "error",
     "traceback": [
      "\u001b[0;31m---------------------------------------------------------------------------\u001b[0m",
      "\u001b[0;31mJSONDecodeError\u001b[0m                           Traceback (most recent call last)",
      "File \u001b[0;32m~/miniconda3/envs/arifdp/lib/python3.8/site-packages/requests/models.py:971\u001b[0m, in \u001b[0;36mResponse.json\u001b[0;34m(self, **kwargs)\u001b[0m\n\u001b[1;32m    970\u001b[0m \u001b[38;5;28;01mtry\u001b[39;00m:\n\u001b[0;32m--> 971\u001b[0m     \u001b[38;5;28;01mreturn\u001b[39;00m \u001b[43mcomplexjson\u001b[49m\u001b[38;5;241;43m.\u001b[39;49m\u001b[43mloads\u001b[49m\u001b[43m(\u001b[49m\u001b[38;5;28;43mself\u001b[39;49m\u001b[38;5;241;43m.\u001b[39;49m\u001b[43mtext\u001b[49m\u001b[43m,\u001b[49m\u001b[43m \u001b[49m\u001b[38;5;241;43m*\u001b[39;49m\u001b[38;5;241;43m*\u001b[39;49m\u001b[43mkwargs\u001b[49m\u001b[43m)\u001b[49m\n\u001b[1;32m    972\u001b[0m \u001b[38;5;28;01mexcept\u001b[39;00m JSONDecodeError \u001b[38;5;28;01mas\u001b[39;00m e:\n\u001b[1;32m    973\u001b[0m     \u001b[38;5;66;03m# Catch JSON-related errors and raise as requests.JSONDecodeError\u001b[39;00m\n\u001b[1;32m    974\u001b[0m     \u001b[38;5;66;03m# This aliases json.JSONDecodeError and simplejson.JSONDecodeError\u001b[39;00m\n",
      "File \u001b[0;32m~/miniconda3/envs/arifdp/lib/python3.8/json/__init__.py:357\u001b[0m, in \u001b[0;36mloads\u001b[0;34m(s, cls, object_hook, parse_float, parse_int, parse_constant, object_pairs_hook, **kw)\u001b[0m\n\u001b[1;32m    354\u001b[0m \u001b[38;5;28;01mif\u001b[39;00m (\u001b[38;5;28mcls\u001b[39m \u001b[38;5;129;01mis\u001b[39;00m \u001b[38;5;28;01mNone\u001b[39;00m \u001b[38;5;129;01mand\u001b[39;00m object_hook \u001b[38;5;129;01mis\u001b[39;00m \u001b[38;5;28;01mNone\u001b[39;00m \u001b[38;5;129;01mand\u001b[39;00m\n\u001b[1;32m    355\u001b[0m         parse_int \u001b[38;5;129;01mis\u001b[39;00m \u001b[38;5;28;01mNone\u001b[39;00m \u001b[38;5;129;01mand\u001b[39;00m parse_float \u001b[38;5;129;01mis\u001b[39;00m \u001b[38;5;28;01mNone\u001b[39;00m \u001b[38;5;129;01mand\u001b[39;00m\n\u001b[1;32m    356\u001b[0m         parse_constant \u001b[38;5;129;01mis\u001b[39;00m \u001b[38;5;28;01mNone\u001b[39;00m \u001b[38;5;129;01mand\u001b[39;00m object_pairs_hook \u001b[38;5;129;01mis\u001b[39;00m \u001b[38;5;28;01mNone\u001b[39;00m \u001b[38;5;129;01mand\u001b[39;00m \u001b[38;5;129;01mnot\u001b[39;00m kw):\n\u001b[0;32m--> 357\u001b[0m     \u001b[38;5;28;01mreturn\u001b[39;00m \u001b[43m_default_decoder\u001b[49m\u001b[38;5;241;43m.\u001b[39;49m\u001b[43mdecode\u001b[49m\u001b[43m(\u001b[49m\u001b[43ms\u001b[49m\u001b[43m)\u001b[49m\n\u001b[1;32m    358\u001b[0m \u001b[38;5;28;01mif\u001b[39;00m \u001b[38;5;28mcls\u001b[39m \u001b[38;5;129;01mis\u001b[39;00m \u001b[38;5;28;01mNone\u001b[39;00m:\n",
      "File \u001b[0;32m~/miniconda3/envs/arifdp/lib/python3.8/json/decoder.py:337\u001b[0m, in \u001b[0;36mJSONDecoder.decode\u001b[0;34m(self, s, _w)\u001b[0m\n\u001b[1;32m    333\u001b[0m \u001b[38;5;250m\u001b[39m\u001b[38;5;124;03m\"\"\"Return the Python representation of ``s`` (a ``str`` instance\u001b[39;00m\n\u001b[1;32m    334\u001b[0m \u001b[38;5;124;03mcontaining a JSON document).\u001b[39;00m\n\u001b[1;32m    335\u001b[0m \n\u001b[1;32m    336\u001b[0m \u001b[38;5;124;03m\"\"\"\u001b[39;00m\n\u001b[0;32m--> 337\u001b[0m obj, end \u001b[38;5;241m=\u001b[39m \u001b[38;5;28;43mself\u001b[39;49m\u001b[38;5;241;43m.\u001b[39;49m\u001b[43mraw_decode\u001b[49m\u001b[43m(\u001b[49m\u001b[43ms\u001b[49m\u001b[43m,\u001b[49m\u001b[43m \u001b[49m\u001b[43midx\u001b[49m\u001b[38;5;241;43m=\u001b[39;49m\u001b[43m_w\u001b[49m\u001b[43m(\u001b[49m\u001b[43ms\u001b[49m\u001b[43m,\u001b[49m\u001b[43m \u001b[49m\u001b[38;5;241;43m0\u001b[39;49m\u001b[43m)\u001b[49m\u001b[38;5;241;43m.\u001b[39;49m\u001b[43mend\u001b[49m\u001b[43m(\u001b[49m\u001b[43m)\u001b[49m\u001b[43m)\u001b[49m\n\u001b[1;32m    338\u001b[0m end \u001b[38;5;241m=\u001b[39m _w(s, end)\u001b[38;5;241m.\u001b[39mend()\n",
      "File \u001b[0;32m~/miniconda3/envs/arifdp/lib/python3.8/json/decoder.py:355\u001b[0m, in \u001b[0;36mJSONDecoder.raw_decode\u001b[0;34m(self, s, idx)\u001b[0m\n\u001b[1;32m    354\u001b[0m \u001b[38;5;28;01mexcept\u001b[39;00m \u001b[38;5;167;01mStopIteration\u001b[39;00m \u001b[38;5;28;01mas\u001b[39;00m err:\n\u001b[0;32m--> 355\u001b[0m     \u001b[38;5;28;01mraise\u001b[39;00m JSONDecodeError(\u001b[38;5;124m\"\u001b[39m\u001b[38;5;124mExpecting value\u001b[39m\u001b[38;5;124m\"\u001b[39m, s, err\u001b[38;5;241m.\u001b[39mvalue) \u001b[38;5;28;01mfrom\u001b[39;00m \u001b[38;5;28;01mNone\u001b[39;00m\n\u001b[1;32m    356\u001b[0m \u001b[38;5;28;01mreturn\u001b[39;00m obj, end\n",
      "\u001b[0;31mJSONDecodeError\u001b[0m: Expecting value: line 1 column 1 (char 0)",
      "\nDuring handling of the above exception, another exception occurred:\n",
      "\u001b[0;31mJSONDecodeError\u001b[0m                           Traceback (most recent call last)",
      "Cell \u001b[0;32mIn[7], line 31\u001b[0m\n\u001b[1;32m     28\u001b[0m x_min, x_max \u001b[38;5;241m=\u001b[39m get_window_range(genomic_position, window_size)\n\u001b[1;32m     30\u001b[0m \u001b[38;5;66;03m# Call gi.get_genes_region() for the current region\u001b[39;00m\n\u001b[0;32m---> 31\u001b[0m gene_region \u001b[38;5;241m=\u001b[39m \u001b[43mgi\u001b[49m\u001b[38;5;241;43m.\u001b[39;49m\u001b[43mget_genes_region\u001b[49m\u001b[43m(\u001b[49m\u001b[38;5;124;43m'\u001b[39;49m\u001b[38;5;124;43mchrX\u001b[39;49m\u001b[38;5;124;43m'\u001b[39;49m\u001b[43m,\u001b[49m\u001b[43m \u001b[49m\u001b[43mx_min\u001b[49m\u001b[43m,\u001b[49m\u001b[43m \u001b[49m\u001b[43mx_max\u001b[49m\u001b[43m,\u001b[49m\u001b[43m \u001b[49m\u001b[43massembly\u001b[49m\u001b[38;5;241;43m=\u001b[39;49m\u001b[38;5;124;43m'\u001b[39;49m\u001b[38;5;124;43mhg38\u001b[39;49m\u001b[38;5;124;43m'\u001b[39;49m\u001b[43m)\u001b[49m\n\u001b[1;32m     33\u001b[0m \u001b[38;5;66;03m# Extract gene symbol, start position, and end position from the result\u001b[39;00m\n\u001b[1;32m     34\u001b[0m \u001b[38;5;28;01mif\u001b[39;00m gene_region:  \u001b[38;5;66;03m# Check if gene_region is not empty\u001b[39;00m\n",
      "File \u001b[0;32m~/miniconda3/envs/arifdp/lib/python3.8/site-packages/geneinfo/__init__.py:281\u001b[0m, in \u001b[0;36mget_genes_region\u001b[0;34m(chrom, window_start, window_end, assembly, db)\u001b[0m\n\u001b[1;32m    278\u001b[0m     response\u001b[38;5;241m.\u001b[39mraise_for_status()\n\u001b[1;32m    280\u001b[0m genes \u001b[38;5;241m=\u001b[39m []\n\u001b[0;32m--> 281\u001b[0m \u001b[38;5;28;01mfor\u001b[39;00m gene \u001b[38;5;129;01min\u001b[39;00m \u001b[43mresponse\u001b[49m\u001b[38;5;241;43m.\u001b[39;49m\u001b[43mjson\u001b[49m\u001b[43m(\u001b[49m\u001b[43m)\u001b[49m[db]:\n\u001b[1;32m    282\u001b[0m     exon_starts \u001b[38;5;241m=\u001b[39m [\u001b[38;5;28mint\u001b[39m(x) \u001b[38;5;28;01mfor\u001b[39;00m x \u001b[38;5;129;01min\u001b[39;00m gene[\u001b[38;5;124m'\u001b[39m\u001b[38;5;124mexonStarts\u001b[39m\u001b[38;5;124m'\u001b[39m]\u001b[38;5;241m.\u001b[39msplit(\u001b[38;5;124m'\u001b[39m\u001b[38;5;124m,\u001b[39m\u001b[38;5;124m'\u001b[39m) \u001b[38;5;28;01mif\u001b[39;00m x]\n\u001b[1;32m    283\u001b[0m     exon_ends \u001b[38;5;241m=\u001b[39m [\u001b[38;5;28mint\u001b[39m(x) \u001b[38;5;28;01mfor\u001b[39;00m x \u001b[38;5;129;01min\u001b[39;00m gene[\u001b[38;5;124m'\u001b[39m\u001b[38;5;124mexonEnds\u001b[39m\u001b[38;5;124m'\u001b[39m]\u001b[38;5;241m.\u001b[39msplit(\u001b[38;5;124m'\u001b[39m\u001b[38;5;124m,\u001b[39m\u001b[38;5;124m'\u001b[39m) \u001b[38;5;28;01mif\u001b[39;00m x]\n",
      "File \u001b[0;32m~/miniconda3/envs/arifdp/lib/python3.8/site-packages/requests/models.py:975\u001b[0m, in \u001b[0;36mResponse.json\u001b[0;34m(self, **kwargs)\u001b[0m\n\u001b[1;32m    971\u001b[0m     \u001b[38;5;28;01mreturn\u001b[39;00m complexjson\u001b[38;5;241m.\u001b[39mloads(\u001b[38;5;28mself\u001b[39m\u001b[38;5;241m.\u001b[39mtext, \u001b[38;5;241m*\u001b[39m\u001b[38;5;241m*\u001b[39mkwargs)\n\u001b[1;32m    972\u001b[0m \u001b[38;5;28;01mexcept\u001b[39;00m JSONDecodeError \u001b[38;5;28;01mas\u001b[39;00m e:\n\u001b[1;32m    973\u001b[0m     \u001b[38;5;66;03m# Catch JSON-related errors and raise as requests.JSONDecodeError\u001b[39;00m\n\u001b[1;32m    974\u001b[0m     \u001b[38;5;66;03m# This aliases json.JSONDecodeError and simplejson.JSONDecodeError\u001b[39;00m\n\u001b[0;32m--> 975\u001b[0m     \u001b[38;5;28;01mraise\u001b[39;00m RequestsJSONDecodeError(e\u001b[38;5;241m.\u001b[39mmsg, e\u001b[38;5;241m.\u001b[39mdoc, e\u001b[38;5;241m.\u001b[39mpos)\n",
      "\u001b[0;31mJSONDecodeError\u001b[0m: Expecting value: line 1 column 1 (char 0)"
     ]
    }
   ],
   "source": [
    "# Function to define window to search nearby genes\n",
    "def get_window_range(position, window_size):\n",
    "    x_min = position - window_size // 2\n",
    "    x_max = position + window_size // 2\n",
    "    return x_min, x_max\n",
    "\n",
    "# Define populations\n",
    "populations = data['population'].unique()\n",
    "\n",
    "# Dictionary to store gene regions for each population\n",
    "gene_regions = {}\n",
    "\n",
    "# Set to store unique gene symbols\n",
    "unique_genes = set()\n",
    "\n",
    "# Iterate over populations\n",
    "for population in populations:\n",
    "    # Filter data for the current population\n",
    "    population_data = data[data['population'] == population]\n",
    "    \n",
    "    # Initialize a list to store gene regions for the current population\n",
    "    population_gene_regions = []\n",
    "    \n",
    "    # Iterate over rows and calculate gene regions\n",
    "    for index, row in population_data.iterrows():\n",
    "        genomic_position = row['pos']\n",
    "        window_size = 1000  # Set window size !!!!!!!!!!!!!!!!!!!! 5000bp on each side\n",
    "        x_min, x_max = get_window_range(genomic_position, window_size)\n",
    "        \n",
    "        # Call gi.get_genes_region() for the current region\n",
    "        gene_region = gi.get_genes_region('chrX', x_min, x_max, assembly='hg38')\n",
    "        \n",
    "        # Extract gene symbol, start position, and end position from the result\n",
    "        if gene_region:  # Check if gene_region is not empty\n",
    "            gene_symbol = gene_region[0][0]\n",
    "            start_position = gene_region[0][1]\n",
    "            end_position = gene_region[0][2]\n",
    "            \n",
    "            # Append the extracted information to the list of gene regions for the current population\n",
    "            population_gene_regions.append((gene_symbol, start_position, end_position))\n",
    "            \n",
    "            # Add gene symbol to set of unique genes\n",
    "            unique_genes.add(gene_symbol)\n",
    "    \n",
    "    # Store the list of gene regions for the current population in the dictionary\n",
    "    gene_regions[population] = population_gene_regions\n",
    "\n",
    "# Print gene regions for all populations\n",
    "for population, regions in gene_regions.items():\n",
    "    print(f\"Gene regions for {population}:\")\n",
    "    for region in regions:\n",
    "        print(region)\n",
    "\n",
    "print()\n",
    "print()\n",
    "\n",
    "# Set to store gene symbols for which information has already been retrieved\n",
    "retrieved_symbols = set()\n",
    "\n",
    "# Run gi.gene_info() for each unique gene symbol\n",
    "for gene_symbol in unique_genes:\n",
    "    # Check if gene information has already been retrieved for this symbol\n",
    "    if gene_symbol not in retrieved_symbols:\n",
    "        gene_info = gi.gene_info(gene_symbol)\n",
    "        if gene_info is not None:\n",
    "            print(f\"Gene info for {gene_symbol}: {gene_info}\")\n"
   ]
  },
  {
   "cell_type": "code",
   "execution_count": 1,
   "id": "708da844-58e6-4ab9-950c-a5520295b772",
   "metadata": {},
   "outputs": [
    {
     "name": "stdout",
     "output_type": "stream",
     "text": [
      "env: http_proxy=http://proxy-default:3128\n"
     ]
    }
   ],
   "source": [
    "import pandas as pd\n",
    "import numpy as np\n",
    "from scipy.stats import chi2\n",
    "import matplotlib.pyplot as plt\n",
    "import seaborn as sns\n",
    "\n",
    "import sys, os\n",
    "import re\n",
    "from collections import defaultdict\n",
    "import numpy as np\n",
    "import pandas as pd\n",
    "\n",
    "%matplotlib inline\n",
    "\n",
    "import matplotlib.pyplot as plt\n",
    "from matplotlib_inline.backend_inline import set_matplotlib_formats\n",
    "set_matplotlib_formats('retina', 'png')\n",
    "from matplotlib.patches import Rectangle, Polygon\n",
    "import seaborn as sns\n",
    "sns.set_style('white')\n",
    "\n",
    "import geneinfo as gi\n",
    "gi.email('ariadna.saez@alum.esci.upf.edu')\n",
    "\n",
    "\n",
    "%env http_proxy=http://proxy-default:3128"
   ]
  },
  {
   "cell_type": "code",
   "execution_count": 2,
   "id": "53cc74b1-be81-4362-84c3-cbda64ae90c5",
   "metadata": {},
   "outputs": [
    {
     "name": "stdout",
     "output_type": "stream",
     "text": [
      "              pos  combined_p_values\n",
      "0         2781865           1.298798\n",
      "1         2781927           0.261517\n",
      "2         2782572           0.097941\n",
      "3         2784657           0.548985\n",
      "4         2784758           0.701270\n",
      "...           ...                ...\n",
      "164066  155686314           0.252698\n",
      "164067  155687184           0.033300\n",
      "164068  155695384           0.030098\n",
      "164069  155696715           0.343774\n",
      "164070  155699751           0.783431\n",
      "\n",
      "[164071 rows x 2 columns]\n"
     ]
    }
   ],
   "source": [
    "data = pd.read_csv(\"/home/ari/ari-intern/people/ari/ariadna-intern/results/combined_LWK.csv\", sep =\",\")\n",
    "print(data)"
   ]
  },
  {
   "cell_type": "code",
   "execution_count": 6,
   "id": "716b3e61-6ab1-47df-bae2-8198469d405c",
   "metadata": {},
   "outputs": [
    {
     "ename": "HTTPError",
     "evalue": "400 Client Error: Bad Request for url: https://api.genome.ucsc.edu/getData/track",
     "output_type": "error",
     "traceback": [
      "\u001b[0;31m---------------------------------------------------------------------------\u001b[0m",
      "\u001b[0;31mHTTPError\u001b[0m                                 Traceback (most recent call last)",
      "Cell \u001b[0;32mIn[6], line 28\u001b[0m\n\u001b[1;32m     25\u001b[0m x_min, x_max \u001b[38;5;241m=\u001b[39m get_window_range(genomic_position, window_size)\n\u001b[1;32m     27\u001b[0m \u001b[38;5;66;03m# Call gi.get_genes_region() for the current region\u001b[39;00m\n\u001b[0;32m---> 28\u001b[0m gene_region \u001b[38;5;241m=\u001b[39m \u001b[43mgi\u001b[49m\u001b[38;5;241;43m.\u001b[39;49m\u001b[43mget_genes_region\u001b[49m\u001b[43m(\u001b[49m\u001b[38;5;124;43m'\u001b[39;49m\u001b[38;5;124;43mchrX\u001b[39;49m\u001b[38;5;124;43m'\u001b[39;49m\u001b[43m,\u001b[49m\u001b[43m \u001b[49m\u001b[43mx_min\u001b[49m\u001b[43m,\u001b[49m\u001b[43m \u001b[49m\u001b[43mx_max\u001b[49m\u001b[43m,\u001b[49m\u001b[43m \u001b[49m\u001b[43massembly\u001b[49m\u001b[38;5;241;43m=\u001b[39;49m\u001b[38;5;124;43m'\u001b[39;49m\u001b[38;5;124;43mhg38\u001b[39;49m\u001b[38;5;124;43m'\u001b[39;49m\u001b[43m)\u001b[49m\n\u001b[1;32m     30\u001b[0m \u001b[38;5;66;03m# Extract gene symbol, start position, and end position from the result\u001b[39;00m\n\u001b[1;32m     31\u001b[0m \u001b[38;5;28;01mif\u001b[39;00m gene_region:  \u001b[38;5;66;03m# Check if gene_region is not empty\u001b[39;00m\n",
      "File \u001b[0;32m~/miniconda3/envs/arifdp/lib/python3.8/site-packages/geneinfo/__init__.py:278\u001b[0m, in \u001b[0;36mget_genes_region\u001b[0;34m(chrom, window_start, window_end, assembly, db)\u001b[0m\n\u001b[1;32m    276\u001b[0m response \u001b[38;5;241m=\u001b[39m requests\u001b[38;5;241m.\u001b[39mget(api_url, data\u001b[38;5;241m=\u001b[39mparams)\n\u001b[1;32m    277\u001b[0m \u001b[38;5;28;01mif\u001b[39;00m \u001b[38;5;129;01mnot\u001b[39;00m response\u001b[38;5;241m.\u001b[39mok:\n\u001b[0;32m--> 278\u001b[0m     \u001b[43mresponse\u001b[49m\u001b[38;5;241;43m.\u001b[39;49m\u001b[43mraise_for_status\u001b[49m\u001b[43m(\u001b[49m\u001b[43m)\u001b[49m\n\u001b[1;32m    280\u001b[0m genes \u001b[38;5;241m=\u001b[39m []\n\u001b[1;32m    281\u001b[0m \u001b[38;5;28;01mfor\u001b[39;00m gene \u001b[38;5;129;01min\u001b[39;00m response\u001b[38;5;241m.\u001b[39mjson()[db]:\n",
      "File \u001b[0;32m~/miniconda3/envs/arifdp/lib/python3.8/site-packages/requests/models.py:1021\u001b[0m, in \u001b[0;36mResponse.raise_for_status\u001b[0;34m(self)\u001b[0m\n\u001b[1;32m   1016\u001b[0m     http_error_msg \u001b[38;5;241m=\u001b[39m (\n\u001b[1;32m   1017\u001b[0m         \u001b[38;5;124mf\u001b[39m\u001b[38;5;124m\"\u001b[39m\u001b[38;5;132;01m{\u001b[39;00m\u001b[38;5;28mself\u001b[39m\u001b[38;5;241m.\u001b[39mstatus_code\u001b[38;5;132;01m}\u001b[39;00m\u001b[38;5;124m Server Error: \u001b[39m\u001b[38;5;132;01m{\u001b[39;00mreason\u001b[38;5;132;01m}\u001b[39;00m\u001b[38;5;124m for url: \u001b[39m\u001b[38;5;132;01m{\u001b[39;00m\u001b[38;5;28mself\u001b[39m\u001b[38;5;241m.\u001b[39murl\u001b[38;5;132;01m}\u001b[39;00m\u001b[38;5;124m\"\u001b[39m\n\u001b[1;32m   1018\u001b[0m     )\n\u001b[1;32m   1020\u001b[0m \u001b[38;5;28;01mif\u001b[39;00m http_error_msg:\n\u001b[0;32m-> 1021\u001b[0m     \u001b[38;5;28;01mraise\u001b[39;00m HTTPError(http_error_msg, response\u001b[38;5;241m=\u001b[39m\u001b[38;5;28mself\u001b[39m)\n",
      "\u001b[0;31mHTTPError\u001b[0m: 400 Client Error: Bad Request for url: https://api.genome.ucsc.edu/getData/track"
     ]
    }
   ],
   "source": [
    "import pandas as pd\n",
    "\n",
    "# Read the data\n",
    "data = pd.read_csv(\"/home/ari/ari-intern/people/ari/ariadna-intern/results/combined_LWK.csv\")\n",
    "\n",
    "# Set threshold for p-values #1e-6\n",
    "threshold = 6\n",
    "\n",
    "# Filter SNPs above the threshold\n",
    "filtered_data = data[data['combined_p_values'] > threshold]\n",
    "\n",
    "# Function to define window to search nearby genes\n",
    "def get_window_range(position, window_size):\n",
    "    x_min = position - window_size // 2\n",
    "    x_max = position + window_size // 2\n",
    "    return x_min, x_max\n",
    "\n",
    "# Initialize a list to store gene regions\n",
    "gene_regions = []\n",
    "\n",
    "# Iterate over rows and calculate gene regions\n",
    "for index, row in filtered_data.iterrows():\n",
    "    genomic_position = row['pos']\n",
    "    window_size = 1000  # Set window size \n",
    "    x_min, x_max = get_window_range(genomic_position, window_size)\n",
    "\n",
    "    # Call gi.get_genes_region() for the current region\n",
    "    gene_region = gi.get_genes_region('chrX', x_min, x_max, assembly='hg38')\n",
    "\n",
    "    # Extract gene symbol, start position, and end position from the result\n",
    "    if gene_region:  # Check if gene_region is not empty\n",
    "        gene_symbol = gene_region[0][0]\n",
    "        start_position = gene_region[0][1]\n",
    "        end_position = gene_region[0][2]\n",
    "\n",
    "        # Append the extracted information to the list of gene regions\n",
    "        gene_regions.append((gene_symbol, start_position, end_position))\n",
    "\n",
    "# Print gene regions\n",
    "print(\"Gene regions for SNPs above threshold:\")\n",
    "for region in gene_regions:\n",
    "    print(region)\n",
    "\n",
    "# Set to store gene symbols for which information has already been retrieved\n",
    "retrieved_symbols = set()\n",
    "\n",
    "# Run gi.gene_info() for each unique gene symbol\n",
    "for gene_symbol, _, _ in gene_regions:\n",
    "    # Check if gene information has already been retrieved for this symbol\n",
    "    if gene_symbol not in retrieved_symbols:\n",
    "        gene_info = gi.gene_info(gene_symbol)\n",
    "        if gene_info is not None:\n",
    "            print(f\"Gene info for {gene_symbol}: {gene_info}\")\n",
    "            \n",
    "print(filtered_data)\n"
   ]
  },
  {
   "cell_type": "code",
   "execution_count": 2,
   "id": "f6410031-6573-44c2-b899-e00338221114",
   "metadata": {},
   "outputs": [
    {
     "name": "stdout",
     "output_type": "stream",
     "text": [
      "              pos  combined_p_values population\n",
      "0         2781865           1.298798        LWK\n",
      "1         2781927           0.261517        LWK\n",
      "2         2782572           0.097941        LWK\n",
      "3         2784657           0.548985        LWK\n",
      "4         2784758           0.701270        LWK\n",
      "...           ...                ...        ...\n",
      "164066  155686314           0.252698        LWK\n",
      "164067  155687184           0.033300        LWK\n",
      "164068  155695384           0.030098        LWK\n",
      "164069  155696715           0.343774        LWK\n",
      "164070  155699751           0.783431        LWK\n",
      "\n",
      "[164071 rows x 3 columns]\n"
     ]
    }
   ],
   "source": [
    "import pandas as pd\n",
    "data = pd.read_csv(\"/home/ari/ari-intern/people/ari/ariadna-intern/results/combined_LWK.csv\", sep =\",\")\n",
    "data['population'] = 'LWK'\n",
    "print(data)"
   ]
  },
  {
   "cell_type": "code",
   "execution_count": null,
   "id": "c6654688-c1dc-480a-a79b-0fbcd9ea9c1f",
   "metadata": {
    "tags": []
   },
   "outputs": [
    {
     "name": "stdout",
     "output_type": "stream",
     "text": [
      "env: http_proxy=http://proxy-default:3128\n"
     ]
    }
   ],
   "source": [
    "import pandas as pd\n",
    "import numpy as np\n",
    "from scipy.stats import chi2\n",
    "import matplotlib.pyplot as plt\n",
    "import seaborn as sns\n",
    "\n",
    "import sys, os\n",
    "import re\n",
    "from collections import defaultdict\n",
    "import numpy as np\n",
    "import pandas as pd\n",
    "\n",
    "%matplotlib inline\n",
    "\n",
    "import matplotlib.pyplot as plt\n",
    "from matplotlib_inline.backend_inline import set_matplotlib_formats\n",
    "set_matplotlib_formats('retina', 'png')\n",
    "from matplotlib.patches import Rectangle, Polygon\n",
    "import seaborn as sns\n",
    "sns.set_style('white')\n",
    "\n",
    "import geneinfo as gi\n",
    "gi.email('ariadna.saez@alum.esci.upf.edu')\n",
    "\n",
    "\n",
    "%env http_proxy=http://proxy-default:3128\n",
    "\n",
    "\n",
    "# Function to define window to search nearby genes\n",
    "def get_window_range(position, window_size):\n",
    "    x_min = position - window_size // 2\n",
    "    x_max = position + window_size // 2\n",
    "    return x_min, x_max\n",
    "\n",
    "# Define populations\n",
    "populations = data['population'].unique()\n",
    "\n",
    "# Dictionary to store gene regions for each population\n",
    "gene_regions = {}\n",
    "\n",
    "# Set to store unique gene symbols\n",
    "unique_genes = set()\n",
    "\n",
    "# Iterate over populations\n",
    "for population in populations:\n",
    "    # Filter data for the current population\n",
    "    population_data = data[data['population'] == population]\n",
    "    \n",
    "    # Initialize a list to store gene regions for the current population\n",
    "    population_gene_regions = []\n",
    "    \n",
    "    # Iterate over rows and calculate gene regions\n",
    "    for index, row in population_data.iterrows():\n",
    "        genomic_position = row['pos']\n",
    "        window_size = 1000  # Set window size \n",
    "        x_min, x_max = get_window_range(genomic_position, window_size)\n",
    "        \n",
    "        # Call gi.get_genes_region() for the current region\n",
    "        gene_region = gi.get_genes_region('chrX', x_min, x_max, assembly='hg38')\n",
    "        \n",
    "        # Extract gene symbol, start position, and end position from the result\n",
    "        if gene_region:  # Check if gene_region is not empty\n",
    "            gene_symbol = gene_region[0][0]\n",
    "            start_position = gene_region[0][1]\n",
    "            end_position = gene_region[0][2]\n",
    "            \n",
    "            # Append the extracted information to the list of gene regions for the current population\n",
    "            population_gene_regions.append((gene_symbol, start_position, end_position))\n",
    "            \n",
    "            # Add gene symbol to set of unique genes\n",
    "            unique_genes.add(gene_symbol)\n",
    "    \n",
    "    # Store the list of gene regions for the current population in the dictionary\n",
    "    gene_regions[population] = population_gene_regions\n",
    "\n",
    "# Print gene regions for all populations\n",
    "for population, regions in gene_regions.items():\n",
    "    print(f\"Gene regions for {population}:\")\n",
    "    for region in regions:\n",
    "        print(region)\n",
    "\n",
    "print()\n",
    "print()\n",
    "\n",
    "# Set to store gene symbols for which information has already been retrieved\n",
    "retrieved_symbols = set()\n",
    "\n",
    "# Run gi.gene_info() for each unique gene symbol\n",
    "for gene_symbol in unique_genes:\n",
    "    # Check if gene information has already been retrieved for this symbol\n",
    "    if gene_symbol not in retrieved_symbols:\n",
    "        gene_info = gi.gene_info(gene_symbol)\n",
    "        if gene_info is not None:\n",
    "            print(f\"Gene info for {gene_symbol}: {gene_info}\")\n"
   ]
  },
  {
   "cell_type": "code",
   "execution_count": null,
   "id": "e9da1731-8e5e-4117-a7b3-773dcaab7a93",
   "metadata": {},
   "outputs": [],
   "source": []
  }
 ],
 "metadata": {
  "kernelspec": {
   "display_name": "Python 3 (ipykernel)",
   "language": "python",
   "name": "python3"
  },
  "language_info": {
   "codemirror_mode": {
    "name": "ipython",
    "version": 3
   },
   "file_extension": ".py",
   "mimetype": "text/x-python",
   "name": "python",
   "nbconvert_exporter": "python",
   "pygments_lexer": "ipython3",
   "version": "3.8.18"
  }
 },
 "nbformat": 4,
 "nbformat_minor": 5
}
