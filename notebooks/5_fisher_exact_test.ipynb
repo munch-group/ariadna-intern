{
 "cells": [
  {
   "cell_type": "markdown",
   "id": "52e6ea04-ade4-4834-bd15-5337a9d8d694",
   "metadata": {},
   "source": [
    "**GO ENRICHMENT ANALYSIS**"
   ]
  },
  {
   "cell_type": "code",
   "execution_count": 1,
   "id": "fd2c4f50-e1a2-4b5b-a747-5eebbf27099d",
   "metadata": {},
   "outputs": [],
   "source": [
    "from scipy.stats import fisher_exact\n",
    "import pandas as pd\n",
    "\n",
    "def read_google_sheet():\n",
    "    SHEET_ID = '1JSjSLuto3jqdEnnG7JqzeC_1pUZw76n7XueVAYrUOpk'\n",
    "    SHEET_NAME = 'Sheet1'\n",
    "    url = f'https://docs.google.com/spreadsheets/d/{SHEET_ID}/gviz/tq?tqx=out:csv&sheet={SHEET_NAME}'\n",
    "    df = pd.read_csv(url, header=1)\n",
    "    return df.loc[:, [not x.startswith('Unnamed') for x in df.columns]]\n",
    "    \n",
    "def gene_list_names():\n",
    "    df = read_google_sheet()\n",
    "    return sorted(df.columns.tolist())\n",
    "\n",
    "def gene_list(name):\n",
    "    df = read_google_sheet()\n",
    "    sr = df[name]\n",
    "    return sr[~sr.isnull()]\n",
    "    \n",
    "all_set = set(gene_list('all_npx'))\n",
    "asd_set = set(gene_list('sfari_all_conf'))\n",
    "spermatid_set = set(gene_list('meritxell_spermatid_expr'))\n",
    "brain_set = set(gene_list('hpa_brain_prot'))\n",
    "neuron_set = set(gene_list('matos_neuron'))"
   ]
  },
  {
   "cell_type": "code",
   "execution_count": 2,
   "id": "332f0bce-3113-4551-8834-0517f73f350b",
   "metadata": {
    "tags": []
   },
   "outputs": [
    {
     "name": "stdout",
     "output_type": "stream",
     "text": [
      "35\n"
     ]
    }
   ],
   "source": [
    "# candidate genes found under positive selection by RELATE\n",
    "selection_set = {'ACSL4',\n",
    "'AMMECR1',\n",
    "'ARSL',\n",
    "'BCOR',\n",
    "'CASK',\n",
    "'CDKL5',\n",
    "'CLCN4',\n",
    "'CLCN5',\n",
    "'DMD',\n",
    "'ENOX2',\n",
    "'FAM120C',\n",
    "'FRMPD4',\n",
    "'G6PD',\n",
    "'GNL3L',\n",
    "'HUWE1',\n",
    "'IGSF1',\n",
    "'IL1RAPL1',\n",
    "# 'LINC01278',\n",
    "# 'LINC01278',\n",
    "# 'LOC101928359',\n",
    "# 'LOC105377212',\n",
    "# 'LOC112268307',\n",
    "# 'LOC124905191',\n",
    "'MAGT1',\n",
    "'MAMLD1',\n",
    "# 'MIR325HG',\n",
    "'NHS',\n",
    "'NYX',\n",
    "'PAK3',\n",
    "'PASD1',                 \n",
    "'PHKA1',\n",
    "'PRKX',\n",
    "'PTCHD1',\n",
    "# 'PTCHD1-AS',\n",
    "'RAB33A',\n",
    "# 'RAP2C-AS1',\n",
    "'RTL4',\n",
    "'TENM1',\n",
    "'TMEM164',\n",
    "'TMLHE',\n",
    "'WWC3',\n",
    "'XPNPEP2',\n",
    "'ZMYM3',\n",
    "'ZNF185'}\n",
    "print(len(selection_set))"
   ]
  },
  {
   "cell_type": "code",
   "execution_count": 3,
   "id": "91cdc2d0-1494-4bc5-9a1b-c46f1a45b03b",
   "metadata": {},
   "outputs": [
    {
     "data": {
      "text/plain": [
       "([[66, 2], [5, 4]], 0.0012471014633956233)"
      ]
     },
     "execution_count": 3,
     "metadata": {},
     "output_type": "execute_result"
    }
   ],
   "source": [
    "# ASD-related genes are more likely to be expressed in brain+spermatids than in only brain\n",
    "M = len(asd_set) \n",
    "N = len(asd_set.intersection(brain_set)) \n",
    "n = len(asd_set.intersection(spermatid_set))\n",
    "x = len(asd_set.intersection(spermatid_set).intersection(brain_set))\n",
    "\n",
    "table = [[  x,           n - x          ],\n",
    "         [ N - x,        M - (n + N) + x]]\n",
    "table, fisher_exact(table, alternative='greater').pvalue"
   ]
  },
  {
   "cell_type": "code",
   "execution_count": 4,
   "id": "a8479b91-9776-457b-b7da-f275275f7f9d",
   "metadata": {},
   "outputs": [
    {
     "data": {
      "text/plain": [
       "([[9, 26], [68, 1309]], 5.947106735011354e-05)"
      ]
     },
     "execution_count": 4,
     "metadata": {},
     "output_type": "execute_result"
    }
   ],
   "source": [
    "# H1: Positively selected genes are enriched for ASD\n",
    "M = len(all_set)\n",
    "N = len(all_set.intersection(asd_set))\n",
    "n = len(all_set.intersection(selection_set))\n",
    "x = len(all_set.intersection(asd_set).intersection(selection_set))\n",
    "\n",
    "table = [[  x,           n - x          ],  \n",
    "         [ N - x,        M - (n + N) + x]] \n",
    "table, fisher_exact(table, alternative='greater').pvalue"
   ]
  },
  {
   "cell_type": "code",
   "execution_count": 5,
   "id": "2d7aab90-110a-43f9-a80d-016c1f238cbf",
   "metadata": {},
   "outputs": [
    {
     "data": {
      "text/plain": [
       "([[29, 2], [371, 160]], 0.001915857329301735)"
      ]
     },
     "execution_count": 5,
     "metadata": {},
     "output_type": "execute_result"
    }
   ],
   "source": [
    "# H2: Positive selection is more common in genes that are involved in both spermatid and neuron than just in neuron\n",
    "M = len(brain_set)\n",
    "N = len(brain_set.intersection(spermatid_set))\n",
    "n = len(brain_set.intersection(selection_set))\n",
    "x = len(brain_set.intersection(spermatid_set).intersection(selection_set))\n",
    "\n",
    "table = [[  x,           n - x          ],\n",
    "         [ N - x,        M - (n + N) + x]]\n",
    "table, fisher_exact(table, alternative='greater').pvalue"
   ]
  }
 ],
 "metadata": {
  "kernelspec": {
   "display_name": "Python 3 (ipykernel)",
   "language": "python",
   "name": "python3"
  },
  "language_info": {
   "codemirror_mode": {
    "name": "ipython",
    "version": 3
   },
   "file_extension": ".py",
   "mimetype": "text/x-python",
   "name": "python",
   "nbconvert_exporter": "python",
   "pygments_lexer": "ipython3",
   "version": "3.8.18"
  }
 },
 "nbformat": 4,
 "nbformat_minor": 5
}
