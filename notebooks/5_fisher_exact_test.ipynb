{
 "cells": [
  {
   "cell_type": "code",
   "execution_count": 1,
   "id": "8a2fcdfa-f130-4c98-9a75-0e4d85d72005",
   "metadata": {},
   "outputs": [
    {
     "name": "stdout",
     "output_type": "stream",
     "text": [
      "Number of unique genes: 189\n",
      "['ABCB7', 'ABCD1', 'ACSL4', 'AFF2', 'AGTR2', 'AIFM1', 'ALG13', 'AMER1', 'AMMECR1', 'ANOS1', 'AP1S2', 'AR', 'ARHGEF9', 'ARSL', 'ARX', 'ATP6AP1', 'ATP6AP2', 'ATP7A', 'ATRX', 'AVPR2', 'BCAP31', 'BCOR', 'BCORL1', 'BGN', 'BRWD3', 'BTK', 'CACNA1F', 'CASK', 'CCDC22', 'CD99L2', 'CDKL5', 'CHM', 'CLCN4', 'CLIC2', 'CNKSR2', 'COX7B', 'CUL4B', 'CXorf56', 'DCX', 'DDX3X', 'DDX53', 'DKC1', 'DLG3', 'DMD', 'EBP', 'EFNB1', 'EIF2S3', 'EMD', 'FAM47A', 'FAM50A', 'FANCB', 'FGD1', 'FGF13', 'FHL1', 'FLNA', 'FMR1', 'FRMPD4', 'FTSJ1', 'GABRA3', 'GATA1', 'GDI1', 'GJB1', 'GK', 'GLA', 'GLRA2', 'GPC3', 'GPC4', 'GPR101', 'GRIA3', 'HCCS', 'HCFC1', 'HDAC6', 'HDAC8', 'HMGB3', 'HNRNPH2', 'HPRT1', 'HS6ST2', 'HSD17B10', 'HUWE1', 'IDS', 'IGBP1', 'IGSF1', 'IKBKG', 'IL1RAPL1', 'IL1RAPL2', 'IL2RG', 'IQSEC2', 'KDM5C', 'KDM6A', 'KIF4A', 'KLHL15', 'L1CAM', 'LAGE3', 'LAMP2', 'LAS1L', 'MAGT1', 'MAOA', 'MAOB', 'MBTPS2', 'MECP2', 'MED12', 'MID1', 'MID2', 'MSL3', 'MTM1', 'NAA10', 'NDP', 'NDUFA1', 'NDUFB11', 'NEXMIF', 'NHS', 'NKAP', 'NLGN3', 'NLGN4X', 'NONO', 'NSDHL', 'OCRL', 'OFD1', 'OGT', 'OPHN1', 'OTC', 'PAK3', 'PCDH11X', 'PCDH19', 'PDHA1', 'PGK1', 'PHF6', 'PHF8', 'PHKA2', 'PIGA', 'PJA1', 'PLP1', 'PLXNA3', 'POLA1', 'PORCN', 'PQBP1', 'PRPS1', 'PTCHD1', 'PTCHD1-AS', 'RAB39B', 'RBM10', 'RBMX', 'RHOXF1', 'RLIM', 'RNF113A', 'RPL10', 'RPS6KA3', 'SH2D1A', 'SHOX', 'SHROOM4', 'SLC16A2', 'SLC35A2', 'SLC6A8', 'SLC7A3', 'SLC9A6', 'SLC9A7', 'SMC1A', 'SMS', 'SOX3', 'SSR4', 'STAG2', 'SYAP1', 'SYN1', 'SYP', 'TAF1', 'TAZ', 'TBL1X', 'TBX22', 'TFE3', 'THOC2', 'TIMM8A', 'TMLHE', 'TSPAN7', 'UBA1', 'UBE2A', 'UBQLN2', 'UPF3B', 'USP27X', 'USP9X', 'VMA21', 'VSIG4', 'WAS', 'WDR45', 'WNK3', 'XK', 'ZC4H2', 'ZDHHC9', 'ZIC3', 'ZNF711']\n"
     ]
    }
   ],
   "source": [
    "import pandas as pd\n",
    "from scipy.stats import fisher_exact\n",
    "\n",
    "def read_google_sheet():\n",
    "    SHEET_ID = '1JSjSLuto3jqdEnnG7JqzeC_1pUZw76n7XueVAYrUOpk'\n",
    "    SHEET_NAME = 'Sheet1'\n",
    "    url = f'https://docs.google.com/spreadsheets/d/{SHEET_ID}/gviz/tq?tqx=out:csv&sheet={SHEET_NAME}'\n",
    "    df = pd.read_csv(url, header=1)\n",
    "    return df.loc[:, [not x.startswith('Unnamed') for x in df.columns]]\n",
    "\n",
    "def gene_list_names():\n",
    "    df = read_google_sheet()\n",
    "    return sorted(df.columns.tolist())\n",
    "\n",
    "def gene_list(name):\n",
    "    df = read_google_sheet()\n",
    "    sr = df[name]\n",
    "    return sr[~sr.isnull()]\n",
    "\n",
    "# List of column names to be tested\n",
    "columns_to_test = ['sfari_all_conf', 'intel_seiz_lang', 'intelect_disabil']\n",
    "\n",
    "# Read the data from Google Sheets\n",
    "df = read_google_sheet()\n",
    "\n",
    "# Filter the DataFrame to include only the specified columns\n",
    "df_filtered = df[columns_to_test]\n",
    "\n",
    "# Concatenate the columns into a single Series\n",
    "all_genes = pd.concat([df_filtered[col] for col in columns_to_test])\n",
    "\n",
    "# Remove NaN values and get unique genes\n",
    "unique_genes = all_genes.dropna().unique()\n",
    "\n",
    "# Convert the array to a list for better readability\n",
    "unique_genes_list = unique_genes.tolist()\n",
    "unique_genes_list.sort()\n",
    "\n",
    "# Get the number of unique genes\n",
    "num_unique_genes = len(unique_genes_list)\n",
    "\n",
    "# Print the number of unique genes and the sorted list of unique genes\n",
    "print(f\"Number of unique genes: {num_unique_genes}\")\n",
    "\n",
    "# Print the list of unique genes\n",
    "print(unique_genes_list)\n"
   ]
  },
  {
   "cell_type": "code",
   "execution_count": 3,
   "id": "d0720daa-356f-4172-8597-ccb1d606b63e",
   "metadata": {},
   "outputs": [
    {
     "data": {
      "text/plain": [
       "([[18, 21], [171, 1190]], 4.843110163112196e-07)"
      ]
     },
     "execution_count": 3,
     "metadata": {},
     "output_type": "execute_result"
    }
   ],
   "source": [
    "# ASD + ID + Seizures + Language impair\n",
    "\n",
    "M = 1400 # All chrX genes\n",
    "N = 189 # All brain genes\n",
    "n = 39 # All genes under selection \n",
    "x = 18 # Brain genes under selection\n",
    "\n",
    "          # Selection   # No selection            \n",
    "table = [[  x,           n - x          ],  # Autism genes\n",
    "         [ N - x,        M - (n + N) + x]]  # Non-autism genes\n",
    "table, fisher_exact(table, alternative='greater').pvalue"
   ]
  },
  {
   "cell_type": "code",
   "execution_count": 4,
   "id": "3e8de858-eb60-497a-b893-d9f4e02f357c",
   "metadata": {},
   "outputs": [
    {
     "data": {
      "text/plain": [
       "([[10, 29], [67, 1294]], 2.4526256107138398e-05)"
      ]
     },
     "execution_count": 4,
     "metadata": {},
     "output_type": "execute_result"
    }
   ],
   "source": [
    "# ASD\n",
    "\n",
    "M = 1400 # All chrX genes\n",
    "N = 77 # All autism genes\n",
    "n = 39 # All genes under selection \n",
    "x = 10 # Autism genes under selection\n",
    "\n",
    "          # Selection   # No selection            \n",
    "table = [[  x,           n - x          ],  # Autism genes\n",
    "         [ N - x,        M - (n + N) + x]]  # Non-autism genes\n",
    "table, fisher_exact(table, alternative='greater').pvalue"
   ]
  },
  {
   "cell_type": "code",
   "execution_count": 5,
   "id": "f5595118-6888-48cc-83b0-c8b9fab3eef2",
   "metadata": {},
   "outputs": [
    {
     "data": {
      "text/plain": [
       "([[14, 25], [113, 1248]], 2.686813117828579e-06)"
      ]
     },
     "execution_count": 5,
     "metadata": {},
     "output_type": "execute_result"
    }
   ],
   "source": [
    "# ID\n",
    "\n",
    "M = 1400 # All chrX genes\n",
    "N = 127 # All ID genes\n",
    "n = 39 # All genes under selection \n",
    "x = 14 # Autism genes under selection\n",
    "\n",
    "          # Selection   # No selection            \n",
    "table = [[  x,           n - x          ],  # Autism genes\n",
    "         [ N - x,        M - (n + N) + x]]  # Non-autism genes\n",
    "table, fisher_exact(table, alternative='greater').pvalue"
   ]
  },
  {
   "cell_type": "code",
   "execution_count": null,
   "id": "07c3091a-bacd-4457-88d1-f3dc14d3c47b",
   "metadata": {},
   "outputs": [],
   "source": []
  }
 ],
 "metadata": {
  "kernelspec": {
   "display_name": "Python 3 (ipykernel)",
   "language": "python",
   "name": "python3"
  },
  "language_info": {
   "codemirror_mode": {
    "name": "ipython",
    "version": 3
   },
   "file_extension": ".py",
   "mimetype": "text/x-python",
   "name": "python",
   "nbconvert_exporter": "python",
   "pygments_lexer": "ipython3",
   "version": "3.8.18"
  }
 },
 "nbformat": 4,
 "nbformat_minor": 5
}
