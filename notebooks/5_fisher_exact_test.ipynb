{
 "cells": [
  {
   "cell_type": "code",
   "execution_count": 1,
   "id": "fd2c4f50-e1a2-4b5b-a747-5eebbf27099d",
   "metadata": {},
   "outputs": [],
   "source": [
    "import pandas as pd\n",
    "from scipy.stats import fisher_exact"
   ]
  },
  {
   "cell_type": "code",
   "execution_count": 3,
   "id": "430a8211-bbe4-4695-90ca-c3e5f9020245",
   "metadata": {
    "tags": []
   },
   "outputs": [],
   "source": [
    "# Null Hypothesis (H0): There is no association between being a brain gene and being under selection.\n",
    "# Alternative Hypothesis (H1): Brain genes are more likely to be under selection than non-brain genes.\n",
    "\n",
    "# test was conducted with the \"greater\" alternative, indicating that you are specifically testing\n",
    "# whether brain genes are more likely to be under selection compared to non-brain genes."
   ]
  },
  {
   "cell_type": "code",
   "execution_count": 19,
   "id": "332f0bce-3113-4551-8834-0517f73f350b",
   "metadata": {
    "tags": []
   },
   "outputs": [
    {
     "name": "stdout",
     "output_type": "stream",
     "text": [
      "39\n"
     ]
    }
   ],
   "source": [
    "# candidate genes found under positive selection by RELATE\n",
    "selection = [\n",
    "    \"ACSL4\", \"AMMECR1\", \"ARSL\", \"BCOR\", \"CASK\", \"CDKL5\", \"CLCN4\", \"CLCN5\", \n",
    "    \"DMD\", \"ENOX2\", \"FAM120C\", \"FRMPD4\", \"G6PD\", \"GNL3L\", \"HUWE1\", \"IGSF1\", \n",
    "    \"IL1RAPL1\", \"LINC01278\", \"MAGT1\", \"MAMLD1\", \"MIR325HG\", \"NHS\", \"NYX\", \n",
    "    \"PAK3\", \"PASD1\", \"PHKA1\", \"PRKX\", \"PTCHD1\", \"PTCHD1-AS\", \"RAB33A\", \n",
    "    \"RAP2C-AS1\", \"RTL4\", \"TENM1\", \"TMEM164\", \"TMLHE\", \"WWC3\", \"XPNPEP2\", \n",
    "    \"ZMYM3\", \"ZNF185\"\n",
    "]\n",
    "\n",
    "print(len(selection))"
   ]
  },
  {
   "cell_type": "code",
   "execution_count": 48,
   "id": "8a2fcdfa-f130-4c98-9a75-0e4d85d72005",
   "metadata": {},
   "outputs": [
    {
     "name": "stdout",
     "output_type": "stream",
     "text": [
      "Number of unique genes: 189\n",
      "['ABCB7', 'ABCD1', 'ACSL4', 'AFF2', 'AGTR2', 'AIFM1', 'ALG13', 'AMER1', 'AMMECR1', 'ANOS1', 'AP1S2', 'AR', 'ARHGEF9', 'ARSL', 'ARX', 'ATP6AP1', 'ATP6AP2', 'ATP7A', 'ATRX', 'AVPR2', 'BCAP31', 'BCOR', 'BCORL1', 'BGN', 'BRWD3', 'BTK', 'CACNA1F', 'CASK', 'CCDC22', 'CD99L2', 'CDKL5', 'CHM', 'CLCN4', 'CLIC2', 'CNKSR2', 'COX7B', 'CUL4B', 'CXorf56', 'DCX', 'DDX3X', 'DDX53', 'DKC1', 'DLG3', 'DMD', 'EBP', 'EFNB1', 'EIF2S3', 'EMD', 'FAM47A', 'FAM50A', 'FANCB', 'FGD1', 'FGF13', 'FHL1', 'FLNA', 'FMR1', 'FRMPD4', 'FTSJ1', 'GABRA3', 'GATA1', 'GDI1', 'GJB1', 'GK', 'GLA', 'GLRA2', 'GPC3', 'GPC4', 'GPR101', 'GRIA3', 'HCCS', 'HCFC1', 'HDAC6', 'HDAC8', 'HMGB3', 'HNRNPH2', 'HPRT1', 'HS6ST2', 'HSD17B10', 'HUWE1', 'IDS', 'IGBP1', 'IGSF1', 'IKBKG', 'IL1RAPL1', 'IL1RAPL2', 'IL2RG', 'IQSEC2', 'KDM5C', 'KDM6A', 'KIF4A', 'KLHL15', 'L1CAM', 'LAGE3', 'LAMP2', 'LAS1L', 'MAGT1', 'MAOA', 'MAOB', 'MBTPS2', 'MECP2', 'MED12', 'MID1', 'MID2', 'MSL3', 'MTM1', 'NAA10', 'NDP', 'NDUFA1', 'NDUFB11', 'NEXMIF', 'NHS', 'NKAP', 'NLGN3', 'NLGN4X', 'NONO', 'NSDHL', 'OCRL', 'OFD1', 'OGT', 'OPHN1', 'OTC', 'PAK3', 'PCDH11X', 'PCDH19', 'PDHA1', 'PGK1', 'PHF6', 'PHF8', 'PHKA2', 'PIGA', 'PJA1', 'PLP1', 'PLXNA3', 'POLA1', 'PORCN', 'PQBP1', 'PRPS1', 'PTCHD1', 'PTCHD1-AS', 'RAB39B', 'RBM10', 'RBMX', 'RHOXF1', 'RLIM', 'RNF113A', 'RPL10', 'RPS6KA3', 'SH2D1A', 'SHOX', 'SHROOM4', 'SLC16A2', 'SLC35A2', 'SLC6A8', 'SLC7A3', 'SLC9A6', 'SLC9A7', 'SMC1A', 'SMS', 'SOX3', 'SSR4', 'STAG2', 'SYAP1', 'SYN1', 'SYP', 'TAF1', 'TAZ', 'TBL1X', 'TBX22', 'TFE3', 'THOC2', 'TIMM8A', 'TMLHE', 'TSPAN7', 'UBA1', 'UBE2A', 'UBQLN2', 'UPF3B', 'USP27X', 'USP9X', 'VMA21', 'VSIG4', 'WAS', 'WDR45', 'WNK3', 'XK', 'ZC4H2', 'ZDHHC9', 'ZIC3', 'ZNF711']\n"
     ]
    }
   ],
   "source": [
    "def read_google_sheet():\n",
    "    SHEET_ID = '1JSjSLuto3jqdEnnG7JqzeC_1pUZw76n7XueVAYrUOpk'\n",
    "    SHEET_NAME = 'Sheet1'\n",
    "    url = f'https://docs.google.com/spreadsheets/d/{SHEET_ID}/gviz/tq?tqx=out:csv&sheet={SHEET_NAME}'\n",
    "    df = pd.read_csv(url, header=1)\n",
    "    return df.loc[:, [not x.startswith('Unnamed') for x in df.columns]]\n",
    "\n",
    "def gene_list_names():\n",
    "    df = read_google_sheet()\n",
    "    return sorted(df.columns.tolist())\n",
    "\n",
    "def gene_list(name):\n",
    "    df = read_google_sheet()\n",
    "    sr = df[name]\n",
    "    return sr[~sr.isnull()]\n",
    "\n",
    "# List of column names to be tested\n",
    "columns_to_test = ['sfari_all_conf', 'intel_seiz_lang', 'intelect_disabil']\n",
    "\n",
    "# Read the data from Google Sheets\n",
    "df = read_google_sheet()\n",
    "\n",
    "# Filter the DataFrame to include only the specified columns\n",
    "df_filtered = df[columns_to_test]\n",
    "\n",
    "# Concatenate the columns into a single Series\n",
    "all_genes = pd.concat([df_filtered[col] for col in columns_to_test])\n",
    "\n",
    "# Remove NaN values and get unique genes\n",
    "unique_genes = all_genes.dropna().unique()\n",
    "\n",
    "# Convert the array to a list for better readability\n",
    "unique_genes_list = unique_genes.tolist()\n",
    "unique_genes_list.sort()\n",
    "\n",
    "# Get the number of unique genes\n",
    "num_unique_genes = len(unique_genes_list)\n",
    "\n",
    "# Print the number of unique genes and the sorted list of unique genes\n",
    "print(f\"Number of unique genes: {num_unique_genes}\")\n",
    "\n",
    "# Print the list of unique genes (ALL BRAIN GENES)\n",
    "print(unique_genes_list)\n"
   ]
  },
  {
   "cell_type": "code",
   "execution_count": 40,
   "id": "d0720daa-356f-4172-8597-ccb1d606b63e",
   "metadata": {},
   "outputs": [
    {
     "name": "stdout",
     "output_type": "stream",
     "text": [
      "Genes in ASD + ID + Seizures + Language impairment: 189\n",
      "Number of shared genes: 18\n",
      "Genes in brain genes under positive selection:\n",
      "AMMECR1\n",
      "TMLHE\n",
      "BCOR\n",
      "CDKL5\n",
      "ARSL\n",
      "CASK\n",
      "PAK3\n",
      "CLCN4\n",
      "IGSF1\n",
      "IL1RAPL1\n",
      "ACSL4\n",
      "MAGT1\n",
      "DMD\n",
      "PTCHD1-AS\n",
      "HUWE1\n",
      "FRMPD4\n",
      "NHS\n",
      "PTCHD1\n"
     ]
    },
    {
     "data": {
      "text/plain": [
       "([[18, 21], [171, 1190]], 4.843110163112196e-07)"
      ]
     },
     "execution_count": 40,
     "metadata": {},
     "output_type": "execute_result"
    }
   ],
   "source": [
    "# ASD + ID + Seizures + Language impairment\n",
    "\n",
    "print(f\"Genes in ASD + ID + Seizures + Language impairment: {len(unique_genes_list)}\")\n",
    "\n",
    "# Convert the list to a set\n",
    "selection_set = set(selection)\n",
    "\n",
    "# Find the intersection of the two sets\n",
    "shared_genes_brain = selection_set.intersection(unique_genes_list)\n",
    "\n",
    "# Print the number of shared genes\n",
    "print(f\"Number of shared genes: {len(shared_genes_brain)}\")\n",
    "print(\"Genes in brain genes under positive selection:\")\n",
    "for gene in shared_genes_brain:\n",
    "    print(gene)\n",
    "\n",
    "M = 1400 # All chrX genes\n",
    "N = 189 # All brain genes\n",
    "n = 39 # All genes under selection \n",
    "x = 18 # Brain genes under selection\n",
    "\n",
    "          # Selection   # No selection            \n",
    "table = [[  x,           n - x          ],  # Autism genes\n",
    "         [ N - x,        M - (n + N) + x]]  # Non-autism genes\n",
    "table, fisher_exact(table, alternative='greater').pvalue"
   ]
  },
  {
   "cell_type": "code",
   "execution_count": 45,
   "id": "3e8de858-eb60-497a-b893-d9f4e02f357c",
   "metadata": {},
   "outputs": [
    {
     "name": "stdout",
     "output_type": "stream",
     "text": [
      "Genes in ASD: 77\n",
      "Number of shared genes: 10\n",
      "Genes in ASD genes under positive selection:\n",
      "TMLHE\n",
      "CDKL5\n",
      "CASK\n",
      "CLCN4\n",
      "IL1RAPL1\n",
      "PTCHD1-AS\n",
      "DMD\n",
      "HUWE1\n",
      "FRMPD4\n",
      "PTCHD1\n"
     ]
    },
    {
     "data": {
      "text/plain": [
       "([[10, 29], [67, 1294]], 2.4526256107138398e-05)"
      ]
     },
     "execution_count": 45,
     "metadata": {},
     "output_type": "execute_result"
    }
   ],
   "source": [
    "# ASD\n",
    "\n",
    "print(f\"Genes in ASD: {len(df['sfari_all_conf'].dropna())}\")\n",
    "\n",
    "# Convert the list to a set\n",
    "selection_set = set(selection)\n",
    "\n",
    "# Find the intersection of the two sets\n",
    "shared_genes_ASD = selection_set.intersection(df['sfari_all_conf'])\n",
    "\n",
    "# Print the number of shared genes\n",
    "print(f\"Number of shared genes: {len(shared_genes_ASD)}\")\n",
    "print(\"Genes in ASD genes under positive selection:\")\n",
    "for gene in shared_genes_ASD:\n",
    "    print(gene)\n",
    "\n",
    "M = 1400 # All chrX genes\n",
    "N = 77 # All autism genes\n",
    "n = 39 # All genes under selection \n",
    "x = 10 # Autism genes under selection\n",
    "\n",
    "          # Selection   # No selection            \n",
    "table = [[  x,           n - x          ],  # Autism genes\n",
    "         [ N - x,        M - (n + N) + x]]  # Non-autism genes\n",
    "table, fisher_exact(table, alternative='greater').pvalue"
   ]
  },
  {
   "cell_type": "code",
   "execution_count": 47,
   "id": "f5595118-6888-48cc-83b0-c8b9fab3eef2",
   "metadata": {},
   "outputs": [
    {
     "name": "stdout",
     "output_type": "stream",
     "text": [
      "Genes in ID: 129\n",
      "Number of shared genes: 14\n",
      "Genes in ID genes under positive selection:\n",
      "TMLHE\n",
      "BCOR\n",
      "CDKL5\n",
      "CASK\n",
      "PAK3\n",
      "CLCN4\n",
      "IL1RAPL1\n",
      "ACSL4\n",
      "MAGT1\n",
      "DMD\n",
      "HUWE1\n",
      "FRMPD4\n",
      "NHS\n",
      "PTCHD1\n"
     ]
    },
    {
     "data": {
      "text/plain": [
       "([[14, 25], [115, 1246]], 3.2631162171983967e-06)"
      ]
     },
     "execution_count": 47,
     "metadata": {},
     "output_type": "execute_result"
    }
   ],
   "source": [
    "# ID\n",
    "\n",
    "print(f\"Genes in ID: {len(df['intelect_disabil'].dropna())}\")\n",
    "\n",
    "# Convert the list to a set\n",
    "selection_set = set(selection)\n",
    "\n",
    "# Find the intersection of the two sets\n",
    "shared_genes_ID = selection_set.intersection(df['intelect_disabil'])\n",
    "\n",
    "# Print the number of shared genes\n",
    "print(f\"Number of shared genes: {len(shared_genes_ID)}\")\n",
    "print(\"Genes in ID genes under positive selection:\")\n",
    "for gene in shared_genes_ID:\n",
    "    print(gene)\n",
    "\n",
    "M = 1400 # All chrX genes\n",
    "N = 129 # All ID genes\n",
    "n = 39 # All genes under selection \n",
    "x = 14 # Autism genes under selection\n",
    "\n",
    "          # Selection   # No selection            \n",
    "table = [[  x,           n - x          ],  # Autism genes\n",
    "         [ N - x,        M - (n + N) + x]]  # Non-autism genes\n",
    "table, fisher_exact(table, alternative='greater').pvalue"
   ]
  },
  {
   "cell_type": "code",
   "execution_count": 14,
   "id": "1830180d-4fff-4f22-bb48-f33204b68771",
   "metadata": {
    "collapsed": true,
    "jupyter": {
     "outputs_hidden": true
    },
    "tags": []
   },
   "outputs": [
    {
     "data": {
      "text/plain": [
       "['accel_reg_simiiformes_br',\n",
       " 'all_npx',\n",
       " 'all_post_mei_expr',\n",
       " 'ari_relate_AFR',\n",
       " 'ari_relate_ASIA',\n",
       " 'ari_relate_EUR',\n",
       " 'cDEG',\n",
       " 'candidates',\n",
       " 'ech75_regions',\n",
       " 'ech90_regions',\n",
       " 'expr_mod_xi_copynr_fibrobl',\n",
       " 'expr_mod_xi_copynr_lcl',\n",
       " 'gametologs',\n",
       " 'intel_seiz_lang',\n",
       " 'intelect_disabil',\n",
       " 'matos_common',\n",
       " 'matos_common_no_xy_gametologs',\n",
       " 'matos_neuron',\n",
       " 'msci',\n",
       " 'msci_esc',\n",
       " 'my_primate_codeml',\n",
       " 'nDEG',\n",
       " 'neuron_genome_proteome',\n",
       " 'neuron_npx_proteome',\n",
       " 'primate_ampl_multi',\n",
       " 'reg_sa_pheno',\n",
       " 'sfari_all_conf',\n",
       " 'xi',\n",
       " 'xi_any_evidence',\n",
       " 'xi_escape',\n",
       " 'xi_uncertain']"
      ]
     },
     "execution_count": 14,
     "metadata": {},
     "output_type": "execute_result"
    }
   ],
   "source": [
    "gene_list_names()"
   ]
  },
  {
   "cell_type": "code",
   "execution_count": 37,
   "id": "07c3091a-bacd-4457-88d1-f3dc14d3c47b",
   "metadata": {},
   "outputs": [
    {
     "name": "stdout",
     "output_type": "stream",
     "text": [
      "Genes in ECH 75%: 120\n",
      "Number of shared genes: 8\n",
      "Genes in ECH 75% under positive selection:\n",
      "AMMECR1\n",
      "ENOX2\n",
      "RAP2C-AS1\n",
      "FAM120C\n",
      "PAK3\n",
      "TMEM164\n",
      "MAGT1\n",
      "CLCN5\n"
     ]
    },
    {
     "data": {
      "text/plain": [
       "([[8, 31], [112, 1249]], 0.014691099447761497)"
      ]
     },
     "execution_count": 37,
     "metadata": {},
     "output_type": "execute_result"
    }
   ],
   "source": [
    "# ECH 75%\n",
    "\n",
    "print(f\"Genes in ECH 75%: {len(df['ech75_regions'].dropna())}\")\n",
    "\n",
    "# Convert the list to a set\n",
    "selection_set = set(selection)\n",
    "\n",
    "# Convert df['ech75_regions'] to a set, dropping any NaN values\n",
    "ech75_set = set(df['ech75_regions'].dropna())\n",
    "\n",
    "# Find the intersection of the two sets\n",
    "shared_genes_75 = selection_set.intersection(ech75_set)\n",
    "\n",
    "# Print the number of shared genes\n",
    "print(f\"Number of shared genes: {len(shared_genes_75)}\")\n",
    "print(\"Genes in ECH 75% under positive selection:\")\n",
    "for gene in shared_genes_75:\n",
    "    print(gene)\n",
    "\n",
    "\n",
    "M = 1400 # All chrX genes\n",
    "N = 120 # All ECH 75% genes\n",
    "n = 39 # All genes under selection \n",
    "x = 8 # ECH 75% genes under selection\n",
    "\n",
    "          # Selection   # No selection            \n",
    "table = [[  x,           n - x          ],  # ECH 75% genes\n",
    "         [ N - x,        M - (n + N) + x]]  # Non ECH 75% genes\n",
    "table, fisher_exact(table, alternative='greater').pvalue"
   ]
  },
  {
   "cell_type": "code",
   "execution_count": 36,
   "id": "f8a23cec-4a7d-43a3-beb9-ab97ab97f4d5",
   "metadata": {},
   "outputs": [
    {
     "name": "stdout",
     "output_type": "stream",
     "text": [
      "Genes in ECH 90%: 94\n",
      "Number of shared genes: 6\n",
      "Genes in ECH 90% under positive selection:\n",
      "ENOX2\n",
      "RAP2C-AS1\n",
      "FAM120C\n",
      "PAK3\n",
      "MAGT1\n",
      "CLCN5\n"
     ]
    },
    {
     "data": {
      "text/plain": [
       "([[6, 33], [88, 1273]], 0.04189018794613577)"
      ]
     },
     "execution_count": 36,
     "metadata": {},
     "output_type": "execute_result"
    }
   ],
   "source": [
    "# ECH 90%\n",
    "\n",
    "print(f\"Genes in ECH 90%: {len(df['ech90_regions'].dropna())}\")\n",
    "\n",
    "# Convert the list to a set\n",
    "selection_set = set(selection)\n",
    "\n",
    "# Convert df['ech75_regions'] to a set, dropping any NaN values\n",
    "ech90_set = set(df['ech90_regions'].dropna())\n",
    "\n",
    "# Find the intersection of the two sets\n",
    "shared_genes_90 = selection_set.intersection(ech90_set)\n",
    "\n",
    "# Print the number of shared genes\n",
    "print(f\"Number of shared genes: {len(shared_genes_90)}\")\n",
    "# Print the list of shared genes\n",
    "print(\"Genes in ECH 90% under positive selection:\")\n",
    "for gene in shared_genes_90:\n",
    "    print(gene)\n",
    "\n",
    "M = 1400 # All chrX genes\n",
    "N = 94 # All ECH 90% genes\n",
    "n = 39 # All genes under selection \n",
    "x = 6 # ECH 90% genes under selection\n",
    "\n",
    "          # Selection   # No selection            \n",
    "table = [[  x,           n - x          ],  # ECH 90% genes\n",
    "         [ N - x,        M - (n + N) + x]]  # Non ECH 90% genes\n",
    "table, fisher_exact(table, alternative='greater').pvalue\n"
   ]
  },
  {
   "cell_type": "code",
   "execution_count": null,
   "id": "ff129ade-d9c6-4839-b62c-923665e716b0",
   "metadata": {},
   "outputs": [],
   "source": []
  }
 ],
 "metadata": {
  "kernelspec": {
   "display_name": "Python 3 (ipykernel)",
   "language": "python",
   "name": "python3"
  },
  "language_info": {
   "codemirror_mode": {
    "name": "ipython",
    "version": 3
   },
   "file_extension": ".py",
   "mimetype": "text/x-python",
   "name": "python",
   "nbconvert_exporter": "python",
   "pygments_lexer": "ipython3",
   "version": "3.8.18"
  }
 },
 "nbformat": 4,
 "nbformat_minor": 5
}
