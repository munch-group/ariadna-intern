{
 "cells": [
  {
   "cell_type": "code",
   "execution_count": 1,
   "id": "5aa4d500-6f37-41db-aaf6-1ed69420d3ec",
   "metadata": {},
   "outputs": [
    {
     "name": "stdout",
     "output_type": "stream",
     "text": [
      "1412\n",
      "77\n",
      "759\n",
      "562\n",
      "466\n"
     ]
    }
   ],
   "source": [
    "from scipy.stats import fisher_exact\n",
    "import pandas as pd\n",
    "\n",
    "def read_google_sheet():\n",
    "    SHEET_ID = '1JSjSLuto3jqdEnnG7JqzeC_1pUZw76n7XueVAYrUOpk'\n",
    "    SHEET_NAME = 'Sheet1'\n",
    "    url = f'https://docs.google.com/spreadsheets/d/{SHEET_ID}/gviz/tq?tqx=out:csv&sheet={SHEET_NAME}'\n",
    "    df = pd.read_csv(url, header=1)\n",
    "    return df.loc[:, [not x.startswith('Unnamed') for x in df.columns]]\n",
    "    \n",
    "def gene_list_names():\n",
    "    df = read_google_sheet()\n",
    "    return sorted(df.columns.tolist())\n",
    "\n",
    "def gene_list(name):\n",
    "    df = read_google_sheet()\n",
    "    sr = df[name]\n",
    "    return sr[~sr.isnull()]\n",
    "    \n",
    "all_set = set(gene_list('all_npx'))\n",
    "asd_set = set(gene_list('sfari_all_conf'))\n",
    "spermatid_set = set(gene_list('meritxell_spermatid_expr'))\n",
    "brain_set = set(gene_list('hpa_brain_prot'))\n",
    "neuron_set = set(gene_list('matos_neuron'))\n",
    "\n",
    "print(len(all_set))\n",
    "print(len(asd_set))\n",
    "print(len(spermatid_set))\n",
    "print(len(brain_set))\n",
    "print(len(neuron_set))"
   ]
  },
  {
   "cell_type": "markdown",
   "id": "bb9b7564-84b4-4e10-9e4e-a17447b73200",
   "metadata": {},
   "source": [
    "I removed the unannotated genes, the microRNA genes and the antisense genes. That leaves only well-annotated protein genes."
   ]
  },
  {
   "cell_type": "code",
   "execution_count": 2,
   "id": "a73430f9-169e-4833-96b0-869bb8484356",
   "metadata": {},
   "outputs": [
    {
     "name": "stdout",
     "output_type": "stream",
     "text": [
      "29\n"
     ]
    }
   ],
   "source": [
    "selection_set = {'ACSL4',\n",
    "'AMMECR1',\n",
    "'ARSL',\n",
    "'BCOR',\n",
    "'CASK',\n",
    "'CDKL5',\n",
    "'CLCN4',\n",
    "'CLCN5',\n",
    "'DMD',\n",
    "'ENOX2',\n",
    "'FAM120C',\n",
    "'FRMPD4',\n",
    "'G6PD',\n",
    "'GNL3L',\n",
    "'HUWE1',\n",
    "'IGSF1',\n",
    "'IL1RAPL1',\n",
    "# 'LINC01278',\n",
    "# 'LINC01278',\n",
    "# 'LOC101928359',\n",
    "# 'LOC105377212',\n",
    "# 'LOC112268307',\n",
    "# 'LOC124905191',\n",
    "'MAGT1',\n",
    "'MAMLD1',\n",
    "# 'MIR325HG',\n",
    "'NHS',\n",
    "'NYX',\n",
    "'PAK3',\n",
    "'PASD1',                 \n",
    "'PHKA1',\n",
    "'PRKX',\n",
    "'PTCHD1',\n",
    "# 'PTCHD1-AS',\n",
    "'RAB33A',\n",
    "# 'RAP2C-AS1',\n",
    "'RTL4',\n",
    "'TENM1',\n",
    "'TMEM164',\n",
    "'TMLHE',\n",
    "'WWC3',\n",
    "'XPNPEP2',\n",
    "'ZMYM3',\n",
    "'ZNF185'}\n",
    "len(selection_set)\n",
    "\n",
    "brain_sel = selection_set.intersection(brain_set)\n",
    "print(len(neuron_sel.intersection(spermatid_set)))"
   ]
  },
  {
   "cell_type": "code",
   "execution_count": 15,
   "id": "2bb42141-82af-4882-a735-dd668619fc3b",
   "metadata": {},
   "outputs": [
    {
     "name": "stdout",
     "output_type": "stream",
     "text": [
      "{'CLCN5', 'CLCN4', 'TMEM164', 'MAGT1', 'IGSF1', 'PRKX', 'PTCHD1', 'FAM120C', 'ZNF185', 'RAB33A', 'PAK3', 'FRMPD4', 'ACSL4', 'PHKA1', 'NYX', 'ZMYM3', 'G6PD', 'GNL3L', 'DMD', 'NHS', 'MAMLD1', 'HUWE1', 'ENOX2', 'AMMECR1', 'TENM1', 'TMLHE', 'WWC3', 'CASK', 'BCOR', 'CDKL5'} 30\n",
      "\n",
      "{'CLCN5', 'IL1RAPL1', 'ARSL', 'CLCN4', 'TMEM164', 'MAGT1', 'IGSF1', 'PRKX', 'PTCHD1', 'FAM120C', 'ZNF185', 'RAB33A', 'PAK3', 'FRMPD4', 'ACSL4', 'PHKA1', 'ZMYM3', 'G6PD', 'GNL3L', 'DMD', 'NHS', 'MAMLD1', 'HUWE1', 'ENOX2', 'AMMECR1', 'TENM1', 'TMLHE', 'WWC3', 'CASK', 'BCOR', 'CDKL5'} 31\n",
      "\n",
      "{'CLCN5', 'CLCN4', 'TMEM164', 'MAGT1', 'IGSF1', 'PRKX', 'PTCHD1', 'FAM120C', 'ZNF185', 'RAB33A', 'PAK3', 'FRMPD4', 'ACSL4', 'PHKA1', 'ZMYM3', 'G6PD', 'GNL3L', 'DMD', 'NHS', 'MAMLD1', 'HUWE1', 'ENOX2', 'AMMECR1', 'TENM1', 'TMLHE', 'WWC3', 'CASK', 'BCOR', 'CDKL5'} 29\n"
     ]
    }
   ],
   "source": [
    "x = selection_set.intersection(neuron_set)\n",
    "print(x, len(x))\n",
    "print()\n",
    "y = selection_set.intersection(brain_set)\n",
    "print(y, len(y))\n",
    "print()\n",
    "\n",
    "brain_neuron = x.intersection(y)\n",
    "print(brain_neuron, len(brain_neuron))\n",
    "\n",
    "# NYX is expressed in neurons but no in brain --> ?\n",
    "# IL1RAPL1, ARSL are brain genes, but not expressed in neurons --> OKAY"
   ]
  },
  {
   "cell_type": "code",
   "execution_count": 13,
   "id": "7aeacb03-caa4-4cf2-953a-940b182446a0",
   "metadata": {},
   "outputs": [
    {
     "name": "stdout",
     "output_type": "stream",
     "text": [
      "{'CLCN5', 'CLCN4', 'TMEM164', 'MAGT1', 'PRKX', 'PTCHD1', 'FAM120C', 'ZNF185', 'RAB33A', 'PAK3', 'FRMPD4', 'ACSL4', 'PHKA1', 'ZMYM3', 'G6PD', 'GNL3L', 'DMD', 'NHS', 'MAMLD1', 'HUWE1', 'ENOX2', 'AMMECR1', 'TENM1', 'TMLHE', 'WWC3', 'CASK', 'BCOR', 'CDKL5'} 28\n",
      "\n",
      "{'LANCL3', 'BRWD3', 'PCDH11X', 'ZFX', 'ATG4A', 'PIR', 'NUP62CL', 'MAGT1', 'MOSPD1', 'TBC1D8B', 'PRKX', 'BCORL1', 'AP1S2', 'PUDP', 'KLHL13', 'NHS', 'MAMLD1', 'RBMX2', 'HPRT1', 'ENOX2', 'MID1IP1', 'GLRA2', 'TXLNG', 'TIMP1', 'BEX4', 'ARHGEF9', 'PNPLA4', 'OFD1', 'PCSK1N', 'CUL4B', 'AIFM1', 'FRMPD3', 'TSPAN6', 'LAS1L', 'ATP6AP1', 'HMGB3', 'ARAF', 'NLGN4X', 'SCML2', 'MBTPS2', 'GLA', 'BCAP31', 'PHF6', 'AMMECR1', 'CCDC120', 'PHEX', 'RBM41', 'TFE3', 'HCCS', 'PORCN', 'LDOC1', 'CA5B', 'RBMX', 'ZDHHC15', 'CSTF2', 'ELK1', 'CLCN4', 'NONO', 'EBP', 'SLC9A7', 'ARMCX4', 'DMD', 'RENBP', 'YIPF6', 'SYN1', 'WNK3', 'WWC3', 'GRIA3', 'MECP2', 'ABCD1', 'RPL10', 'MCTS1', 'APOOL', 'PRICKLE3', 'FUNDC2', 'ZNF81', 'IGBP1', 'MED14', 'ARSD', 'SH3BGRL', 'IRAK1', 'MAP7D2', 'GABRA3', 'PHKA2', 'GEMIN8', 'FTSJ1', 'STAG2', 'PLXNA3', 'LAGE3', 'PRPS1', 'CTPS2', 'HDAC6', 'PPP1R3F', 'TMEM164', 'MSL3', 'FRMPD4', 'FGD1', 'RRAGB', 'EMD', 'EIF2S3', 'RADX', 'RBBP7', 'CD99L2', 'RPS4X', 'RBM3', 'RAB9B', 'NKRF', 'ACOT9', 'TAFAZZIN', 'UBE2A', 'PNCK', 'RAI2', 'PABIR3', 'ZMYM3', 'CYSLTR1', 'DYNLT3', 'FLNA', 'HSD17B10', 'MAOB', 'ZDHHC9', 'HDX', 'AFF2', 'ADGRG2', 'GLOD5', 'ABCB7', 'CDKL5', 'GPM6B', 'EFHC2', 'IL13RA1', 'DDX3X', 'SCML1', 'TSPYL2', 'TAF1', 'MORF4L2', 'DACH2', 'PHKA1', 'LRCH2', 'KRBOX4', 'KLF8', 'MBNL3', 'OCRL', 'FGF13', 'KLHL4', 'STEEP1', 'SH3KBP1', 'FAM9B', 'EIF1AX', 'GDI1', 'CETN2', 'ZNF41', 'CHM', 'TMEM47', 'NDUFA1', 'RPL39', 'DKC1', 'VMA21', 'ZNF182', 'FHL1', 'DLG3', 'RAB33A', 'RIBC1', 'ACSL4', 'MCF2', 'PHF8', 'CITED1', 'ZNF674', 'TIMM17B', 'MED12', 'PRAF2', 'HUWE1', 'RAB9A', 'RS1', 'CHIC1', 'MPP1', 'ZC3H12B', 'MAP7D3', 'PPEF1', 'PQBP1', 'FMR1', 'CDK16', 'PCDH19', 'IDS', 'PGK1', 'DIAPH2', 'FANCB', 'SNX12', 'SLC16A2', 'ALG13', 'SMC1A', 'HAUS7', 'G6PD', 'PDHA1', 'ANOS1', 'MID1', 'SLC25A53', 'NAA10', 'C1GALT1C1', 'GPR173', 'MAP3K15', 'AMOT', 'GK', 'ZNF75D', 'FAM199X', 'FAM50A', 'TSPAN7', 'PTCHD1', 'FUNDC1', 'NDUFB11', 'MORC4', 'JADE3', 'MMGT1', 'GNL3L', 'WDR13', 'ADGRG4', 'ZNF449', 'RP2', 'CNKSR2', 'MAGED1', 'OTUD5', 'PGRMC1', 'ARHGAP6', 'OPHN1', 'TMSB4X', 'NLGN3', 'RPS6KA3', 'LONRF3', 'RAP2C', 'BEX1', 'MOSPD2', 'TAB3', 'FAM9C', 'TAF9B', 'TENM1', 'TMLHE', 'CASK', 'PBDC1', 'GPC3', 'UBA1', 'HNRNPH2', 'SAT1', 'RPGR', 'GYG2', 'KLHL15', 'CLCN5', 'MSN', 'FAM133A', 'PJA1', 'PDZD11', 'RPS6KA6', 'ATP7A', 'PCYT1B', 'SLC25A14', 'ARHGAP4', 'POLA1', 'ZMAT1', 'ZNF185', 'TCEAL4', 'XK', 'MAGED2', 'KDM6A', 'CHST7', 'CHRDL1', 'RPL36A', 'GSPT2', 'TMEM187', 'CFAP47', 'USP9X', 'RAB41', 'FAAH2', 'FAM3A', 'TCEAL8', 'ZIC3', 'HCFC1', 'PABIR2', 'PLP2', 'CLIC2', 'REPS2', 'SLC35A2', 'UPF3B', 'UXT', 'DNASE1L1', 'HTATSF1', 'MID2', 'ARHGEF6', 'OGT', 'RLIM', 'HMGN5', 'PDK3', 'PRDX4', 'UTP14A', 'SYAP1', 'TKTL1', 'BCOR', 'BEX2', 'TSC22D3', 'GPR82', 'CXorf58', 'TCEAL1', 'WDR45', 'RHOXF1', 'NXT2', 'PIGA', 'USP11', 'SYP', 'GUCY2F', 'XIAP', 'PLS3', 'IDH3G', 'SMS', 'PSMD10', 'TBL1X', 'TSR2', 'GPKOW', 'ATP11C', 'SLC25A5', 'ZRSR2', 'SHROOM2', 'ZNF280C', 'SLC6A8', 'CXorf38', 'SSR4', 'CMC4', 'PRRG1', 'COX7B', 'UPRT', 'NKAP', 'TIMM8A', 'STS', 'APOO', 'ZBTB33', 'GRIPAP1', 'SLC9A6', 'ATRX', 'SEPTIN6', 'BRCC3', 'HDAC8', 'PIN4', 'TRMT2B', 'OTUD6A', 'USP51', 'ZC4H2', 'TBC1D25', 'F8', 'ZNF711', 'THOC2', 'KDM5C', 'FAM120C', 'PAK3', 'ATP6AP2', 'WDR44', 'SMARCA1', 'MAOA', 'VBP1', 'PDZD4', 'LAMP2'} 355\n"
     ]
    }
   ],
   "source": [
    "z = selection_set.intersection(neuron_set).intersection(spermatid_set)\n",
    "print(z, len(z))\n",
    "print()\n",
    "\n",
    "t = spermatid_set.intersection(neuron_set)\n",
    "print(t, len(t))"
   ]
  },
  {
   "cell_type": "code",
   "execution_count": 14,
   "id": "bc845b53-d480-4d84-ad29-4e3cb382e70c",
   "metadata": {},
   "outputs": [
    {
     "data": {
      "text/plain": [
       "([[28, 2], [327, 109]], 0.012810619118361193)"
      ]
     },
     "execution_count": 14,
     "metadata": {},
     "output_type": "execute_result"
    }
   ],
   "source": [
    "M = 466 \n",
    "N = 355\n",
    "n = 30\n",
    "x = 28\n",
    "\n",
    "table = [[  x,           n - x          ],\n",
    "         [ N - x,        M - (n + N) + x]]\n",
    "table, fisher_exact(table, alternative='greater').pvalue"
   ]
  },
  {
   "cell_type": "code",
   "execution_count": 12,
   "id": "eb66c36e-21a9-4351-9259-32a59953b874",
   "metadata": {},
   "outputs": [
    {
     "data": {
      "text/plain": [
       "([[66, 2], [5, 4]], 0.0012471014633956233)"
      ]
     },
     "execution_count": 12,
     "metadata": {},
     "output_type": "execute_result"
    }
   ],
   "source": [
    "# ASD-related genes are more likely to be expressed in neurons+spermatids than in only neurons\n",
    "M = len(asd_set) \n",
    "N = len(asd_set.intersection(brain_set)) \n",
    "n = len(asd_set.intersection(spermatid_set))\n",
    "x = len(asd_set.intersection(spermatid_set).intersection(brain_set))\n",
    "\n",
    "table = [[  x,           n - x          ],\n",
    "         [ N - x,        M - (n + N) + x]]\n",
    "table, fisher_exact(table, alternative='greater').pvalue"
   ]
  },
  {
   "cell_type": "code",
   "execution_count": 4,
   "id": "5bf83b11-bfff-4509-8e2b-47de7ac83233",
   "metadata": {},
   "outputs": [
    {
     "data": {
      "text/plain": [
       "([[9, 26], [68, 1309]], 5.947106735011354e-05)"
      ]
     },
     "execution_count": 4,
     "metadata": {},
     "output_type": "execute_result"
    }
   ],
   "source": [
    "# H1: Positively selected genes are enriched for ASD\n",
    "M = len(all_set)\n",
    "N = len(all_set.intersection(asd_set))\n",
    "n = len(all_set.intersection(selection_set))\n",
    "x = len(all_set.intersection(asd_set).intersection(selection_set))\n",
    "\n",
    "table = [[  x,           n - x          ],  \n",
    "         [ N - x,        M - (n + N) + x]] \n",
    "table, fisher_exact(table, alternative='greater').pvalue"
   ]
  },
  {
   "cell_type": "code",
   "execution_count": 1,
   "id": "aa272d86-f8c0-48d1-9eb2-bf85079ce243",
   "metadata": {},
   "outputs": [
    {
     "ename": "NameError",
     "evalue": "name 'brain_set' is not defined",
     "output_type": "error",
     "traceback": [
      "\u001b[0;31m---------------------------------------------------------------------------\u001b[0m",
      "\u001b[0;31mNameError\u001b[0m                                 Traceback (most recent call last)",
      "Cell \u001b[0;32mIn[1], line 2\u001b[0m\n\u001b[1;32m      1\u001b[0m \u001b[38;5;66;03m# H2: Positive selection is more common in genes that are involved in both spermatid and neuron than just in neuron\u001b[39;00m\n\u001b[0;32m----> 2\u001b[0m M \u001b[38;5;241m=\u001b[39m \u001b[38;5;28mlen\u001b[39m(\u001b[43mbrain_set\u001b[49m)\n\u001b[1;32m      3\u001b[0m N \u001b[38;5;241m=\u001b[39m \u001b[38;5;28mlen\u001b[39m(brain_set\u001b[38;5;241m.\u001b[39mintersection(spermatid_set))\n\u001b[1;32m      4\u001b[0m n \u001b[38;5;241m=\u001b[39m \u001b[38;5;28mlen\u001b[39m(brain_set\u001b[38;5;241m.\u001b[39mintersection(selection_set))\n",
      "\u001b[0;31mNameError\u001b[0m: name 'brain_set' is not defined"
     ]
    }
   ],
   "source": [
    "# H2: Positive selection is more common in genes that are involved in both spermatid and neuron than just in neuron\n",
    "M = len(brain_set)\n",
    "N = len(brain_set.intersection(spermatid_set))\n",
    "n = len(brain_set.intersection(selection_set))\n",
    "x = len(brain_set.intersection(spermatid_set).intersection(selection_set))\n",
    "\n",
    "table = [[  x,           n - x          ],\n",
    "         [ N - x,        M - (n + N) + x]]\n",
    "table, fisher_exact(table, alternative='greater').pvalue"
   ]
  },
  {
   "cell_type": "code",
   "execution_count": 6,
   "id": "a6475f74-95f7-4365-9903-9a23e9880016",
   "metadata": {},
   "outputs": [
    {
     "data": {
      "text/plain": [
       "([[9, 0], [59, 9]], 0.30547534876941307)"
      ]
     },
     "execution_count": 6,
     "metadata": {},
     "output_type": "execute_result"
    }
   ],
   "source": [
    "# H2: Positive selection is more common in ASD genes also expressed in spermatids\n",
    "M = len(asd_set)\n",
    "N = len(asd_set.intersection(spermatid_set))\n",
    "n = len(asd_set.intersection(selection_set))\n",
    "x = len(asd_set.intersection(spermatid_set).intersection(selection_set))\n",
    "\n",
    "table = [[  x,           n - x          ],\n",
    "         [ N - x,        M - (n + N) + x]]\n",
    "table, fisher_exact(table, alternative='greater').pvalue"
   ]
  },
  {
   "cell_type": "code",
   "execution_count": 7,
   "id": "276829f5-a7b8-4be5-902e-d9e60ed4fb25",
   "metadata": {},
   "outputs": [
    {
     "data": {
      "text/plain": [
       "([[28, 3], [327, 108]], 0.03721007992246583)"
      ]
     },
     "execution_count": 7,
     "metadata": {},
     "output_type": "execute_result"
    }
   ],
   "source": [
    "# H2: Positive selection is more common in genes that are involved in both spermatid and neuron than just in neuron\n",
    "M = len(neuron_set)\n",
    "N = len(neuron_set.intersection(spermatid_set))\n",
    "n = 31#len(neuron_set.intersection(selection_set))\n",
    "x = len(neuron_set.intersection(spermatid_set).intersection(selection_set))\n",
    "\n",
    "table = [[  x,           n - x          ],\n",
    "         [ N - x,        M - (n + N) + x]]\n",
    "table, fisher_exact(table, alternative='greater').pvalue\n"
   ]
  },
  {
   "cell_type": "code",
   "execution_count": null,
   "id": "8d6e1423-c5ba-4128-b33e-16e9a8877edb",
   "metadata": {},
   "outputs": [],
   "source": []
  }
 ],
 "metadata": {
  "kernelspec": {
   "display_name": "Python 3 (ipykernel)",
   "language": "python",
   "name": "python3"
  },
  "language_info": {
   "codemirror_mode": {
    "name": "ipython",
    "version": 3
   },
   "file_extension": ".py",
   "mimetype": "text/x-python",
   "name": "python",
   "nbconvert_exporter": "python",
   "pygments_lexer": "ipython3",
   "version": "3.8.18"
  }
 },
 "nbformat": 4,
 "nbformat_minor": 5
}
